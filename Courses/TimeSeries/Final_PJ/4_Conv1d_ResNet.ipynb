{
 "cells": [
  {
   "cell_type": "code",
   "execution_count": 1,
   "id": "93e9bbaf179eb791",
   "metadata": {
    "ExecuteTime": {
     "end_time": "2024-01-23T07:47:28.360862500Z",
     "start_time": "2024-01-23T07:47:24.587235600Z"
    },
    "collapsed": false,
    "jupyter": {
     "outputs_hidden": false
    }
   },
   "outputs": [],
   "source": [
    "import pandas as pd\n",
    "import numpy as np\n",
    "import matplotlib.pyplot as plt\n",
    "%matplotlib inline\n",
    "import torch\n",
    "import torch\n",
    "import torch.nn as nn\n",
    "import torch.nn.functional as F"
   ]
  },
  {
   "cell_type": "code",
   "execution_count": 2,
   "id": "825eb2a62f8d14a9",
   "metadata": {
    "ExecuteTime": {
     "end_time": "2024-01-23T07:47:28.515114300Z",
     "start_time": "2024-01-23T07:47:28.361869700Z"
    },
    "collapsed": false,
    "jupyter": {
     "outputs_hidden": false
    }
   },
   "outputs": [
    {
     "data": {
      "text/html": [
       "<div>\n",
       "<style scoped>\n",
       "    .dataframe tbody tr th:only-of-type {\n",
       "        vertical-align: middle;\n",
       "    }\n",
       "\n",
       "    .dataframe tbody tr th {\n",
       "        vertical-align: top;\n",
       "    }\n",
       "\n",
       "    .dataframe thead th {\n",
       "        text-align: right;\n",
       "    }\n",
       "</style>\n",
       "<table border=\"1\" class=\"dataframe\">\n",
       "  <thead>\n",
       "    <tr style=\"text-align: right;\">\n",
       "      <th></th>\n",
       "      <th>date</th>\n",
       "      <th>IF_close</th>\n",
       "      <th>code</th>\n",
       "      <th>strike</th>\n",
       "      <th>IOIF_delta_price</th>\n",
       "      <th>exp_day</th>\n",
       "      <th>IO_close</th>\n",
       "    </tr>\n",
       "  </thead>\n",
       "  <tbody>\n",
       "    <tr>\n",
       "      <th>0</th>\n",
       "      <td>2020-01-20</td>\n",
       "      <td>4194.8</td>\n",
       "      <td>IO2002-C-3550</td>\n",
       "      <td>3550</td>\n",
       "      <td>-644.8</td>\n",
       "      <td>32</td>\n",
       "      <td>643.8</td>\n",
       "    </tr>\n",
       "    <tr>\n",
       "      <th>1</th>\n",
       "      <td>2020-01-20</td>\n",
       "      <td>4194.8</td>\n",
       "      <td>IO2002-C-3600</td>\n",
       "      <td>3600</td>\n",
       "      <td>-594.8</td>\n",
       "      <td>32</td>\n",
       "      <td>594.0</td>\n",
       "    </tr>\n",
       "    <tr>\n",
       "      <th>2</th>\n",
       "      <td>2020-01-20</td>\n",
       "      <td>4194.8</td>\n",
       "      <td>IO2002-C-3650</td>\n",
       "      <td>3650</td>\n",
       "      <td>-544.8</td>\n",
       "      <td>32</td>\n",
       "      <td>553.2</td>\n",
       "    </tr>\n",
       "    <tr>\n",
       "      <th>3</th>\n",
       "      <td>2020-01-20</td>\n",
       "      <td>4194.8</td>\n",
       "      <td>IO2002-C-3700</td>\n",
       "      <td>3700</td>\n",
       "      <td>-494.8</td>\n",
       "      <td>32</td>\n",
       "      <td>506.4</td>\n",
       "    </tr>\n",
       "    <tr>\n",
       "      <th>4</th>\n",
       "      <td>2020-01-20</td>\n",
       "      <td>4194.8</td>\n",
       "      <td>IO2002-C-3750</td>\n",
       "      <td>3750</td>\n",
       "      <td>-444.8</td>\n",
       "      <td>32</td>\n",
       "      <td>457.0</td>\n",
       "    </tr>\n",
       "  </tbody>\n",
       "</table>\n",
       "</div>"
      ],
      "text/plain": [
       "         date  IF_close           code  strike  IOIF_delta_price  exp_day  \\\n",
       "0  2020-01-20    4194.8  IO2002-C-3550    3550            -644.8       32   \n",
       "1  2020-01-20    4194.8  IO2002-C-3600    3600            -594.8       32   \n",
       "2  2020-01-20    4194.8  IO2002-C-3650    3650            -544.8       32   \n",
       "3  2020-01-20    4194.8  IO2002-C-3700    3700            -494.8       32   \n",
       "4  2020-01-20    4194.8  IO2002-C-3750    3750            -444.8       32   \n",
       "\n",
       "   IO_close  \n",
       "0     643.8  \n",
       "1     594.0  \n",
       "2     553.2  \n",
       "3     506.4  \n",
       "4     457.0  "
      ]
     },
     "execution_count": 2,
     "metadata": {},
     "output_type": "execute_result"
    }
   ],
   "source": [
    "# data_IO_C_all.to_csv('data_IO_C_all.csv',index=False)\n",
    "data_IO_C_all=pd.read_csv('data_IO_C_all.csv')\n",
    "data_IO_C_all.head()"
   ]
  },
  {
   "cell_type": "markdown",
   "id": "92db9a7fdc390d10",
   "metadata": {},
   "source": [
    "# 用LSTM来拟合CALL_STL_PRICE和PUT_STL_PRICE"
   ]
  },
  {
   "cell_type": "code",
   "execution_count": 3,
   "id": "7c4ace2c1c9ca137",
   "metadata": {
    "ExecuteTime": {
     "end_time": "2024-01-23T07:47:29.459497800Z",
     "start_time": "2024-01-23T07:47:28.513114400Z"
    },
    "collapsed": false,
    "jupyter": {
     "outputs_hidden": false
    }
   },
   "outputs": [],
   "source": [
    "import numpy as np\n",
    "from sklearn.model_selection import train_test_split\n",
    "from sklearn.preprocessing import StandardScaler\n",
    "import torch\n",
    "from torch.utils.data import TensorDataset, DataLoader\n",
    "def create_sequences(data, sequence_length):\n",
    "    sequences = []\n",
    "    for i in range(len(data) - sequence_length + 1):\n",
    "        sequences.append(data[i:i + sequence_length])\n",
    "    return np.array(sequences)\n",
    "\n",
    "def LoadData(df, sequence_length):\n",
    "    features = df[['IF_close', 'IOIF_delta_price', 'exp_day']].values\n",
    "    labels = df['IO_close'].values\n",
    "\n",
    "    # 数据标准化\n",
    "    scaler = StandardScaler()\n",
    "    features = scaler.fit_transform(features)\n",
    "\n",
    "    # 创建序列\n",
    "    X = create_sequences(features, sequence_length)\n",
    "    y = labels[sequence_length-1:]\n",
    "\n",
    "    # 划分数据集\n",
    "    X_train, X_test, y_train, y_test = train_test_split(X, y, test_size=0.2, shuffle=False)\n",
    "    X_train, X_val, y_train, y_val = train_test_split(X_train, y_train, test_size=0.15, shuffle=False)\n",
    "    \n",
    "    # 转换为PyTorch张量\n",
    "    X_train = torch.tensor(X_train, dtype=torch.float32)\n",
    "    y_train = torch.tensor(y_train, dtype=torch.float32)\n",
    "    X_val = torch.tensor(X_val, dtype=torch.float32)\n",
    "    y_val = torch.tensor(y_val, dtype=torch.float32)\n",
    "    X_test = torch.tensor(X_test, dtype=torch.float32)\n",
    "    y_test = torch.tensor(y_test, dtype=torch.float32)\n",
    "\n",
    "    # DataLoader\n",
    "    train_data = TensorDataset(X_train, y_train)\n",
    "    val_data = TensorDataset(X_val, y_val)\n",
    "    test_data = TensorDataset(X_test, y_test)\n",
    "\n",
    "    Batch_size = 64\n",
    "    \n",
    "    train_loader = DataLoader(train_data, batch_size=Batch_size, shuffle=True)\n",
    "    val_loader = DataLoader(val_data, batch_size=Batch_size)\n",
    "    test_loader = DataLoader(test_data, batch_size=Batch_size)\n",
    "    \n",
    "    return train_loader, val_loader, test_loader"
   ]
  },
  {
   "cell_type": "code",
   "execution_count": 4,
   "id": "91b77169180b19da",
   "metadata": {
    "ExecuteTime": {
     "end_time": "2024-01-23T07:47:29.461498100Z",
     "start_time": "2024-01-23T07:47:29.456088200Z"
    },
    "collapsed": false,
    "jupyter": {
     "outputs_hidden": false
    }
   },
   "outputs": [],
   "source": [
    "import torch.nn as nn"
   ]
  },
  {
   "cell_type": "code",
   "execution_count": 5,
   "id": "1f5c6fb2-22aa-4104-a38e-5bd5794edc4c",
   "metadata": {
    "ExecuteTime": {
     "end_time": "2024-01-23T07:47:29.484363400Z",
     "start_time": "2024-01-23T07:47:29.465501500Z"
    }
   },
   "outputs": [],
   "source": [
    "#定义参数的CLASS\n",
    "class Args():\n",
    "    def __init__(self):\n",
    "        self.lr=0.01\n",
    "        self.num_epochs=150\n",
    "        self.best_val_loss=float('inf')\n",
    "        self.device=torch.device('cuda' if torch.cuda.is_available() else 'cpu')\n",
    "        print(f'Using {self.device}')\n",
    "        self.criterion=nn.MSELoss()\n",
    "        self.optimizer=torch.optim.Adam(model.parameters(), lr=0.01)\n",
    "        #self.scheduler=ReduceLROnPlateau(optimizer, 'min', patience=5, factor=0.1, min_lr=1e-6, verbose=True)"
   ]
  },
  {
   "cell_type": "code",
   "execution_count": 6,
   "id": "2dfa2e3653f4421b",
   "metadata": {
    "ExecuteTime": {
     "end_time": "2024-01-23T07:47:29.506071800Z",
     "start_time": "2024-01-23T07:47:29.485362100Z"
    },
    "collapsed": false,
    "jupyter": {
     "outputs_hidden": false
    }
   },
   "outputs": [],
   "source": [
    "from torch.optim.lr_scheduler import ReduceLROnPlateau\n",
    "import torch\n",
    "def train(model, train_loader, val_loader, args):\n",
    "    torch.autograd.set_detect_anomaly(True)\n",
    "    print(f'Training on {args.device}...')\n",
    "    model.to(args.device)\n",
    "    criterion = args.criterion\n",
    "    optimizer = args.optimizer\n",
    "    scheduler = ReduceLROnPlateau(optimizer, 'min', patience=5, factor=0.1, min_lr=1e-7, verbose=True)\n",
    "\n",
    "    num_epochs = args.num_epochs\n",
    "    best_val_loss = args.best_val_loss\n",
    "\n",
    "    early_stop_patience = 10  # 设置早停\n",
    "    epochs_no_improve = 0 \n",
    "\n",
    "    for epoch in range(num_epochs):\n",
    "        model.train()\n",
    "        running_loss = 0.0\n",
    "\n",
    "        for inputs, targets in train_loader:\n",
    "            inputs, targets = inputs.to(args.device), targets.to(args.device)\n",
    "            optimizer.zero_grad()\n",
    "            outputs = model(inputs)\n",
    "            loss = criterion(outputs, targets.unsqueeze(1))\n",
    "            loss.backward()\n",
    "            optimizer.step()\n",
    "            running_loss += loss.item()\n",
    "\n",
    "        model.eval()\n",
    "        total_loss = 0.0\n",
    "\n",
    "        with torch.no_grad():\n",
    "            for inputs, targets in val_loader:\n",
    "                inputs, targets = inputs.to(args.device), targets.to(args.device)\n",
    "                outputs = model(inputs)\n",
    "                outputs = outputs.squeeze(1)\n",
    "                loss = criterion(outputs, targets)\n",
    "                total_loss += loss.item()\n",
    "\n",
    "        avg_val_loss = total_loss / len(val_loader)\n",
    "        print(f'Epoch [{epoch+1}/{num_epochs}], Training Loss: {running_loss/len(train_loader):.4f}, Validation Loss: {avg_val_loss:.4f}')\n",
    "\n",
    "        # 更新 scheduler\n",
    "        scheduler.step(avg_val_loss)\n",
    "\n",
    "        # 保存最好的模型，并检查早停条件\n",
    "        if avg_val_loss < best_val_loss:\n",
    "            best_val_loss = avg_val_loss\n",
    "            torch.save(model.state_dict(), 'best_model.pt')\n",
    "            epochs_no_improve = 0\n",
    "        else:\n",
    "            epochs_no_improve += 1\n",
    "            \n",
    "        # 检查是否达到早停条件\n",
    "        if epochs_no_improve == early_stop_patience:\n",
    "            print(f'Early stopping triggered after {epoch + 1} epochs!')\n",
    "            break\n",
    "    print(\"模型训练完成！\")\n",
    "    return model"
   ]
  },
  {
   "cell_type": "code",
   "execution_count": 7,
   "id": "c43554f55a844099",
   "metadata": {
    "ExecuteTime": {
     "end_time": "2024-01-23T07:47:29.507076300Z",
     "start_time": "2024-01-23T07:47:29.500269200Z"
    },
    "collapsed": false,
    "jupyter": {
     "outputs_hidden": false
    }
   },
   "outputs": [],
   "source": [
    "# 模型评估\n",
    "def TEST(test_loader,args,model):\n",
    "    print(f'Testing on {args.device}...')\n",
    "    model.to(args.device)\n",
    "    criterion=args.criterion\n",
    "    model.eval()  \n",
    "    total_loss = 0.0\n",
    "    \n",
    "    with torch.no_grad():  # 在评估阶段不计算梯度\n",
    "        for inputs, targets in test_loader:\n",
    "            # 将数据移动到GPU上\n",
    "            inputs,targets = inputs.to(args.device),targets.to(args.device)\n",
    "            outputs = model(inputs)\n",
    "            loss = criterion(outputs, targets.unsqueeze(1))\n",
    "            total_loss += loss.item()\n",
    "            \n",
    "    #绘图和计算误差\n",
    "    model.eval()  \n",
    "    predictions = []\n",
    "    actuals = []\n",
    "    for inputs, targets in test_loader:\n",
    "        inputs,targets = inputs.to(args.device),targets.to(args.device)\n",
    "        outputs = model(inputs)\n",
    "        predictions.extend(outputs.view(-1).tolist())\n",
    "        actuals.extend(targets.tolist())\n",
    "        \n",
    "    # 转换为numpy数组以便绘图\n",
    "    predictions = np.array(predictions)\n",
    "    actuals = np.array(actuals)\n",
    "    \n",
    "    # 可视化1: 真实值与预测值的对比\n",
    "    plt.figure(figsize=(12, 6))\n",
    "    plt.plot(actuals[-300:], label='true', color='blue')\n",
    "    plt.plot(predictions[-300:], label='pred', color='red')\n",
    "    plt.title('Label: true vs pred')\n",
    "    plt.xlabel('date')\n",
    "    plt.ylabel('IO_close')\n",
    "    plt.legend()\n",
    "    plt.show()\n",
    "    \n",
    "    # 可视化2: 预测误差的分布\n",
    "    errors = actuals - predictions\n",
    "    plt.figure(figsize=(12, 6))\n",
    "    plt.hist(errors, bins=50, color='gray')\n",
    "    plt.title('pred_erro_distribution')\n",
    "    plt.xlabel('pred_error')\n",
    "    plt.ylabel('counts')\n",
    "    plt.show()\n",
    "    \n",
    "    # 将测试集的实际值和预测值转换为numpy数组（如果它们还不是的话）\n",
    "    actuals_np = np.array(actuals)  \n",
    "    predictions_np = np.array(predictions)  \n",
    "    results_df = pd.DataFrame({'y_test': actuals_np,'y_test_pred': predictions_np})\n",
    "    # 显示DataFrame的前几行\n",
    "    print(\"\\n展示部分test_set上的拟合效果\")\n",
    "    print(results_df.head())\n",
    "    print('\\n')\n",
    "    print(f'测试集平均损失: {total_loss/len(test_loader):.4f}\\n')\n",
    "    return results_df"
   ]
  },
  {
   "cell_type": "code",
   "execution_count": 8,
   "id": "fe5ba4b88dfe9788",
   "metadata": {
    "ExecuteTime": {
     "end_time": "2024-01-23T07:47:29.521265700Z",
     "start_time": "2024-01-23T07:47:29.505072500Z"
    },
    "collapsed": false,
    "jupyter": {
     "outputs_hidden": false
    }
   },
   "outputs": [],
   "source": [
    "import torch\n",
    "import torch.nn as nn\n",
    "\n",
    "class LSTMResNet(nn.Module):\n",
    "    def __init__(self, num_features, hidden_size, num_layers, output_size):\n",
    "        super(LSTMResNet, self).__init__()\n",
    "        self.hidden_size = hidden_size\n",
    "        self.num_layers = num_layers\n",
    "        \n",
    "        # LSTM layer\n",
    "        self.lstm = nn.LSTM(input_size=num_features, hidden_size=hidden_size, num_layers=num_layers, batch_first=True)\n",
    "        # Fully connected layer\n",
    "        self.fc = nn.Linear(hidden_size, output_size)\n",
    "\n",
    "        # Residual connection\n",
    "        self.shortcut = nn.Sequential(\n",
    "            nn.Linear(num_features, hidden_size),\n",
    "            nn.ReLU(),\n",
    "            nn.Linear(hidden_size, output_size)\n",
    "        )\n",
    "\n",
    "    def forward(self, x):\n",
    "        # Initial hidden state and cell state\n",
    "        h0 = torch.zeros(self.num_layers, x.size(0), self.hidden_size).to(x.device)\n",
    "        c0 = torch.zeros(self.num_layers, x.size(0), self.hidden_size).to(x.device)\n",
    "        \n",
    "        # Forward propagate LSTM\n",
    "        out, _ = self.lstm(x, (h0, c0))\n",
    "        # Take the output of the last time step\n",
    "        out = out[:, -1, :]\n",
    "        \n",
    "        # Residual connection\n",
    "        residual = self.shortcut(x[:, -1, :])\n",
    "        \n",
    "        # Final output\n",
    "        out = self.fc(out) + residual\n",
    "        return out\n"
   ]
  },
  {
   "cell_type": "code",
   "execution_count": 9,
   "id": "4574e22a8257528",
   "metadata": {
    "ExecuteTime": {
     "end_time": "2024-01-23T07:47:29.521265700Z",
     "start_time": "2024-01-23T07:47:29.517571600Z"
    },
    "collapsed": false,
    "jupyter": {
     "outputs_hidden": false
    }
   },
   "outputs": [],
   "source": [
    "model = LSTMResNet(num_features=3, hidden_size=64, num_layers=2, output_size=1)"
   ]
  },
  {
   "cell_type": "code",
   "execution_count": 10,
   "id": "c96dec81edf5dd33",
   "metadata": {
    "ExecuteTime": {
     "end_time": "2024-01-23T07:47:29.536779700Z",
     "start_time": "2024-01-23T07:47:29.523267100Z"
    },
    "collapsed": false,
    "jupyter": {
     "outputs_hidden": false
    }
   },
   "outputs": [
    {
     "data": {
      "text/plain": [
       "'\\ntrain_loader,va_loader,test_loader=LoadData(data_IO_C_all,sequence_length=10)\\nargs=Args()\\nmodel=train(model,train_loader,va_loader,args)\\nTEST(test_loader,args,model)\\n'"
      ]
     },
     "execution_count": 10,
     "metadata": {},
     "output_type": "execute_result"
    }
   ],
   "source": [
    "'''\n",
    "train_loader,va_loader,test_loader=LoadData(data_IO_C_all,sequence_length=10)\n",
    "args=Args()\n",
    "model=train(model,train_loader,va_loader,args)\n",
    "TEST(test_loader,args,model)\n",
    "'''"
   ]
  },
  {
   "cell_type": "code",
   "execution_count": 11,
   "id": "d8a33294c6cad65f",
   "metadata": {
    "ExecuteTime": {
     "end_time": "2024-01-23T07:47:29.568011100Z",
     "start_time": "2024-01-23T07:47:29.530980300Z"
    },
    "collapsed": false,
    "jupyter": {
     "outputs_hidden": false
    }
   },
   "outputs": [],
   "source": [
    "import torch\n",
    "import torch.nn as nn\n",
    "\n",
    "class LSTMBlock(nn.Module):\n",
    "    def __init__(self, input_size, hidden_size, num_layers=1):\n",
    "        super(LSTMBlock, self).__init__()\n",
    "        self.lstm = nn.LSTM(input_size=input_size, hidden_size=hidden_size, num_layers=num_layers, batch_first=True)\n",
    "    \n",
    "    def forward(self, x):\n",
    "        h0 = torch.zeros(self.lstm.num_layers, x.size(0), self.lstm.hidden_size).to(x.device)\n",
    "        c0 = torch.zeros(self.lstm.num_layers, x.size(0), self.lstm.hidden_size).to(x.device)\n",
    "        out, _ = self.lstm(x, (h0, c0))\n",
    "        return out\n",
    "\n",
    "class ResidualLSTM(nn.Module):\n",
    "    def __init__(self, input_size, hidden_size, num_layers=1):\n",
    "        super(ResidualLSTM, self).__init__()\n",
    "        self.lstm_block = LSTMBlock(input_size, hidden_size, num_layers)\n",
    "        self.linear = nn.Linear(input_size, hidden_size)\n",
    "    \n",
    "    def forward(self, x):\n",
    "        residual = self.linear(x)\n",
    "        out = self.lstm_block(x)\n",
    "        out = out+residual\n",
    "        return out"
   ]
  },
  {
   "cell_type": "code",
   "execution_count": 12,
   "id": "514f22dc275e9816",
   "metadata": {
    "ExecuteTime": {
     "end_time": "2024-01-23T07:47:29.580847700Z",
     "start_time": "2024-01-23T07:47:29.545785200Z"
    },
    "collapsed": false,
    "jupyter": {
     "outputs_hidden": false
    }
   },
   "outputs": [],
   "source": [
    "class LSTMResNet(nn.Module):\n",
    "    def __init__(self, num_features, hidden_size, num_residual_blocks, num_layers, output_size):\n",
    "        super(LSTMResNet, self).__init__()\n",
    "        self.num_residual_blocks = num_residual_blocks\n",
    "        self.num_layers=num_layers\n",
    "        self.hidden_size=hidden_size\n",
    "        # 初始的LSTM块\n",
    "        self.initial_lstm = nn.LSTM(input_size=num_features, hidden_size=hidden_size, num_layers=num_layers, batch_first=True)\n",
    "        \n",
    "        # 构建残差块序列\n",
    "        self.residual_blocks = nn.ModuleList([ResidualLSTM(hidden_size, hidden_size) for _ in range(num_residual_blocks)])\n",
    "        \n",
    "        # 输出层\n",
    "        self.fc = nn.Linear(hidden_size, output_size)\n",
    "\n",
    "    def forward(self, x):\n",
    "        # 初始LSTM处理\n",
    "        h0 = torch.zeros(self.num_layers, x.size(0), self.hidden_size).to(x.device)\n",
    "        c0 = torch.zeros(self.num_layers, x.size(0), self.hidden_size).to(x.device)\n",
    "        out, _ = self.initial_lstm(x, (h0, c0))\n",
    "\n",
    "        # 通过残差块序列\n",
    "        for block in self.residual_blocks:\n",
    "            out = block(out)\n",
    "        \n",
    "        # 取最后一个时间步的输出\n",
    "        out = out[:, -1, :]\n",
    "        \n",
    "        # 输出层\n",
    "        out = self.fc(out)\n",
    "        return out"
   ]
  },
  {
   "cell_type": "code",
   "execution_count": 13,
   "id": "bd5f79a76c891f52",
   "metadata": {
    "ExecuteTime": {
     "end_time": "2024-01-23T07:47:29.581848200Z",
     "start_time": "2024-01-23T07:47:29.552176500Z"
    },
    "collapsed": false,
    "jupyter": {
     "outputs_hidden": false
    }
   },
   "outputs": [
    {
     "data": {
      "text/plain": [
       "'\\nmodel = LSTMResNet(num_features=3, hidden_size=64, num_layers=2, output_size=1, num_residual_blocks=5)\\ntrain_loader, va_loader, test_loader = LoadData(data_IO_C_all, sequence_length=10)\\nargs = Args()\\nargs.lr=0.001\\nmodel = train(model, train_loader, va_loader, args)\\nTEST(test_loader, args, model)\\n'"
      ]
     },
     "execution_count": 13,
     "metadata": {},
     "output_type": "execute_result"
    }
   ],
   "source": [
    "'''\n",
    "model = LSTMResNet(num_features=3, hidden_size=64, num_layers=2, output_size=1, num_residual_blocks=5)\n",
    "train_loader, va_loader, test_loader = LoadData(data_IO_C_all, sequence_length=10)\n",
    "args = Args()\n",
    "args.lr=0.001\n",
    "model = train(model, train_loader, va_loader, args)\n",
    "TEST(test_loader, args, model)\n",
    "'''"
   ]
  },
  {
   "cell_type": "code",
   "execution_count": 14,
   "id": "a7db1bd3-9e1f-4937-a60a-e7efbccefc66",
   "metadata": {
    "ExecuteTime": {
     "end_time": "2024-01-23T07:47:29.583848600Z",
     "start_time": "2024-01-23T07:47:29.566505700Z"
    }
   },
   "outputs": [],
   "source": [
    "import torch\n",
    "import torch.nn as nn\n",
    "import torch.nn.functional as F\n",
    "\n",
    "class Conv1DBlock(nn.Module):\n",
    "    def __init__(self, in_channels, out_channels, kernel_size, stride, padding, batch_norm=True):\n",
    "        super(Conv1DBlock, self).__init__()\n",
    "        self.conv = nn.Conv1d(in_channels, out_channels, kernel_size, stride, padding)\n",
    "        self.batch_norm = nn.BatchNorm1d(out_channels) if batch_norm else None\n",
    "        self.relu = nn.ReLU()\n",
    "\n",
    "    def forward(self, x):\n",
    "        x = self.conv(x)\n",
    "        if self.batch_norm:\n",
    "            x = self.batch_norm(x)\n",
    "        x = self.relu(x)\n",
    "        return x\n",
    "\n",
    "class ResidualConv1D(nn.Module):\n",
    "    def __init__(self, in_channels, out_channels, kernel_size, stride, padding, batch_norm=True):\n",
    "        super(ResidualConv1D, self).__init__()\n",
    "        self.conv_block = Conv1DBlock(in_channels, out_channels, kernel_size, stride, padding, batch_norm)\n",
    "        self.shortcut = nn.Sequential(\n",
    "            nn.Conv1d(in_channels, out_channels, kernel_size=1, stride=1, padding=0),\n",
    "            nn.BatchNorm1d(out_channels) if batch_norm else nn.Identity()\n",
    "        )\n",
    "\n",
    "    def forward(self, x):\n",
    "        residual = self.shortcut(x)\n",
    "        x = self.conv_block(x)\n",
    "        x = x + residual\n",
    "        return x"
   ]
  },
  {
   "cell_type": "markdown",
   "id": "f01092a830fee07f",
   "metadata": {},
   "source": [
    "# 先LSTM再Conv1D"
   ]
  },
  {
   "cell_type": "code",
   "execution_count": 15,
   "id": "10bdf00c3739d2e3",
   "metadata": {
    "ExecuteTime": {
     "end_time": "2024-01-23T07:47:29.585849Z",
     "start_time": "2024-01-23T07:47:29.579340700Z"
    },
    "collapsed": false,
    "jupyter": {
     "outputs_hidden": false
    }
   },
   "outputs": [],
   "source": [
    "class LSTMConv1DResNet(nn.Module):\n",
    "    def __init__(self, num_features, hidden_size, num_residual_blocks, num_layers, output_size):\n",
    "        super(LSTMConv1DResNet, self).__init__()\n",
    "        self.num_residual_blocks = num_residual_blocks\n",
    "        self.num_layers = num_layers\n",
    "        self.hidden_size = hidden_size\n",
    "\n",
    "        # 初始的卷积块\n",
    "        self.initial_conv = Conv1DBlock(num_features, hidden_size, kernel_size=3, stride=1, padding=1)\n",
    "\n",
    "        # 初始的LSTM块\n",
    "        self.initial_lstm = nn.LSTM(input_size=hidden_size, hidden_size=hidden_size, num_layers=num_layers, batch_first=True)\n",
    "\n",
    "        # 构建残差块序列\n",
    "        self.residual_blocks = nn.ModuleList([ResidualLSTM(hidden_size, hidden_size) for _ in range(num_residual_blocks)])\n",
    "\n",
    "        # 构建残差卷积块序列\n",
    "        self.residual_conv_blocks = nn.ModuleList([ResidualConv1D(hidden_size, hidden_size, kernel_size=3, stride=1, padding=1) for _ in range(num_residual_blocks)])\n",
    "        \n",
    "        # 输出层\n",
    "        self.fc = nn.Linear(hidden_size, output_size)\n",
    "\n",
    "    def forward(self, x):\n",
    "        # 初始卷积处理\n",
    "        x = x.transpose(1, 2) # 转换维度以适应卷积层：从(batch_size, len_seq, num_features)变为(batch_size, num_features, len_seq)\n",
    "        x = self.initial_conv(x)\n",
    "        x = x.transpose(1, 2) # 转换回LSTM的维度\n",
    "\n",
    "        # 初始LSTM处理\n",
    "        h0 = torch.zeros(self.num_layers, x.size(0), self.hidden_size).to(x.device)\n",
    "        c0 = torch.zeros(self.num_layers, x.size(0), self.hidden_size).to(x.device)\n",
    "        out, _ = self.initial_lstm(x, (h0, c0))\n",
    "\n",
    "        # 通过LSTM残差块序列\n",
    "        for block in self.residual_blocks:\n",
    "            out = block(out)\n",
    "\n",
    "        # 通过残差卷积块序列\n",
    "        out = out.transpose(1, 2) # 转换维度以适应卷积层\n",
    "        for conv_block in self.residual_conv_blocks:\n",
    "            out = conv_block(out)\n",
    "        out = out.transpose(1, 2) # 转换回原始维度\n",
    "\n",
    "        # 取最后一个时间步的输出\n",
    "        out = out[:, -1, :]\n",
    "        \n",
    "        # 输出层\n",
    "        out = self.fc(out)\n",
    "        return out"
   ]
  },
  {
   "cell_type": "code",
   "execution_count": 16,
   "id": "eecedbfc69bf4af3",
   "metadata": {
    "ExecuteTime": {
     "start_time": "2024-01-23T07:47:29.583848600Z"
    },
    "collapsed": false,
    "is_executing": true,
    "jupyter": {
     "outputs_hidden": false
    }
   },
   "outputs": [
    {
     "name": "stdout",
     "output_type": "stream",
     "text": [
      "Using cuda\n",
      "Training on cuda...\n",
      "Epoch [1/100], Training Loss: 29161.0418, Validation Loss: 2781.7508\n",
      "Epoch [2/100], Training Loss: 3094.8059, Validation Loss: 1081.2588\n",
      "Epoch [3/100], Training Loss: 2145.0984, Validation Loss: 291.1679\n",
      "Epoch [4/100], Training Loss: 1756.0031, Validation Loss: 616.7765\n",
      "Epoch [5/100], Training Loss: 1469.2708, Validation Loss: 270.2845\n",
      "Epoch [6/100], Training Loss: 1381.4836, Validation Loss: 480.7980\n",
      "Epoch [7/100], Training Loss: 1161.7533, Validation Loss: 627.6012\n",
      "Epoch [8/100], Training Loss: 1239.8822, Validation Loss: 1404.4600\n",
      "Epoch [9/100], Training Loss: 937.4304, Validation Loss: 181.9987\n",
      "Epoch [10/100], Training Loss: 922.3378, Validation Loss: 354.6680\n",
      "Epoch [11/100], Training Loss: 1000.6761, Validation Loss: 167.4642\n",
      "Epoch [12/100], Training Loss: 778.8142, Validation Loss: 321.6933\n",
      "Epoch [13/100], Training Loss: 819.8959, Validation Loss: 372.8442\n",
      "Epoch [14/100], Training Loss: 826.9363, Validation Loss: 317.4477\n",
      "Epoch [15/100], Training Loss: 826.3830, Validation Loss: 169.3221\n",
      "Epoch [16/100], Training Loss: 772.5247, Validation Loss: 319.8751\n",
      "Epoch [17/100], Training Loss: 597.8911, Validation Loss: 217.8619\n",
      "Epoch    17: reducing learning rate of group 0 to 1.0000e-03.\n",
      "Epoch [18/100], Training Loss: 386.8322, Validation Loss: 103.9154\n",
      "Epoch [19/100], Training Loss: 354.7335, Validation Loss: 87.0750\n",
      "Epoch [20/100], Training Loss: 371.7834, Validation Loss: 110.0995\n",
      "Epoch [21/100], Training Loss: 356.2467, Validation Loss: 100.9655\n",
      "Epoch [22/100], Training Loss: 354.9860, Validation Loss: 86.2577\n",
      "Epoch [23/100], Training Loss: 370.0296, Validation Loss: 110.0691\n",
      "Epoch [24/100], Training Loss: 373.7661, Validation Loss: 138.9247\n",
      "Epoch [25/100], Training Loss: 348.0305, Validation Loss: 130.8409\n",
      "Epoch [26/100], Training Loss: 290.2481, Validation Loss: 198.0626\n",
      "Epoch [27/100], Training Loss: 285.6594, Validation Loss: 131.6907\n",
      "Epoch [28/100], Training Loss: 329.4303, Validation Loss: 107.3819\n",
      "Epoch    28: reducing learning rate of group 0 to 1.0000e-04.\n",
      "Epoch [29/100], Training Loss: 273.9157, Validation Loss: 95.3255\n",
      "Epoch [30/100], Training Loss: 259.4369, Validation Loss: 101.4403\n",
      "Epoch [31/100], Training Loss: 276.0925, Validation Loss: 94.9070\n",
      "Epoch [32/100], Training Loss: 254.9324, Validation Loss: 85.9955\n",
      "Epoch [33/100], Training Loss: 251.7878, Validation Loss: 80.0239\n",
      "Epoch [34/100], Training Loss: 286.4664, Validation Loss: 103.7040\n",
      "Epoch [35/100], Training Loss: 280.1674, Validation Loss: 122.3821\n",
      "Epoch [36/100], Training Loss: 261.6471, Validation Loss: 89.1454\n",
      "Epoch [37/100], Training Loss: 265.5297, Validation Loss: 122.8591\n",
      "Epoch [38/100], Training Loss: 276.4565, Validation Loss: 112.6107\n",
      "Epoch [39/100], Training Loss: 223.3130, Validation Loss: 122.6633\n",
      "Epoch    39: reducing learning rate of group 0 to 1.0000e-05.\n",
      "Epoch [40/100], Training Loss: 264.3450, Validation Loss: 96.5167\n",
      "Epoch [41/100], Training Loss: 247.4366, Validation Loss: 98.1485\n",
      "Epoch [42/100], Training Loss: 267.0930, Validation Loss: 118.2844\n",
      "Epoch [43/100], Training Loss: 271.4040, Validation Loss: 96.0582\n",
      "Early stopping triggered after 43 epochs!\n",
      "模型训练完成！\n",
      "Testing on cuda...\n"
     ]
    },
    {
     "data": {
      "image/png": "[encoded data removed]",
      "text/plain": [
       "<Figure size 864x432 with 1 Axes>"
      ]
     },
     "metadata": {
      "needs_background": "light"
     },
     "output_type": "display_data"
    },
    {
     "data": {
      "image/png": "[encoded data removed]",
      "text/plain": [
       "<Figure size 864x432 with 1 Axes>"
      ]
     },
     "metadata": {
      "needs_background": "light"
     },
     "output_type": "display_data"
    },
    {
     "name": "stdout",
     "output_type": "stream",
     "text": [
      "\n",
      "展示部分test_set上的拟合效果\n",
      "        y_test  y_test_pred\n",
      "0  1007.599976  1015.611328\n",
      "1   907.799988   896.395447\n",
      "2   808.000000   810.311584\n",
      "3   708.200012   703.919128\n",
      "4   658.400024   659.742554\n",
      "\n",
      "\n",
      "测试集平均损失: 647.3345\n",
      "\n"
     ]
    },
    {
     "data": {
      "text/html": [
       "<div>\n",
       "<style scoped>\n",
       "    .dataframe tbody tr th:only-of-type {\n",
       "        vertical-align: middle;\n",
       "    }\n",
       "\n",
       "    .dataframe tbody tr th {\n",
       "        vertical-align: top;\n",
       "    }\n",
       "\n",
       "    .dataframe thead th {\n",
       "        text-align: right;\n",
       "    }\n",
       "</style>\n",
       "<table border=\"1\" class=\"dataframe\">\n",
       "  <thead>\n",
       "    <tr style=\"text-align: right;\">\n",
       "      <th></th>\n",
       "      <th>y_test</th>\n",
       "      <th>y_test_pred</th>\n",
       "    </tr>\n",
       "  </thead>\n",
       "  <tbody>\n",
       "    <tr>\n",
       "      <th>0</th>\n",
       "      <td>1007.599976</td>\n",
       "      <td>1015.611328</td>\n",
       "    </tr>\n",
       "    <tr>\n",
       "      <th>1</th>\n",
       "      <td>907.799988</td>\n",
       "      <td>896.395447</td>\n",
       "    </tr>\n",
       "    <tr>\n",
       "      <th>2</th>\n",
       "      <td>808.000000</td>\n",
       "      <td>810.311584</td>\n",
       "    </tr>\n",
       "    <tr>\n",
       "      <th>3</th>\n",
       "      <td>708.200012</td>\n",
       "      <td>703.919128</td>\n",
       "    </tr>\n",
       "    <tr>\n",
       "      <th>4</th>\n",
       "      <td>658.400024</td>\n",
       "      <td>659.742554</td>\n",
       "    </tr>\n",
       "    <tr>\n",
       "      <th>...</th>\n",
       "      <td>...</td>\n",
       "      <td>...</td>\n",
       "    </tr>\n",
       "    <tr>\n",
       "      <th>5426</th>\n",
       "      <td>1.000000</td>\n",
       "      <td>56.223530</td>\n",
       "    </tr>\n",
       "    <tr>\n",
       "      <th>5427</th>\n",
       "      <td>0.800000</td>\n",
       "      <td>53.297222</td>\n",
       "    </tr>\n",
       "    <tr>\n",
       "      <th>5428</th>\n",
       "      <td>0.800000</td>\n",
       "      <td>49.156544</td>\n",
       "    </tr>\n",
       "    <tr>\n",
       "      <th>5429</th>\n",
       "      <td>0.600000</td>\n",
       "      <td>42.176662</td>\n",
       "    </tr>\n",
       "    <tr>\n",
       "      <th>5430</th>\n",
       "      <td>0.600000</td>\n",
       "      <td>35.026402</td>\n",
       "    </tr>\n",
       "  </tbody>\n",
       "</table>\n",
       "<p>5431 rows × 2 columns</p>\n",
       "</div>"
      ],
      "text/plain": [
       "           y_test  y_test_pred\n",
       "0     1007.599976  1015.611328\n",
       "1      907.799988   896.395447\n",
       "2      808.000000   810.311584\n",
       "3      708.200012   703.919128\n",
       "4      658.400024   659.742554\n",
       "...           ...          ...\n",
       "5426     1.000000    56.223530\n",
       "5427     0.800000    53.297222\n",
       "5428     0.800000    49.156544\n",
       "5429     0.600000    42.176662\n",
       "5430     0.600000    35.026402\n",
       "\n",
       "[5431 rows x 2 columns]"
      ]
     },
     "execution_count": 16,
     "metadata": {},
     "output_type": "execute_result"
    }
   ],
   "source": [
    "model = LSTMConv1DResNet(num_features=3, hidden_size=64, num_layers=2, output_size=1, num_residual_blocks=2)\n",
    "train_loader, va_loader, test_loader = LoadData(data_IO_C_all, sequence_length=10)\n",
    "args = Args()\n",
    "args.lr=0.05\n",
    "args.num_epochs=100\n",
    "model = train(model, train_loader, va_loader, args)\n",
    "TEST(test_loader, args, model)"
   ]
  },
  {
   "cell_type": "markdown",
   "id": "3fbb9678a1b29efe",
   "metadata": {},
   "source": [
    "# 先Conv1D再LSTM"
   ]
  },
  {
   "cell_type": "code",
   "execution_count": 17,
   "id": "709e1aaecf710b3a",
   "metadata": {
    "collapsed": false,
    "jupyter": {
     "outputs_hidden": false
    }
   },
   "outputs": [],
   "source": [
    "class Conv1DResLSTMResNet(nn.Module):\n",
    "    def __init__(self, num_features, hidden_size, num_residual_blocks, num_layers, output_size):\n",
    "        super(Conv1DResLSTMResNet, self).__init__()\n",
    "        self.num_residual_blocks = num_residual_blocks\n",
    "        self.num_layers = num_layers\n",
    "        self.hidden_size = hidden_size\n",
    "\n",
    "        # 初始的卷积块\n",
    "        self.initial_conv = Conv1DBlock(num_features, hidden_size, kernel_size=3, stride=1, padding=1)\n",
    "\n",
    "        # 构建残差卷积块序列\n",
    "        self.residual_conv_blocks = nn.ModuleList([ResidualConv1D(hidden_size, hidden_size, kernel_size=3, stride=1, padding=1) for _ in range(num_residual_blocks)])\n",
    "\n",
    "        # 初始的LSTM块\n",
    "        self.initial_lstm = nn.LSTM(input_size=hidden_size, hidden_size=hidden_size, num_layers=num_layers, batch_first=True)\n",
    "\n",
    "        # 构建LSTM残差块序列\n",
    "        self.residual_lstm_blocks = nn.ModuleList([ResidualLSTM(hidden_size, hidden_size) for _ in range(num_residual_blocks)])\n",
    "        \n",
    "        # 输出层\n",
    "        self.fc = nn.Linear(hidden_size, output_size)\n",
    "\n",
    "    def forward(self, x):\n",
    "        # 初始卷积处理\n",
    "        x = x.transpose(1, 2)  # 转换维度以适应卷积层\n",
    "        x = self.initial_conv(x)\n",
    "\n",
    "        # 通过卷积残差块序列\n",
    "        for conv_block in self.residual_conv_blocks:\n",
    "            x = conv_block(x)\n",
    "        x = x.transpose(1, 2)  # 转换回LSTM的维度\n",
    "\n",
    "        # 初始LSTM处理\n",
    "        h0 = torch.zeros(self.num_layers, x.size(0), self.hidden_size).to(x.device)\n",
    "        c0 = torch.zeros(self.num_layers, x.size(0), self.hidden_size).to(x.device)\n",
    "        out, _ = self.initial_lstm(x, (h0, c0))\n",
    "\n",
    "        # 通过LSTM残差块序列\n",
    "        for lstm_block in self.residual_lstm_blocks:\n",
    "            out = lstm_block(out)\n",
    "\n",
    "        # 取最后一个时间步的输出\n",
    "        out = out[:, -1, :]\n",
    "        \n",
    "        # 输出层\n",
    "        out = self.fc(out)\n",
    "        return out"
   ]
  },
  {
   "cell_type": "code",
   "execution_count": 18,
   "id": "dde54bae12ec9d74",
   "metadata": {
    "collapsed": false,
    "jupyter": {
     "outputs_hidden": false
    }
   },
   "outputs": [
    {
     "name": "stdout",
     "output_type": "stream",
     "text": [
      "Using cuda\n",
      "Training on cuda...\n",
      "Epoch [1/100], Training Loss: 33256.8328, Validation Loss: 782.5551\n",
      "Epoch [2/100], Training Loss: 1676.5477, Validation Loss: 542.1401\n",
      "Epoch [3/100], Training Loss: 1552.5662, Validation Loss: 295.6303\n",
      "Epoch [4/100], Training Loss: 1808.1030, Validation Loss: 209.8874\n",
      "Epoch [5/100], Training Loss: 1028.5416, Validation Loss: 470.0991\n",
      "Epoch [6/100], Training Loss: 938.0208, Validation Loss: 305.1819\n",
      "Epoch [7/100], Training Loss: 1096.8921, Validation Loss: 244.7101\n",
      "Epoch [8/100], Training Loss: 1098.1171, Validation Loss: 755.9527\n",
      "Epoch [9/100], Training Loss: 1113.7533, Validation Loss: 219.9686\n",
      "Epoch [10/100], Training Loss: 1054.1352, Validation Loss: 228.1066\n",
      "Epoch    10: reducing learning rate of group 0 to 1.0000e-03.\n",
      "Epoch [11/100], Training Loss: 497.0435, Validation Loss: 136.7946\n",
      "Epoch [12/100], Training Loss: 453.9604, Validation Loss: 112.6069\n",
      "Epoch [13/100], Training Loss: 464.2144, Validation Loss: 137.1870\n",
      "Epoch [14/100], Training Loss: 416.5274, Validation Loss: 135.4599\n",
      "Epoch [15/100], Training Loss: 373.9945, Validation Loss: 127.1829\n",
      "Epoch [16/100], Training Loss: 424.6284, Validation Loss: 168.0730\n",
      "Epoch [17/100], Training Loss: 357.2712, Validation Loss: 125.1347\n",
      "Epoch [18/100], Training Loss: 371.5012, Validation Loss: 134.4654\n",
      "Epoch    18: reducing learning rate of group 0 to 1.0000e-04.\n",
      "Epoch [19/100], Training Loss: 351.3480, Validation Loss: 106.3092\n",
      "Epoch [20/100], Training Loss: 330.2799, Validation Loss: 136.0307\n",
      "Epoch [21/100], Training Loss: 325.4082, Validation Loss: 121.8013\n",
      "Epoch [22/100], Training Loss: 326.2437, Validation Loss: 112.4548\n",
      "Epoch [23/100], Training Loss: 312.2162, Validation Loss: 117.9750\n",
      "Epoch [24/100], Training Loss: 332.0953, Validation Loss: 161.6237\n",
      "Epoch [25/100], Training Loss: 299.4959, Validation Loss: 115.4704\n",
      "Epoch    25: reducing learning rate of group 0 to 1.0000e-05.\n",
      "Epoch [26/100], Training Loss: 289.0059, Validation Loss: 117.9262\n",
      "Epoch [27/100], Training Loss: 295.2510, Validation Loss: 118.0079\n",
      "Epoch [28/100], Training Loss: 299.6378, Validation Loss: 104.3101\n",
      "Epoch [29/100], Training Loss: 339.2237, Validation Loss: 122.7005\n",
      "Epoch [30/100], Training Loss: 328.5779, Validation Loss: 121.9326\n",
      "Epoch [31/100], Training Loss: 321.5118, Validation Loss: 116.9543\n",
      "Epoch [32/100], Training Loss: 321.3353, Validation Loss: 118.3941\n",
      "Epoch [33/100], Training Loss: 321.3903, Validation Loss: 144.2222\n",
      "Epoch [34/100], Training Loss: 268.9128, Validation Loss: 151.9769\n",
      "Epoch    34: reducing learning rate of group 0 to 1.0000e-06.\n",
      "Epoch [35/100], Training Loss: 317.3002, Validation Loss: 134.0212\n",
      "Epoch [36/100], Training Loss: 317.9020, Validation Loss: 108.9802\n",
      "Epoch [37/100], Training Loss: 307.8676, Validation Loss: 130.2049\n",
      "Epoch [38/100], Training Loss: 291.5364, Validation Loss: 134.3959\n",
      "Early stopping triggered after 38 epochs!\n",
      "模型训练完成！\n",
      "Testing on cuda...\n"
     ]
    },
    {
     "data": {
      "image/png": "[encoded data removed]",
      "text/plain": [
       "<Figure size 864x432 with 1 Axes>"
      ]
     },
     "metadata": {
      "needs_background": "light"
     },
     "output_type": "display_data"
    },
    {
     "data": {
      "image/png": "[encoded data removed]",
      "text/plain": [
       "<Figure size 864x432 with 1 Axes>"
      ]
     },
     "metadata": {
      "needs_background": "light"
     },
     "output_type": "display_data"
    },
    {
     "name": "stdout",
     "output_type": "stream",
     "text": [
      "\n",
      "展示部分test_set上的拟合效果\n",
      "        y_test  y_test_pred\n",
      "0  1007.599976   936.797668\n",
      "1   907.799988   858.107849\n",
      "2   808.000000   755.867615\n",
      "3   708.200012   682.407227\n",
      "4   658.400024   639.895447\n",
      "\n",
      "\n",
      "测试集平均损失: 554.9758\n",
      "\n"
     ]
    },
    {
     "data": {
      "text/html": [
       "<div>\n",
       "<style scoped>\n",
       "    .dataframe tbody tr th:only-of-type {\n",
       "        vertical-align: middle;\n",
       "    }\n",
       "\n",
       "    .dataframe tbody tr th {\n",
       "        vertical-align: top;\n",
       "    }\n",
       "\n",
       "    .dataframe thead th {\n",
       "        text-align: right;\n",
       "    }\n",
       "</style>\n",
       "<table border=\"1\" class=\"dataframe\">\n",
       "  <thead>\n",
       "    <tr style=\"text-align: right;\">\n",
       "      <th></th>\n",
       "      <th>y_test</th>\n",
       "      <th>y_test_pred</th>\n",
       "    </tr>\n",
       "  </thead>\n",
       "  <tbody>\n",
       "    <tr>\n",
       "      <th>0</th>\n",
       "      <td>1007.599976</td>\n",
       "      <td>936.797668</td>\n",
       "    </tr>\n",
       "    <tr>\n",
       "      <th>1</th>\n",
       "      <td>907.799988</td>\n",
       "      <td>858.107849</td>\n",
       "    </tr>\n",
       "    <tr>\n",
       "      <th>2</th>\n",
       "      <td>808.000000</td>\n",
       "      <td>755.867615</td>\n",
       "    </tr>\n",
       "    <tr>\n",
       "      <th>3</th>\n",
       "      <td>708.200012</td>\n",
       "      <td>682.407227</td>\n",
       "    </tr>\n",
       "    <tr>\n",
       "      <th>4</th>\n",
       "      <td>658.400024</td>\n",
       "      <td>639.895447</td>\n",
       "    </tr>\n",
       "    <tr>\n",
       "      <th>...</th>\n",
       "      <td>...</td>\n",
       "      <td>...</td>\n",
       "    </tr>\n",
       "    <tr>\n",
       "      <th>5426</th>\n",
       "      <td>1.000000</td>\n",
       "      <td>34.662041</td>\n",
       "    </tr>\n",
       "    <tr>\n",
       "      <th>5427</th>\n",
       "      <td>0.800000</td>\n",
       "      <td>27.817717</td>\n",
       "    </tr>\n",
       "    <tr>\n",
       "      <th>5428</th>\n",
       "      <td>0.800000</td>\n",
       "      <td>21.661196</td>\n",
       "    </tr>\n",
       "    <tr>\n",
       "      <th>5429</th>\n",
       "      <td>0.600000</td>\n",
       "      <td>16.021873</td>\n",
       "    </tr>\n",
       "    <tr>\n",
       "      <th>5430</th>\n",
       "      <td>0.600000</td>\n",
       "      <td>13.068354</td>\n",
       "    </tr>\n",
       "  </tbody>\n",
       "</table>\n",
       "<p>5431 rows × 2 columns</p>\n",
       "</div>"
      ],
      "text/plain": [
       "           y_test  y_test_pred\n",
       "0     1007.599976   936.797668\n",
       "1      907.799988   858.107849\n",
       "2      808.000000   755.867615\n",
       "3      708.200012   682.407227\n",
       "4      658.400024   639.895447\n",
       "...           ...          ...\n",
       "5426     1.000000    34.662041\n",
       "5427     0.800000    27.817717\n",
       "5428     0.800000    21.661196\n",
       "5429     0.600000    16.021873\n",
       "5430     0.600000    13.068354\n",
       "\n",
       "[5431 rows x 2 columns]"
      ]
     },
     "execution_count": 18,
     "metadata": {},
     "output_type": "execute_result"
    }
   ],
   "source": [
    "model = Conv1DResLSTMResNet(num_features=3, hidden_size=64, num_layers=2, output_size=1, num_residual_blocks=1)\n",
    "train_loader, va_loader, test_loader = LoadData(data_IO_C_all, sequence_length=10)\n",
    "args = Args()\n",
    "args.lr=0.05\n",
    "args.num_epochs=100\n",
    "model = train(model, train_loader, va_loader, args)\n",
    "TEST(test_loader, args, model)"
   ]
  }
 ],
 "metadata": {
  "kernelspec": {
   "display_name": "Python 3 (ipykernel)",
   "language": "python",
   "name": "python3"
  },
  "language_info": {
   "codemirror_mode": {
    "name": "ipython",
    "version": 3
   },
   "file_extension": ".py",
   "mimetype": "text/x-python",
   "name": "python",
   "nbconvert_exporter": "python",
   "pygments_lexer": "ipython3",
   "version": "3.8.10"
  }
 },
 "nbformat": 4,
 "nbformat_minor": 5
}
