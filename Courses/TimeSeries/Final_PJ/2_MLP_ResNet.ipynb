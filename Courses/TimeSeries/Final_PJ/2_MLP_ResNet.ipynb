{
 "cells": [
  {
   "cell_type": "code",
   "execution_count": 1,
   "id": "93e9bbaf179eb791",
   "metadata": {
    "ExecuteTime": {
     "end_time": "2024-01-23T03:57:01.785144700Z",
     "start_time": "2024-01-23T03:57:01.700895500Z"
    },
    "collapsed": false,
    "jupyter": {
     "outputs_hidden": false
    }
   },
   "outputs": [],
   "source": [
    "import pandas as pd\n",
    "import numpy as np\n",
    "import matplotlib.pyplot as plt\n",
    "%matplotlib inline\n",
    "import torch"
   ]
  },
  {
   "cell_type": "code",
   "execution_count": 2,
   "id": "825eb2a62f8d14a9",
   "metadata": {
    "ExecuteTime": {
     "end_time": "2024-01-23T03:57:01.864383Z",
     "start_time": "2024-01-23T03:57:01.706926700Z"
    },
    "collapsed": false,
    "jupyter": {
     "outputs_hidden": false
    }
   },
   "outputs": [
    {
     "data": {
      "text/html": [
       "<div>\n",
       "<style scoped>\n",
       "    .dataframe tbody tr th:only-of-type {\n",
       "        vertical-align: middle;\n",
       "    }\n",
       "\n",
       "    .dataframe tbody tr th {\n",
       "        vertical-align: top;\n",
       "    }\n",
       "\n",
       "    .dataframe thead th {\n",
       "        text-align: right;\n",
       "    }\n",
       "</style>\n",
       "<table border=\"1\" class=\"dataframe\">\n",
       "  <thead>\n",
       "    <tr style=\"text-align: right;\">\n",
       "      <th></th>\n",
       "      <th>date</th>\n",
       "      <th>IF_close</th>\n",
       "      <th>code</th>\n",
       "      <th>strike</th>\n",
       "      <th>IOIF_delta_price</th>\n",
       "      <th>exp_day</th>\n",
       "      <th>IO_close</th>\n",
       "    </tr>\n",
       "  </thead>\n",
       "  <tbody>\n",
       "    <tr>\n",
       "      <th>0</th>\n",
       "      <td>2020-01-20</td>\n",
       "      <td>4194.8</td>\n",
       "      <td>IO2002-C-3550</td>\n",
       "      <td>3550</td>\n",
       "      <td>-644.8</td>\n",
       "      <td>32</td>\n",
       "      <td>643.8</td>\n",
       "    </tr>\n",
       "    <tr>\n",
       "      <th>1</th>\n",
       "      <td>2020-01-20</td>\n",
       "      <td>4194.8</td>\n",
       "      <td>IO2002-C-3600</td>\n",
       "      <td>3600</td>\n",
       "      <td>-594.8</td>\n",
       "      <td>32</td>\n",
       "      <td>594.0</td>\n",
       "    </tr>\n",
       "    <tr>\n",
       "      <th>2</th>\n",
       "      <td>2020-01-20</td>\n",
       "      <td>4194.8</td>\n",
       "      <td>IO2002-C-3650</td>\n",
       "      <td>3650</td>\n",
       "      <td>-544.8</td>\n",
       "      <td>32</td>\n",
       "      <td>553.2</td>\n",
       "    </tr>\n",
       "    <tr>\n",
       "      <th>3</th>\n",
       "      <td>2020-01-20</td>\n",
       "      <td>4194.8</td>\n",
       "      <td>IO2002-C-3700</td>\n",
       "      <td>3700</td>\n",
       "      <td>-494.8</td>\n",
       "      <td>32</td>\n",
       "      <td>506.4</td>\n",
       "    </tr>\n",
       "    <tr>\n",
       "      <th>4</th>\n",
       "      <td>2020-01-20</td>\n",
       "      <td>4194.8</td>\n",
       "      <td>IO2002-C-3750</td>\n",
       "      <td>3750</td>\n",
       "      <td>-444.8</td>\n",
       "      <td>32</td>\n",
       "      <td>457.0</td>\n",
       "    </tr>\n",
       "  </tbody>\n",
       "</table>\n",
       "</div>"
      ],
      "text/plain": [
       "         date  IF_close           code  strike  IOIF_delta_price  exp_day  \\\n",
       "0  2020-01-20    4194.8  IO2002-C-3550    3550            -644.8       32   \n",
       "1  2020-01-20    4194.8  IO2002-C-3600    3600            -594.8       32   \n",
       "2  2020-01-20    4194.8  IO2002-C-3650    3650            -544.8       32   \n",
       "3  2020-01-20    4194.8  IO2002-C-3700    3700            -494.8       32   \n",
       "4  2020-01-20    4194.8  IO2002-C-3750    3750            -444.8       32   \n",
       "\n",
       "   IO_close  \n",
       "0     643.8  \n",
       "1     594.0  \n",
       "2     553.2  \n",
       "3     506.4  \n",
       "4     457.0  "
      ]
     },
     "execution_count": 2,
     "metadata": {},
     "output_type": "execute_result"
    }
   ],
   "source": [
    "# data_IO_C_all.to_csv('data_IO_C_all.csv',index=False)\n",
    "data_IO_C_all=pd.read_csv('data_IO_C_all.csv')\n",
    "data_IO_C_all.head()"
   ]
  },
  {
   "cell_type": "markdown",
   "id": "92db9a7fdc390d10",
   "metadata": {},
   "source": [
    "# 用LSTM来拟合CALL_STL_PRICE和PUT_STL_PRICE"
   ]
  },
  {
   "cell_type": "code",
   "execution_count": 3,
   "id": "7c4ace2c1c9ca137",
   "metadata": {
    "ExecuteTime": {
     "end_time": "2024-01-23T03:57:01.865384100Z",
     "start_time": "2024-01-23T03:57:01.767910400Z"
    },
    "collapsed": false,
    "jupyter": {
     "outputs_hidden": false
    }
   },
   "outputs": [],
   "source": [
    "import numpy as np\n",
    "from sklearn.model_selection import train_test_split\n",
    "from sklearn.preprocessing import StandardScaler\n",
    "import torch\n",
    "from torch.utils.data import TensorDataset, DataLoader\n",
    "\n",
    "def create_sequences(data, sequence_length):\n",
    "    sequences = []\n",
    "    for i in range(len(data) - sequence_length + 1):\n",
    "        sequences.append(data[i:i + sequence_length])\n",
    "    return np.array(sequences)\n",
    "\n",
    "def LoadData(df, sequence_length):\n",
    "    features = df[['IF_close', 'IOIF_delta_price', 'exp_day']].values\n",
    "    labels = df['IO_close'].values\n",
    "\n",
    "    # 数据标准化\n",
    "    scaler = StandardScaler()\n",
    "    features = scaler.fit_transform(features)\n",
    "\n",
    "    # 创建序列\n",
    "    X = create_sequences(features, sequence_length)\n",
    "    y = labels[sequence_length-1:]\n",
    "\n",
    "    # 划分数据集\n",
    "    X_train, X_test, y_train, y_test = train_test_split(X, y, test_size=0.2, shuffle=False)\n",
    "    X_train, X_val, y_train, y_val = train_test_split(X_train, y_train, test_size=0.15, shuffle=False)\n",
    "    \n",
    "    # 转换为PyTorch张量\n",
    "    X_train = torch.tensor(X_train, dtype=torch.float32)\n",
    "    y_train = torch.tensor(y_train, dtype=torch.float32)\n",
    "    X_val = torch.tensor(X_val, dtype=torch.float32)\n",
    "    y_val = torch.tensor(y_val, dtype=torch.float32)\n",
    "    X_test = torch.tensor(X_test, dtype=torch.float32)\n",
    "    y_test = torch.tensor(y_test, dtype=torch.float32)\n",
    "\n",
    "    # DataLoader\n",
    "    train_data = TensorDataset(X_train, y_train)\n",
    "    val_data = TensorDataset(X_val, y_val)\n",
    "    test_data = TensorDataset(X_test, y_test)\n",
    "\n",
    "    Batch_size = 64\n",
    "    \n",
    "    train_loader = DataLoader(train_data, batch_size=Batch_size, shuffle=True)\n",
    "    val_loader = DataLoader(val_data, batch_size=Batch_size)\n",
    "    test_loader = DataLoader(test_data, batch_size=Batch_size)\n",
    "    \n",
    "    return train_loader, val_loader, test_loader"
   ]
  },
  {
   "cell_type": "code",
   "execution_count": 4,
   "id": "91b77169180b19da",
   "metadata": {
    "ExecuteTime": {
     "end_time": "2024-01-23T03:57:01.865384100Z",
     "start_time": "2024-01-23T03:57:01.777233200Z"
    },
    "collapsed": false,
    "jupyter": {
     "outputs_hidden": false
    }
   },
   "outputs": [],
   "source": [
    "import torch.nn as nn\n",
    "\n",
    "# 定义LSTM模型\n",
    "class LSTMRegressor(nn.Module):\n",
    "    def __init__(self, input_size, hidden_size, output_size=1, num_layers=1):\n",
    "        super(LSTMRegressor, self).__init__()\n",
    "        self.hidden_size = hidden_size\n",
    "        self.num_layers = num_layers\n",
    "        # LSTM层\n",
    "        self.lstm = nn.LSTM(input_size, hidden_size, num_layers, batch_first=True)      \n",
    "        # 全连接层\n",
    "        self.fc = nn.Linear(hidden_size, output_size)\n",
    "\n",
    "    def forward(self, x):\n",
    "        device = x.device\n",
    "        # 初始化\n",
    "        h0 = torch.zeros(self.num_layers, x.size(0), self.hidden_size).to(device)\n",
    "        c0 = torch.zeros(self.num_layers, x.size(0), self.hidden_size).to(device)    \n",
    "\n",
    "        out, _ = self.lstm(x, (h0, c0))   \n",
    "        out = out[:, -1, :]# 取LSTM输出的最后一个时间步\n",
    "        out = self.fc(out)\n",
    "        return out"
   ]
  },
  {
   "cell_type": "code",
   "execution_count": 5,
   "id": "49bde700b8c7de50",
   "metadata": {
    "ExecuteTime": {
     "end_time": "2024-01-23T03:57:01.874389600Z",
     "start_time": "2024-01-23T03:57:01.783145500Z"
    },
    "collapsed": false,
    "jupyter": {
     "outputs_hidden": false
    }
   },
   "outputs": [],
   "source": [
    "# mlp_resnet.py\n",
    "import torch\n",
    "import torch.nn as nn\n",
    "import torch.nn.functional as F\n",
    "\n",
    "\n",
    "class MLPBlock(nn.Module):\n",
    "    def __init__(self, input_dim, hidden_dim, output_dim):\n",
    "        super(MLPBlock, self).__init__()\n",
    "        self.fc1 = nn.Linear(input_dim, hidden_dim)\n",
    "        self.fc2 = nn.Linear(hidden_dim, output_dim)\n",
    "\n",
    "    def forward(self, x):\n",
    "        x = F.relu(self.fc1(x))\n",
    "        x = self.fc2(x)\n",
    "        return x\n",
    "\n",
    "\n",
    "class ResidualMLP(nn.Module):\n",
    "    def __init__(self, input_dim, hidden_dim, output_dim):\n",
    "        super(ResidualMLP, self).__init__()\n",
    "        self.mlp = MLPBlock(input_dim, hidden_dim, output_dim)\n",
    "        self.shortcut = nn.Linear(input_dim, output_dim)\n",
    "\n",
    "    def forward(self, x):\n",
    "        identity = self.shortcut(x)\n",
    "        x = self.mlp(x)\n",
    "        x += identity\n",
    "        return x\n",
    "\n",
    "\n",
    "# 下一步我们将定义整个 ResNet 类，它将包含多个这样的残差 MLP 块。请输入 \"next\" 或 \"continue\" 来进行下一步。😄\n",
    "class MLPResNet(nn.Module):\n",
    "    def __init__(self, input_dim, hidden_dim, output_dim, num_blocks):\n",
    "        super(MLPResNet, self).__init__()\n",
    "        self.input_fc = nn.Linear(input_dim, hidden_dim)\n",
    "        self.res_blocks = nn.ModuleList([ResidualMLP(hidden_dim, hidden_dim, hidden_dim) for _ in range(num_blocks)])\n",
    "        self.output_fc = nn.Linear(hidden_dim, output_dim)\n",
    "\n",
    "    def forward(self, x):\n",
    "        x = F.relu(self.input_fc(x))\n",
    "        for block in self.res_blocks:\n",
    "            x = block(x)\n",
    "        x = self.output_fc(x)\n",
    "        x = torch.squeeze(x, -1)\n",
    "        return x"
   ]
  },
  {
   "cell_type": "code",
   "execution_count": 6,
   "id": "1f5c6fb2-22aa-4104-a38e-5bd5794edc4c",
   "metadata": {
    "ExecuteTime": {
     "end_time": "2024-01-23T03:57:01.875385600Z",
     "start_time": "2024-01-23T03:57:01.795586900Z"
    }
   },
   "outputs": [],
   "source": [
    "#定义参数的CLASS\n",
    "class Args():\n",
    "    def __init__(self):\n",
    "        self.lr=0.01\n",
    "        self.num_epochs=150\n",
    "        self.best_val_loss=float('inf')\n",
    "        self.device=torch.device('cuda' if torch.cuda.is_available() else 'cpu')\n",
    "        print(f'Using {self.device}')\n",
    "        self.criterion=nn.MSELoss()\n",
    "        self.optimizer=torch.optim.Adam(model.parameters(), lr=0.01)\n",
    "        #self.scheduler=ReduceLROnPlateau(optimizer, 'min', patience=5, factor=0.1, min_lr=1e-6, verbose=True)"
   ]
  },
  {
   "cell_type": "code",
   "execution_count": 7,
   "id": "2dfa2e3653f4421b",
   "metadata": {
    "ExecuteTime": {
     "end_time": "2024-01-23T03:57:01.875385600Z",
     "start_time": "2024-01-23T03:57:01.803541500Z"
    },
    "collapsed": false,
    "jupyter": {
     "outputs_hidden": false
    }
   },
   "outputs": [],
   "source": [
    "from torch.optim.lr_scheduler import ReduceLROnPlateau\n",
    "def train(model, train_loader, val_loader, args):\n",
    "    print(f'Training on {args.device}...')\n",
    "    model.to(args.device)\n",
    "    criterion = args.criterion\n",
    "    optimizer = args.optimizer\n",
    "    scheduler = ReduceLROnPlateau(optimizer, 'min', patience=5, factor=0.1, min_lr=1e-7, verbose=True)\n",
    "\n",
    "    num_epochs = args.num_epochs\n",
    "    best_val_loss = args.best_val_loss\n",
    "\n",
    "    early_stop_patience = 10  # 设置早停\n",
    "    epochs_no_improve = 0 \n",
    "\n",
    "    for epoch in range(num_epochs):\n",
    "        model.train()\n",
    "        running_loss = 0.0\n",
    "\n",
    "        for inputs, targets in train_loader:\n",
    "            inputs, targets = inputs.to(args.device), targets.to(args.device)\n",
    "            optimizer.zero_grad()\n",
    "            outputs = model(inputs)\n",
    "            loss = criterion(outputs, targets.unsqueeze(1))\n",
    "            loss.backward()\n",
    "            optimizer.step()\n",
    "            running_loss += loss.item()\n",
    "\n",
    "        model.eval()\n",
    "        total_loss = 0.0\n",
    "\n",
    "        with torch.no_grad():\n",
    "            for inputs, targets in val_loader:\n",
    "                inputs, targets = inputs.to(args.device), targets.to(args.device)\n",
    "                outputs = model(inputs)\n",
    "                outputs = outputs.squeeze(1)\n",
    "                loss = criterion(outputs, targets)\n",
    "                total_loss += loss.item()\n",
    "\n",
    "        avg_val_loss = total_loss / len(val_loader)\n",
    "        print(f'Epoch [{epoch+1}/{num_epochs}], Training Loss: {running_loss/len(train_loader):.4f}, Validation Loss: {avg_val_loss:.4f}')\n",
    "\n",
    "        # 更新 scheduler\n",
    "        scheduler.step(avg_val_loss)\n",
    "\n",
    "        # 保存最好的模型，并检查早停条件\n",
    "        if avg_val_loss < best_val_loss:\n",
    "            best_val_loss = avg_val_loss\n",
    "            torch.save(model.state_dict(), 'best_model.pt')\n",
    "            epochs_no_improve = 0\n",
    "        else:\n",
    "            epochs_no_improve += 1\n",
    "            \n",
    "        # 检查是否达到早停条件\n",
    "        if epochs_no_improve == early_stop_patience:\n",
    "            print(f'Early stopping triggered after {epoch + 1} epochs!')\n",
    "            break\n",
    "    print(\"模型训练完成！\")\n",
    "    return model"
   ]
  },
  {
   "cell_type": "markdown",
   "id": "1b58c28d-cb97-413f-8886-4a739a553b28",
   "metadata": {},
   "source": [
    "LSTM模型评估"
   ]
  },
  {
   "cell_type": "code",
   "execution_count": 8,
   "id": "7060ae5f-4841-4f94-8fb6-51aa1873485b",
   "metadata": {
    "ExecuteTime": {
     "end_time": "2024-01-23T03:57:01.875385600Z",
     "start_time": "2024-01-23T03:57:01.821465600Z"
    }
   },
   "outputs": [
    {
     "name": "stdout",
     "output_type": "stream",
     "text": [
      "LSTMRegressor(\n",
      "  (lstm): LSTM(3, 64, num_layers=2, batch_first=True)\n",
      "  (fc): Linear(in_features=64, out_features=1, bias=True)\n",
      ")\n",
      "Using cuda\n",
      "Training on cuda...\n",
      "Epoch [1/150], Training Loss: 182702.4064, Validation Loss: 57833.2174\n",
      "Epoch [2/150], Training Loss: 146767.9927, Validation Loss: 60795.9203\n",
      "Epoch [3/150], Training Loss: 139238.4722, Validation Loss: 66817.1008\n",
      "Epoch [4/150], Training Loss: 138364.3848, Validation Loss: 68991.4296\n",
      "Epoch [5/150], Training Loss: 138456.4201, Validation Loss: 69369.3653\n",
      "Epoch [6/150], Training Loss: 82416.4031, Validation Loss: 6693.8751\n",
      "Epoch [7/150], Training Loss: 48468.8301, Validation Loss: 2061.0177\n",
      "Epoch [8/150], Training Loss: 34434.2421, Validation Loss: 708.1272\n",
      "Epoch [9/150], Training Loss: 25909.8555, Validation Loss: 291.3190\n",
      "Epoch [10/150], Training Loss: 20049.3165, Validation Loss: 129.7757\n",
      "Epoch [11/150], Training Loss: 15871.0249, Validation Loss: 212.5452\n",
      "Epoch [12/150], Training Loss: 12634.7719, Validation Loss: 160.5687\n",
      "Epoch [13/150], Training Loss: 10174.5191, Validation Loss: 198.1305\n",
      "Epoch [14/150], Training Loss: 8235.9303, Validation Loss: 181.0523\n",
      "Epoch [15/150], Training Loss: 6773.6211, Validation Loss: 129.2478\n",
      "Epoch [16/150], Training Loss: 5504.6223, Validation Loss: 131.4627\n",
      "Epoch [17/150], Training Loss: 4488.8650, Validation Loss: 112.7830\n",
      "Epoch [18/150], Training Loss: 3922.3647, Validation Loss: 122.2203\n",
      "Epoch [19/150], Training Loss: 3050.0077, Validation Loss: 155.9134\n",
      "Epoch [20/150], Training Loss: 2508.3372, Validation Loss: 122.2156\n",
      "Epoch [21/150], Training Loss: 2098.3013, Validation Loss: 124.6110\n",
      "Epoch [22/150], Training Loss: 1721.2435, Validation Loss: 128.2506\n",
      "Epoch [23/150], Training Loss: 1426.2270, Validation Loss: 209.1614\n",
      "Epoch    23: reducing learning rate of group 0 to 1.0000e-03.\n",
      "Epoch [24/150], Training Loss: 1254.6826, Validation Loss: 141.8729\n",
      "Epoch [25/150], Training Loss: 1227.3481, Validation Loss: 149.8033\n",
      "Epoch [26/150], Training Loss: 1199.4617, Validation Loss: 142.8584\n",
      "Epoch [27/150], Training Loss: 1169.6655, Validation Loss: 132.6776\n",
      "Early stopping triggered after 27 epochs!\n",
      "模型训练完成！\n",
      "Testing on cuda...\n"
     ]
    },
    {
     "data": {
      "image/png": "[encoded data removed]",
      "text/plain": [
       "<Figure size 864x432 with 1 Axes>"
      ]
     },
     "metadata": {
      "needs_background": "light"
     },
     "output_type": "display_data"
    },
    {
     "data": {
      "image/png": "[encoded data removed]",
      "text/plain": [
       "<Figure size 864x432 with 1 Axes>"
      ]
     },
     "metadata": {
      "needs_background": "light"
     },
     "output_type": "display_data"
    },
    {
     "name": "stdout",
     "output_type": "stream",
     "text": [
      "\n",
      "展示部分test_set上的拟合效果\n",
      "       y_test  y_test_pred\n",
      "0  658.400024   660.093201\n",
      "1  608.599976   615.742554\n",
      "2  558.799988   565.935974\n",
      "3  509.600006   515.039734\n",
      "4  462.600006   465.684265\n",
      "\n",
      "\n",
      "测试集平均损失: 648.2236\n",
      "\n",
      "\n",
      "\n"
     ]
    }
   ],
   "source": [
    "# 模型评估\n",
    "def TEST(test_loader,args,model):\n",
    "    print(f'Testing on {args.device}...')\n",
    "    model.to(args.device)\n",
    "    criterion=args.criterion\n",
    "    model.eval()  \n",
    "    total_loss = 0.0\n",
    "    \n",
    "    with torch.no_grad():  # 在评估阶段不计算梯度\n",
    "        for inputs, targets in test_loader:\n",
    "            # 将数据移动到GPU上\n",
    "            inputs,targets = inputs.to(args.device),targets.to(args.device)\n",
    "            outputs = model(inputs)\n",
    "            loss = criterion(outputs, targets.unsqueeze(1))\n",
    "            total_loss += loss.item()\n",
    "            \n",
    "    #绘图和计算误差\n",
    "    model.eval()  \n",
    "    predictions = []\n",
    "    actuals = []\n",
    "    for inputs, targets in test_loader:\n",
    "        inputs,targets = inputs.to(args.device),targets.to(args.device)\n",
    "        outputs = model(inputs)\n",
    "        predictions.extend(outputs.view(-1).tolist())\n",
    "        actuals.extend(targets.tolist())\n",
    "        \n",
    "    # 转换为numpy数组以便绘图\n",
    "    predictions = np.array(predictions)\n",
    "    actuals = np.array(actuals)\n",
    "    \n",
    "    # 可视化1: 真实值与预测值的对比\n",
    "    plt.figure(figsize=(12, 6))\n",
    "    plt.plot(actuals[-300:], label='true', color='blue')\n",
    "    plt.plot(predictions[-300:], label='pred', color='red')\n",
    "    plt.title('Label: true vs pred')\n",
    "    plt.xlabel('date')\n",
    "    plt.ylabel('IO_close')\n",
    "    plt.legend()\n",
    "    plt.show()\n",
    "    \n",
    "    # 可视化2: 预测误差的分布\n",
    "    errors = actuals - predictions\n",
    "    plt.figure(figsize=(12, 6))\n",
    "    plt.hist(errors, bins=50, color='gray')\n",
    "    plt.title('pred_erro_distribution')\n",
    "    plt.xlabel('pred_error')\n",
    "    plt.ylabel('counts')\n",
    "    plt.show()\n",
    "    \n",
    "    # 将测试集的实际值和预测值转换为numpy数组（如果它们还不是的话）\n",
    "    actuals_np = np.array(actuals)  \n",
    "    predictions_np = np.array(predictions)  \n",
    "    results_df = pd.DataFrame({'y_test': actuals_np,'y_test_pred': predictions_np})\n",
    "    # 显示DataFrame的前几行\n",
    "    print(\"\\n展示部分test_set上的拟合效果\")\n",
    "    print(results_df.head())\n",
    "    print('\\n')\n",
    "    print(f'测试集平均损失: {total_loss/len(test_loader):.4f}\\n')\n",
    "    return results_df\n",
    "#模型参数\n",
    "\n",
    "input_size = 3  # 由于有三个特征\n",
    "hidden_size = 64  # 隐藏层大小\n",
    "num_layers = 2  # LSTM层数\n",
    "model = LSTMRegressor(input_size, hidden_size, num_layers=num_layers)\n",
    "print(model)\n",
    "len_seq = 30\n",
    "train_loader,val_loader,test_loader=LoadData(data_IO_C_all,len_seq)\n",
    "args=Args()\n",
    "model=train(model,train_loader,val_loader,args)\n",
    "TEST(test_loader,args,model)\n",
    "print('\\n')"
   ]
  },
  {
   "cell_type": "code",
   "execution_count": null,
   "id": "71222199280c8b00",
   "metadata": {
    "ExecuteTime": {
     "end_time": "2024-01-23T03:57:01.875385600Z",
     "start_time": "2024-01-23T03:57:01.828471600Z"
    },
    "collapsed": false,
    "jupyter": {
     "outputs_hidden": false
    }
   },
   "outputs": [],
   "source": []
  },
  {
   "cell_type": "code",
   "execution_count": 9,
   "id": "23b7a35c0f30bc37",
   "metadata": {
    "ExecuteTime": {
     "end_time": "2024-01-23T03:57:01.875385600Z",
     "start_time": "2024-01-23T03:57:01.834304800Z"
    },
    "collapsed": false,
    "jupyter": {
     "outputs_hidden": false
    }
   },
   "outputs": [],
   "source": [
    "# mlp_resnet.py\n",
    "import torch\n",
    "import torch.nn as nn\n",
    "import torch.nn.functional as F\n",
    "\n",
    "class MLPBlock(nn.Module):\n",
    "    def __init__(self, input_dim, hidden_dim, output_dim):\n",
    "        super(MLPBlock, self).__init__()\n",
    "        self.fc1 = nn.Linear(input_dim, hidden_dim)\n",
    "        self.fc2 = nn.Linear(hidden_dim, output_dim)\n",
    "\n",
    "    def forward(self, x):\n",
    "        x = F.relu(self.fc1(x))\n",
    "        x = self.fc2(x)\n",
    "        return x\n",
    "\n",
    "class ResidualMLP(nn.Module):\n",
    "    def __init__(self, input_dim, hidden_dim, output_dim):\n",
    "        super(ResidualMLP, self).__init__()\n",
    "        self.mlp = MLPBlock(input_dim, hidden_dim, output_dim)\n",
    "        self.shortcut = nn.Linear(input_dim, output_dim)\n",
    "\n",
    "    def forward(self, x):\n",
    "        identity = self.shortcut(x)\n",
    "        x = self.mlp(x)\n",
    "        x += identity\n",
    "        return x\n",
    "    \n",
    "class MLPResNet(nn.Module):\n",
    "    def __init__(self, input_dim, hidden_dim, output_dim, num_blocks):\n",
    "        super(MLPResNet, self).__init__()\n",
    "        self.input_fc = nn.Linear(input_dim, hidden_dim)\n",
    "        self.res_blocks = nn.ModuleList([ResidualMLP(hidden_dim, hidden_dim, hidden_dim) for _ in range(num_blocks)])\n",
    "        self.output_fc = nn.Linear(hidden_dim, output_dim)\n",
    "\n",
    "    def forward(self, x):\n",
    "        batch_size, len_seq, _ = x.shape\n",
    "        outputs = []\n",
    "\n",
    "        for t in range(len_seq):\n",
    "            xt = x[:, t, :]\n",
    "            xt = F.relu(self.input_fc(xt))\n",
    "            for block in self.res_blocks:\n",
    "                xt = block(xt)\n",
    "            xt = self.output_fc(xt)\n",
    "            outputs.append(xt)\n",
    "\n",
    "        # Aggregate outputs\n",
    "        outputs = torch.stack(outputs, dim=1)  # [batch_size, len_seq, output_dim]\n",
    "        outputs = torch.mean(outputs, dim=1)  # [batch_size, output_dim]\n",
    "\n",
    "        return outputs\n",
    "# 下一步我们将定义整个 ResNet 类，它将包含多个这样的残差 MLP 块。请输入 \"next\" 或 \"continue\" 来进行下一步。😄"
   ]
  },
  {
   "cell_type": "code",
   "execution_count": 10,
   "id": "ee47b82829887c68",
   "metadata": {
    "ExecuteTime": {
     "end_time": "2024-01-23T03:57:35.092613900Z",
     "start_time": "2024-01-23T03:57:01.849381Z"
    },
    "collapsed": false,
    "jupyter": {
     "outputs_hidden": false
    }
   },
   "outputs": [
    {
     "name": "stdout",
     "output_type": "stream",
     "text": [
      "MLPResNet(\n",
      "  (input_fc): Linear(in_features=3, out_features=64, bias=True)\n",
      "  (res_blocks): ModuleList(\n",
      "    (0): ResidualMLP(\n",
      "      (mlp): MLPBlock(\n",
      "        (fc1): Linear(in_features=64, out_features=64, bias=True)\n",
      "        (fc2): Linear(in_features=64, out_features=64, bias=True)\n",
      "      )\n",
      "      (shortcut): Linear(in_features=64, out_features=64, bias=True)\n",
      "    )\n",
      "    (1): ResidualMLP(\n",
      "      (mlp): MLPBlock(\n",
      "        (fc1): Linear(in_features=64, out_features=64, bias=True)\n",
      "        (fc2): Linear(in_features=64, out_features=64, bias=True)\n",
      "      )\n",
      "      (shortcut): Linear(in_features=64, out_features=64, bias=True)\n",
      "    )\n",
      "    (2): ResidualMLP(\n",
      "      (mlp): MLPBlock(\n",
      "        (fc1): Linear(in_features=64, out_features=64, bias=True)\n",
      "        (fc2): Linear(in_features=64, out_features=64, bias=True)\n",
      "      )\n",
      "      (shortcut): Linear(in_features=64, out_features=64, bias=True)\n",
      "    )\n",
      "    (3): ResidualMLP(\n",
      "      (mlp): MLPBlock(\n",
      "        (fc1): Linear(in_features=64, out_features=64, bias=True)\n",
      "        (fc2): Linear(in_features=64, out_features=64, bias=True)\n",
      "      )\n",
      "      (shortcut): Linear(in_features=64, out_features=64, bias=True)\n",
      "    )\n",
      "    (4): ResidualMLP(\n",
      "      (mlp): MLPBlock(\n",
      "        (fc1): Linear(in_features=64, out_features=64, bias=True)\n",
      "        (fc2): Linear(in_features=64, out_features=64, bias=True)\n",
      "      )\n",
      "      (shortcut): Linear(in_features=64, out_features=64, bias=True)\n",
      "    )\n",
      "  )\n",
      "  (output_fc): Linear(in_features=64, out_features=1, bias=True)\n",
      ")\n",
      "Using cuda\n",
      "Training on cuda...\n",
      "Epoch [1/50], Training Loss: 6107.1853, Validation Loss: 369.0012\n",
      "Epoch [2/50], Training Loss: 1635.5611, Validation Loss: 80.4762\n",
      "Epoch [3/50], Training Loss: 121.6982, Validation Loss: 109.4533\n",
      "Epoch [4/50], Training Loss: 139.4801, Validation Loss: 88.1512\n",
      "Epoch [5/50], Training Loss: 142.8349, Validation Loss: 641.6490\n",
      "Epoch [6/50], Training Loss: 146895.1689, Validation Loss: 46886.3058\n",
      "Epoch [7/50], Training Loss: 14977.7089, Validation Loss: 550.1565\n",
      "Epoch [8/50], Training Loss: 378.4959, Validation Loss: 320.0376\n",
      "Epoch     8: reducing learning rate of group 0 to 1.0000e-03.\n",
      "Epoch [9/50], Training Loss: 188.0828, Validation Loss: 190.9090\n",
      "Epoch [10/50], Training Loss: 168.5961, Validation Loss: 196.7687\n",
      "Epoch [11/50], Training Loss: 161.5671, Validation Loss: 154.6213\n",
      "Epoch [12/50], Training Loss: 155.2610, Validation Loss: 145.5954\n",
      "Early stopping triggered after 12 epochs!\n",
      "模型训练完成！\n",
      "Testing on cuda...\n"
     ]
    },
    {
     "data": {
      "image/png": "[encoded data removed]",
      "text/plain": [
       "<Figure size 864x432 with 1 Axes>"
      ]
     },
     "metadata": {
      "needs_background": "light"
     },
     "output_type": "display_data"
    },
    {
     "data": {
      "image/png": "[encoded data removed]",
      "text/plain": [
       "<Figure size 864x432 with 1 Axes>"
      ]
     },
     "metadata": {
      "needs_background": "light"
     },
     "output_type": "display_data"
    },
    {
     "name": "stdout",
     "output_type": "stream",
     "text": [
      "\n",
      "展示部分test_set上的拟合效果\n",
      "        y_test  y_test_pred\n",
      "0     1.200000     3.304350\n",
      "1     1.000000     2.915198\n",
      "2  1007.599976  1019.340820\n",
      "3   907.799988   918.450562\n",
      "4   808.000000   816.584961\n",
      "\n",
      "\n",
      "测试集平均损失: 769.1202\n",
      "\n"
     ]
    },
    {
     "data": {
      "text/html": [
       "<div>\n",
       "<style scoped>\n",
       "    .dataframe tbody tr th:only-of-type {\n",
       "        vertical-align: middle;\n",
       "    }\n",
       "\n",
       "    .dataframe tbody tr th {\n",
       "        vertical-align: top;\n",
       "    }\n",
       "\n",
       "    .dataframe thead th {\n",
       "        text-align: right;\n",
       "    }\n",
       "</style>\n",
       "<table border=\"1\" class=\"dataframe\">\n",
       "  <thead>\n",
       "    <tr style=\"text-align: right;\">\n",
       "      <th></th>\n",
       "      <th>y_test</th>\n",
       "      <th>y_test_pred</th>\n",
       "    </tr>\n",
       "  </thead>\n",
       "  <tbody>\n",
       "    <tr>\n",
       "      <th>0</th>\n",
       "      <td>1.200000</td>\n",
       "      <td>3.304350</td>\n",
       "    </tr>\n",
       "    <tr>\n",
       "      <th>1</th>\n",
       "      <td>1.000000</td>\n",
       "      <td>2.915198</td>\n",
       "    </tr>\n",
       "    <tr>\n",
       "      <th>2</th>\n",
       "      <td>1007.599976</td>\n",
       "      <td>1019.340820</td>\n",
       "    </tr>\n",
       "    <tr>\n",
       "      <th>3</th>\n",
       "      <td>907.799988</td>\n",
       "      <td>918.450562</td>\n",
       "    </tr>\n",
       "    <tr>\n",
       "      <th>4</th>\n",
       "      <td>808.000000</td>\n",
       "      <td>816.584961</td>\n",
       "    </tr>\n",
       "    <tr>\n",
       "      <th>...</th>\n",
       "      <td>...</td>\n",
       "      <td>...</td>\n",
       "    </tr>\n",
       "    <tr>\n",
       "      <th>5428</th>\n",
       "      <td>1.000000</td>\n",
       "      <td>25.291430</td>\n",
       "    </tr>\n",
       "    <tr>\n",
       "      <th>5429</th>\n",
       "      <td>0.800000</td>\n",
       "      <td>22.785372</td>\n",
       "    </tr>\n",
       "    <tr>\n",
       "      <th>5430</th>\n",
       "      <td>0.800000</td>\n",
       "      <td>20.792238</td>\n",
       "    </tr>\n",
       "    <tr>\n",
       "      <th>5431</th>\n",
       "      <td>0.600000</td>\n",
       "      <td>18.427671</td>\n",
       "    </tr>\n",
       "    <tr>\n",
       "      <th>5432</th>\n",
       "      <td>0.600000</td>\n",
       "      <td>16.039625</td>\n",
       "    </tr>\n",
       "  </tbody>\n",
       "</table>\n",
       "<p>5433 rows × 2 columns</p>\n",
       "</div>"
      ],
      "text/plain": [
       "           y_test  y_test_pred\n",
       "0        1.200000     3.304350\n",
       "1        1.000000     2.915198\n",
       "2     1007.599976  1019.340820\n",
       "3      907.799988   918.450562\n",
       "4      808.000000   816.584961\n",
       "...           ...          ...\n",
       "5428     1.000000    25.291430\n",
       "5429     0.800000    22.785372\n",
       "5430     0.800000    20.792238\n",
       "5431     0.600000    18.427671\n",
       "5432     0.600000    16.039625\n",
       "\n",
       "[5433 rows x 2 columns]"
      ]
     },
     "execution_count": 10,
     "metadata": {},
     "output_type": "execute_result"
    }
   ],
   "source": [
    "model = MLPResNet(input_dim=3, hidden_dim=64, output_dim=1, num_blocks=5)  # num_blocks=2 表示有两个残差块,实际的层数为 num_blocks + 1\n",
    "print(model)\n",
    "train_loader,val_loader,test_loader=LoadData(data_IO_C_all,1)\n",
    "args=Args()\n",
    "args.lr = 0.0001\n",
    "args.num_epochs= 50\n",
    "model=train(model,train_loader,val_loader,args)\n",
    "TEST(test_loader,args,model)"
   ]
  }
 ],
 "metadata": {
  "kernelspec": {
   "display_name": "Python 3 (ipykernel)",
   "language": "python",
   "name": "python3"
  },
  "language_info": {
   "codemirror_mode": {
    "name": "ipython",
    "version": 3
   },
   "file_extension": ".py",
   "mimetype": "text/x-python",
   "name": "python",
   "nbconvert_exporter": "python",
   "pygments_lexer": "ipython3",
   "version": "3.8.10"
  }
 },
 "nbformat": 4,
 "nbformat_minor": 5
}
