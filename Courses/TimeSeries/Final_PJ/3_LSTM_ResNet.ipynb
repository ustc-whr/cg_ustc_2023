{
 "cells": [
  {
   "cell_type": "code",
   "execution_count": 1,
   "id": "93e9bbaf179eb791",
   "metadata": {
    "ExecuteTime": {
     "end_time": "2024-01-23T03:58:17.567089Z",
     "start_time": "2024-01-23T03:58:17.524380600Z"
    },
    "collapsed": false,
    "jupyter": {
     "outputs_hidden": false
    }
   },
   "outputs": [],
   "source": [
    "import pandas as pd\n",
    "import numpy as np\n",
    "import matplotlib.pyplot as plt\n",
    "%matplotlib inline\n",
    "import torch\n",
    "import torch\n",
    "import torch.nn as nn\n",
    "import torch.nn.functional as F"
   ]
  },
  {
   "cell_type": "code",
   "execution_count": 2,
   "id": "825eb2a62f8d14a9",
   "metadata": {
    "ExecuteTime": {
     "end_time": "2024-01-23T03:58:17.699591500Z",
     "start_time": "2024-01-23T03:58:17.532075800Z"
    },
    "collapsed": false,
    "jupyter": {
     "outputs_hidden": false
    }
   },
   "outputs": [
    {
     "data": {
      "text/html": [
       "<div>\n",
       "<style scoped>\n",
       "    .dataframe tbody tr th:only-of-type {\n",
       "        vertical-align: middle;\n",
       "    }\n",
       "\n",
       "    .dataframe tbody tr th {\n",
       "        vertical-align: top;\n",
       "    }\n",
       "\n",
       "    .dataframe thead th {\n",
       "        text-align: right;\n",
       "    }\n",
       "</style>\n",
       "<table border=\"1\" class=\"dataframe\">\n",
       "  <thead>\n",
       "    <tr style=\"text-align: right;\">\n",
       "      <th></th>\n",
       "      <th>date</th>\n",
       "      <th>IF_close</th>\n",
       "      <th>code</th>\n",
       "      <th>strike</th>\n",
       "      <th>IOIF_delta_price</th>\n",
       "      <th>exp_day</th>\n",
       "      <th>IO_close</th>\n",
       "    </tr>\n",
       "  </thead>\n",
       "  <tbody>\n",
       "    <tr>\n",
       "      <th>0</th>\n",
       "      <td>2020-01-20</td>\n",
       "      <td>4194.8</td>\n",
       "      <td>IO2002-C-3550</td>\n",
       "      <td>3550</td>\n",
       "      <td>-644.8</td>\n",
       "      <td>32</td>\n",
       "      <td>643.8</td>\n",
       "    </tr>\n",
       "    <tr>\n",
       "      <th>1</th>\n",
       "      <td>2020-01-20</td>\n",
       "      <td>4194.8</td>\n",
       "      <td>IO2002-C-3600</td>\n",
       "      <td>3600</td>\n",
       "      <td>-594.8</td>\n",
       "      <td>32</td>\n",
       "      <td>594.0</td>\n",
       "    </tr>\n",
       "    <tr>\n",
       "      <th>2</th>\n",
       "      <td>2020-01-20</td>\n",
       "      <td>4194.8</td>\n",
       "      <td>IO2002-C-3650</td>\n",
       "      <td>3650</td>\n",
       "      <td>-544.8</td>\n",
       "      <td>32</td>\n",
       "      <td>553.2</td>\n",
       "    </tr>\n",
       "    <tr>\n",
       "      <th>3</th>\n",
       "      <td>2020-01-20</td>\n",
       "      <td>4194.8</td>\n",
       "      <td>IO2002-C-3700</td>\n",
       "      <td>3700</td>\n",
       "      <td>-494.8</td>\n",
       "      <td>32</td>\n",
       "      <td>506.4</td>\n",
       "    </tr>\n",
       "    <tr>\n",
       "      <th>4</th>\n",
       "      <td>2020-01-20</td>\n",
       "      <td>4194.8</td>\n",
       "      <td>IO2002-C-3750</td>\n",
       "      <td>3750</td>\n",
       "      <td>-444.8</td>\n",
       "      <td>32</td>\n",
       "      <td>457.0</td>\n",
       "    </tr>\n",
       "  </tbody>\n",
       "</table>\n",
       "</div>"
      ],
      "text/plain": [
       "         date  IF_close           code  strike  IOIF_delta_price  exp_day  \\\n",
       "0  2020-01-20    4194.8  IO2002-C-3550    3550            -644.8       32   \n",
       "1  2020-01-20    4194.8  IO2002-C-3600    3600            -594.8       32   \n",
       "2  2020-01-20    4194.8  IO2002-C-3650    3650            -544.8       32   \n",
       "3  2020-01-20    4194.8  IO2002-C-3700    3700            -494.8       32   \n",
       "4  2020-01-20    4194.8  IO2002-C-3750    3750            -444.8       32   \n",
       "\n",
       "   IO_close  \n",
       "0     643.8  \n",
       "1     594.0  \n",
       "2     553.2  \n",
       "3     506.4  \n",
       "4     457.0  "
      ]
     },
     "execution_count": 2,
     "metadata": {},
     "output_type": "execute_result"
    }
   ],
   "source": [
    "# data_IO_C_all.to_csv('data_IO_C_all.csv',index=False)\n",
    "data_IO_C_all=pd.read_csv('data_IO_C_all.csv')\n",
    "data_IO_C_all.head()"
   ]
  },
  {
   "cell_type": "markdown",
   "id": "c52a8656ff9f2140",
   "metadata": {},
   "source": []
  },
  {
   "cell_type": "code",
   "execution_count": null,
   "id": "493354f02397b5d0",
   "metadata": {
    "ExecuteTime": {
     "end_time": "2024-01-23T03:58:17.700589100Z",
     "start_time": "2024-01-23T03:58:17.575902400Z"
    },
    "collapsed": false,
    "jupyter": {
     "outputs_hidden": false
    }
   },
   "outputs": [],
   "source": []
  },
  {
   "cell_type": "markdown",
   "id": "92db9a7fdc390d10",
   "metadata": {},
   "source": [
    "# 用LSTM来拟合CALL_STL_PRICE和PUT_STL_PRICE"
   ]
  },
  {
   "cell_type": "code",
   "execution_count": 3,
   "id": "7c4ace2c1c9ca137",
   "metadata": {
    "ExecuteTime": {
     "end_time": "2024-01-23T03:58:17.700589100Z",
     "start_time": "2024-01-23T03:58:17.592977900Z"
    },
    "collapsed": false,
    "jupyter": {
     "outputs_hidden": false
    }
   },
   "outputs": [],
   "source": [
    "import numpy as np\n",
    "from sklearn.model_selection import train_test_split\n",
    "from sklearn.preprocessing import StandardScaler\n",
    "import torch\n",
    "from torch.utils.data import TensorDataset, DataLoader\n",
    "def create_sequences(data, sequence_length):\n",
    "    sequences = []\n",
    "    for i in range(len(data) - sequence_length + 1):\n",
    "        sequences.append(data[i:i + sequence_length])\n",
    "    return np.array(sequences)\n",
    "\n",
    "def LoadData(df, sequence_length):\n",
    "    features = df[['IF_close', 'IOIF_delta_price', 'exp_day']].values\n",
    "    labels = df['IO_close'].values\n",
    "\n",
    "    # 数据标准化\n",
    "    scaler = StandardScaler()\n",
    "    features = scaler.fit_transform(features)\n",
    "\n",
    "    # 创建序列\n",
    "    X = create_sequences(features, sequence_length)\n",
    "    y = labels[sequence_length-1:]\n",
    "\n",
    "    # 划分数据集\n",
    "    X_train, X_test, y_train, y_test = train_test_split(X, y, test_size=0.2, shuffle=False)\n",
    "    X_train, X_val, y_train, y_val = train_test_split(X_train, y_train, test_size=0.15, shuffle=False)\n",
    "    \n",
    "    # 转换为PyTorch张量\n",
    "    X_train = torch.tensor(X_train, dtype=torch.float32)\n",
    "    y_train = torch.tensor(y_train, dtype=torch.float32)\n",
    "    X_val = torch.tensor(X_val, dtype=torch.float32)\n",
    "    y_val = torch.tensor(y_val, dtype=torch.float32)\n",
    "    X_test = torch.tensor(X_test, dtype=torch.float32)\n",
    "    y_test = torch.tensor(y_test, dtype=torch.float32)\n",
    "\n",
    "    # DataLoader\n",
    "    train_data = TensorDataset(X_train, y_train)\n",
    "    val_data = TensorDataset(X_val, y_val)\n",
    "    test_data = TensorDataset(X_test, y_test)\n",
    "\n",
    "    Batch_size = 64\n",
    "    \n",
    "    train_loader = DataLoader(train_data, batch_size=Batch_size, shuffle=True)\n",
    "    val_loader = DataLoader(val_data, batch_size=Batch_size)\n",
    "    test_loader = DataLoader(test_data, batch_size=Batch_size)\n",
    "    \n",
    "    return train_loader, val_loader, test_loader"
   ]
  },
  {
   "cell_type": "code",
   "execution_count": 4,
   "id": "91b77169180b19da",
   "metadata": {
    "ExecuteTime": {
     "end_time": "2024-01-23T03:58:17.700589100Z",
     "start_time": "2024-01-23T03:58:17.600591700Z"
    },
    "collapsed": false,
    "jupyter": {
     "outputs_hidden": false
    }
   },
   "outputs": [],
   "source": [
    "import torch.nn as nn"
   ]
  },
  {
   "cell_type": "code",
   "execution_count": 5,
   "id": "1f5c6fb2-22aa-4104-a38e-5bd5794edc4c",
   "metadata": {
    "ExecuteTime": {
     "end_time": "2024-01-23T03:58:17.700589100Z",
     "start_time": "2024-01-23T03:58:17.604595400Z"
    }
   },
   "outputs": [],
   "source": [
    "#定义参数的CLASS\n",
    "class Args():\n",
    "    def __init__(self):\n",
    "        self.lr=0.01\n",
    "        self.num_epochs=150\n",
    "        self.best_val_loss=float('inf')\n",
    "        self.device=torch.device('cuda' if torch.cuda.is_available() else 'cpu')\n",
    "        print(f'Using {self.device}')\n",
    "        self.criterion=nn.MSELoss()\n",
    "        self.optimizer=torch.optim.Adam(model.parameters(), lr=0.01)\n",
    "        #self.scheduler=ReduceLROnPlateau(optimizer, 'min', patience=5, factor=0.1, min_lr=1e-6, verbose=True)"
   ]
  },
  {
   "cell_type": "code",
   "execution_count": 6,
   "id": "2dfa2e3653f4421b",
   "metadata": {
    "ExecuteTime": {
     "end_time": "2024-01-23T03:58:17.700589100Z",
     "start_time": "2024-01-23T03:58:17.611194600Z"
    },
    "collapsed": false,
    "jupyter": {
     "outputs_hidden": false
    }
   },
   "outputs": [],
   "source": [
    "from torch.optim.lr_scheduler import ReduceLROnPlateau\n",
    "import torch\n",
    "def train(model, train_loader, val_loader, args):\n",
    "    torch.autograd.set_detect_anomaly(True)\n",
    "    print(f'Training on {args.device}...')\n",
    "    model.to(args.device)\n",
    "    criterion = args.criterion\n",
    "    optimizer = args.optimizer\n",
    "    scheduler = ReduceLROnPlateau(optimizer, 'min', patience=5, factor=0.1, min_lr=1e-7, verbose=True)\n",
    "\n",
    "    num_epochs = args.num_epochs\n",
    "    best_val_loss = args.best_val_loss\n",
    "\n",
    "    early_stop_patience = 10  # 设置早停\n",
    "    epochs_no_improve = 0 \n",
    "\n",
    "    for epoch in range(num_epochs):\n",
    "        model.train()\n",
    "        running_loss = 0.0\n",
    "\n",
    "        for inputs, targets in train_loader:\n",
    "            inputs, targets = inputs.to(args.device), targets.to(args.device)\n",
    "            optimizer.zero_grad()\n",
    "            outputs = model(inputs)\n",
    "            loss = criterion(outputs, targets.unsqueeze(1))\n",
    "            loss.backward()\n",
    "            optimizer.step()\n",
    "            running_loss += loss.item()\n",
    "\n",
    "        model.eval()\n",
    "        total_loss = 0.0\n",
    "\n",
    "        with torch.no_grad():\n",
    "            for inputs, targets in val_loader:\n",
    "                inputs, targets = inputs.to(args.device), targets.to(args.device)\n",
    "                outputs = model(inputs)\n",
    "                outputs = outputs.squeeze(1)\n",
    "                loss = criterion(outputs, targets)\n",
    "                total_loss += loss.item()\n",
    "\n",
    "        avg_val_loss = total_loss / len(val_loader)\n",
    "        print(f'Epoch [{epoch+1}/{num_epochs}], Training Loss: {running_loss/len(train_loader):.4f}, Validation Loss: {avg_val_loss:.4f}')\n",
    "\n",
    "        # 更新 scheduler\n",
    "        scheduler.step(avg_val_loss)\n",
    "\n",
    "        # 保存最好的模型，并检查早停条件\n",
    "        if avg_val_loss < best_val_loss:\n",
    "            best_val_loss = avg_val_loss\n",
    "            torch.save(model.state_dict(), 'best_model.pt')\n",
    "            epochs_no_improve = 0\n",
    "        else:\n",
    "            epochs_no_improve += 1\n",
    "            \n",
    "        # 检查是否达到早停条件\n",
    "        if epochs_no_improve == early_stop_patience:\n",
    "            print(f'Early stopping triggered after {epoch + 1} epochs!')\n",
    "            break\n",
    "    print(\"模型训练完成！\")\n",
    "    return model"
   ]
  },
  {
   "cell_type": "code",
   "execution_count": 7,
   "id": "c43554f55a844099",
   "metadata": {
    "ExecuteTime": {
     "end_time": "2024-01-23T03:58:17.700589100Z",
     "start_time": "2024-01-23T03:58:17.625302Z"
    },
    "collapsed": false,
    "jupyter": {
     "outputs_hidden": false
    }
   },
   "outputs": [],
   "source": [
    "# 模型评估\n",
    "def TEST(test_loader,args,model):\n",
    "    print(f'Testing on {args.device}...')\n",
    "    model.to(args.device)\n",
    "    criterion=args.criterion\n",
    "    model.eval()  \n",
    "    total_loss = 0.0\n",
    "    \n",
    "    with torch.no_grad():  # 在评估阶段不计算梯度\n",
    "        for inputs, targets in test_loader:\n",
    "            # 将数据移动到GPU上\n",
    "            inputs,targets = inputs.to(args.device),targets.to(args.device)\n",
    "            outputs = model(inputs)\n",
    "            loss = criterion(outputs, targets.unsqueeze(1))\n",
    "            total_loss += loss.item()\n",
    "            \n",
    "    #绘图和计算误差\n",
    "    model.eval()  \n",
    "    predictions = []\n",
    "    actuals = []\n",
    "    for inputs, targets in test_loader:\n",
    "        inputs,targets = inputs.to(args.device),targets.to(args.device)\n",
    "        outputs = model(inputs)\n",
    "        predictions.extend(outputs.view(-1).tolist())\n",
    "        actuals.extend(targets.tolist())\n",
    "        \n",
    "    # 转换为numpy数组以便绘图\n",
    "    predictions = np.array(predictions)\n",
    "    actuals = np.array(actuals)\n",
    "    \n",
    "    # 可视化1: 真实值与预测值的对比\n",
    "    plt.figure(figsize=(12, 6))\n",
    "    plt.plot(actuals[-300:], label='true', color='blue')\n",
    "    plt.plot(predictions[-300:], label='pred', color='red')\n",
    "    plt.title('Label: true vs pred')\n",
    "    plt.xlabel('date')\n",
    "    plt.ylabel('IO_close')\n",
    "    plt.legend()\n",
    "    plt.show()\n",
    "    \n",
    "    # 可视化2: 预测误差的分布\n",
    "    errors = actuals - predictions\n",
    "    plt.figure(figsize=(12, 6))\n",
    "    plt.hist(errors, bins=50, color='gray')\n",
    "    plt.title('pred_erro_distribution')\n",
    "    plt.xlabel('pred_error')\n",
    "    plt.ylabel('counts')\n",
    "    plt.show()\n",
    "    \n",
    "    # 将测试集的实际值和预测值转换为numpy数组（如果它们还不是的话）\n",
    "    actuals_np = np.array(actuals)  \n",
    "    predictions_np = np.array(predictions)  \n",
    "    results_df = pd.DataFrame({'y_test': actuals_np,'y_test_pred': predictions_np})\n",
    "    # 显示DataFrame的前几行\n",
    "    print(\"\\n展示部分test_set上的拟合效果\")\n",
    "    print(results_df.head())\n",
    "    print('\\n')\n",
    "    print(f'测试集平均损失: {total_loss/len(test_loader):.4f}\\n')\n",
    "    return results_df"
   ]
  },
  {
   "cell_type": "code",
   "execution_count": 8,
   "id": "fe5ba4b88dfe9788",
   "metadata": {
    "ExecuteTime": {
     "end_time": "2024-01-23T03:58:17.700589100Z",
     "start_time": "2024-01-23T03:58:17.643414100Z"
    },
    "collapsed": false,
    "jupyter": {
     "outputs_hidden": false
    }
   },
   "outputs": [],
   "source": [
    "import torch\n",
    "import torch.nn as nn\n",
    "\n",
    "class LSTMResNet(nn.Module):\n",
    "    def __init__(self, num_features, hidden_size, num_layers, output_size):\n",
    "        super(LSTMResNet, self).__init__()\n",
    "        self.hidden_size = hidden_size\n",
    "        self.num_layers = num_layers\n",
    "        \n",
    "        # LSTM layer\n",
    "        self.lstm = nn.LSTM(input_size=num_features, hidden_size=hidden_size, num_layers=num_layers, batch_first=True)\n",
    "        # Fully connected layer\n",
    "        self.fc = nn.Linear(hidden_size, output_size)\n",
    "\n",
    "        # Residual connection\n",
    "        self.shortcut = nn.Sequential(\n",
    "            nn.Linear(num_features, hidden_size),\n",
    "            nn.ReLU(),\n",
    "            nn.Linear(hidden_size, output_size)\n",
    "        )\n",
    "\n",
    "    def forward(self, x):\n",
    "        # Initial hidden state and cell state\n",
    "        h0 = torch.zeros(self.num_layers, x.size(0), self.hidden_size).to(x.device)\n",
    "        c0 = torch.zeros(self.num_layers, x.size(0), self.hidden_size).to(x.device)\n",
    "        \n",
    "        # Forward propagate LSTM\n",
    "        out, _ = self.lstm(x, (h0, c0))\n",
    "        # Take the output of the last time step\n",
    "        out = out[:, -1, :]\n",
    "        \n",
    "        # Residual connection\n",
    "        residual = self.shortcut(x[:, -1, :])\n",
    "        \n",
    "        # Final output\n",
    "        out = self.fc(out) + residual\n",
    "        return out\n"
   ]
  },
  {
   "cell_type": "code",
   "execution_count": 9,
   "id": "4574e22a8257528",
   "metadata": {
    "ExecuteTime": {
     "end_time": "2024-01-23T03:58:17.700589100Z",
     "start_time": "2024-01-23T03:58:17.654193300Z"
    },
    "collapsed": false,
    "jupyter": {
     "outputs_hidden": false
    }
   },
   "outputs": [],
   "source": [
    "model = LSTMResNet(num_features=3, hidden_size=64, num_layers=2, output_size=1)"
   ]
  },
  {
   "cell_type": "code",
   "execution_count": 10,
   "id": "c96dec81edf5dd33",
   "metadata": {
    "ExecuteTime": {
     "end_time": "2024-01-23T04:05:00.215842Z",
     "start_time": "2024-01-23T03:58:17.662584Z"
    },
    "collapsed": false,
    "jupyter": {
     "outputs_hidden": false
    }
   },
   "outputs": [
    {
     "name": "stdout",
     "output_type": "stream",
     "text": [
      "Using cuda\n",
      "Training on cuda...\n",
      "Epoch [1/150], Training Loss: 77699.3554, Validation Loss: 3379.4936\n",
      "Epoch [2/150], Training Loss: 2983.1248, Validation Loss: 394.9000\n",
      "Epoch [3/150], Training Loss: 350.3524, Validation Loss: 222.4154\n",
      "Epoch [4/150], Training Loss: 172.4357, Validation Loss: 132.8069\n",
      "Epoch [5/150], Training Loss: 137.2103, Validation Loss: 87.0572\n",
      "Epoch [6/150], Training Loss: 118.9209, Validation Loss: 74.5050\n",
      "Epoch [7/150], Training Loss: 107.7312, Validation Loss: 62.0414\n",
      "Epoch [8/150], Training Loss: 101.2783, Validation Loss: 63.4670\n",
      "Epoch [9/150], Training Loss: 97.8727, Validation Loss: 63.3432\n",
      "Epoch [10/150], Training Loss: 95.6487, Validation Loss: 51.9202\n",
      "Epoch [11/150], Training Loss: 94.8809, Validation Loss: 74.5758\n",
      "Epoch [12/150], Training Loss: 94.1785, Validation Loss: 61.8961\n",
      "Epoch [13/150], Training Loss: 94.0801, Validation Loss: 67.2277\n",
      "Epoch [14/150], Training Loss: 94.0631, Validation Loss: 48.1975\n",
      "Epoch [15/150], Training Loss: 93.8255, Validation Loss: 55.4615\n",
      "Epoch [16/150], Training Loss: 93.6189, Validation Loss: 64.6437\n",
      "Epoch [17/150], Training Loss: 93.9592, Validation Loss: 60.9824\n",
      "Epoch [18/150], Training Loss: 94.2378, Validation Loss: 75.3995\n",
      "Epoch [19/150], Training Loss: 94.1600, Validation Loss: 62.9173\n",
      "Epoch [20/150], Training Loss: 94.2267, Validation Loss: 69.5176\n",
      "Epoch    20: reducing learning rate of group 0 to 1.0000e-03.\n",
      "Epoch [21/150], Training Loss: 92.2559, Validation Loss: 59.3322\n",
      "Epoch [22/150], Training Loss: 91.9799, Validation Loss: 62.2200\n",
      "Epoch [23/150], Training Loss: 91.9949, Validation Loss: 53.8336\n",
      "Epoch [24/150], Training Loss: 92.0124, Validation Loss: 58.7005\n",
      "Early stopping triggered after 24 epochs!\n",
      "模型训练完成！\n",
      "Testing on cuda...\n"
     ]
    },
    {
     "data": {
      "image/png": "[encoded data removed]",
      "text/plain": [
       "<Figure size 864x432 with 1 Axes>"
      ]
     },
     "metadata": {
      "needs_background": "light"
     },
     "output_type": "display_data"
    },
    {
     "data": {
      "image/png": "[encoded data removed]",
      "text/plain": [
       "<Figure size 864x432 with 1 Axes>"
      ]
     },
     "metadata": {
      "needs_background": "light"
     },
     "output_type": "display_data"
    },
    {
     "name": "stdout",
     "output_type": "stream",
     "text": [
      "\n",
      "展示部分test_set上的拟合效果\n",
      "        y_test  y_test_pred\n",
      "0  1007.599976  1011.758606\n",
      "1   907.799988   911.991516\n",
      "2   808.000000   812.223572\n",
      "3   708.200012   711.909485\n",
      "4   658.400024   662.006470\n",
      "\n",
      "\n",
      "测试集平均损失: 184.0323\n",
      "\n"
     ]
    },
    {
     "data": {
      "text/html": [
       "<div>\n",
       "<style scoped>\n",
       "    .dataframe tbody tr th:only-of-type {\n",
       "        vertical-align: middle;\n",
       "    }\n",
       "\n",
       "    .dataframe tbody tr th {\n",
       "        vertical-align: top;\n",
       "    }\n",
       "\n",
       "    .dataframe thead th {\n",
       "        text-align: right;\n",
       "    }\n",
       "</style>\n",
       "<table border=\"1\" class=\"dataframe\">\n",
       "  <thead>\n",
       "    <tr style=\"text-align: right;\">\n",
       "      <th></th>\n",
       "      <th>y_test</th>\n",
       "      <th>y_test_pred</th>\n",
       "    </tr>\n",
       "  </thead>\n",
       "  <tbody>\n",
       "    <tr>\n",
       "      <th>0</th>\n",
       "      <td>1007.599976</td>\n",
       "      <td>1011.758606</td>\n",
       "    </tr>\n",
       "    <tr>\n",
       "      <th>1</th>\n",
       "      <td>907.799988</td>\n",
       "      <td>911.991516</td>\n",
       "    </tr>\n",
       "    <tr>\n",
       "      <th>2</th>\n",
       "      <td>808.000000</td>\n",
       "      <td>812.223572</td>\n",
       "    </tr>\n",
       "    <tr>\n",
       "      <th>3</th>\n",
       "      <td>708.200012</td>\n",
       "      <td>711.909485</td>\n",
       "    </tr>\n",
       "    <tr>\n",
       "      <th>4</th>\n",
       "      <td>658.400024</td>\n",
       "      <td>662.006470</td>\n",
       "    </tr>\n",
       "    <tr>\n",
       "      <th>...</th>\n",
       "      <td>...</td>\n",
       "      <td>...</td>\n",
       "    </tr>\n",
       "    <tr>\n",
       "      <th>5426</th>\n",
       "      <td>1.000000</td>\n",
       "      <td>4.704983</td>\n",
       "    </tr>\n",
       "    <tr>\n",
       "      <th>5427</th>\n",
       "      <td>0.800000</td>\n",
       "      <td>3.615067</td>\n",
       "    </tr>\n",
       "    <tr>\n",
       "      <th>5428</th>\n",
       "      <td>0.800000</td>\n",
       "      <td>3.017323</td>\n",
       "    </tr>\n",
       "    <tr>\n",
       "      <th>5429</th>\n",
       "      <td>0.600000</td>\n",
       "      <td>2.811836</td>\n",
       "    </tr>\n",
       "    <tr>\n",
       "      <th>5430</th>\n",
       "      <td>0.600000</td>\n",
       "      <td>2.740326</td>\n",
       "    </tr>\n",
       "  </tbody>\n",
       "</table>\n",
       "<p>5431 rows × 2 columns</p>\n",
       "</div>"
      ],
      "text/plain": [
       "           y_test  y_test_pred\n",
       "0     1007.599976  1011.758606\n",
       "1      907.799988   911.991516\n",
       "2      808.000000   812.223572\n",
       "3      708.200012   711.909485\n",
       "4      658.400024   662.006470\n",
       "...           ...          ...\n",
       "5426     1.000000     4.704983\n",
       "5427     0.800000     3.615067\n",
       "5428     0.800000     3.017323\n",
       "5429     0.600000     2.811836\n",
       "5430     0.600000     2.740326\n",
       "\n",
       "[5431 rows x 2 columns]"
      ]
     },
     "execution_count": 10,
     "metadata": {},
     "output_type": "execute_result"
    }
   ],
   "source": [
    "train_loader,va_loader,test_loader=LoadData(data_IO_C_all,sequence_length=10)\n",
    "args=Args()\n",
    "model=train(model,train_loader,va_loader,args)\n",
    "TEST(test_loader,args,model)"
   ]
  },
  {
   "cell_type": "code",
   "execution_count": 11,
   "id": "d8a33294c6cad65f",
   "metadata": {
    "ExecuteTime": {
     "end_time": "2024-01-23T04:05:00.343518700Z",
     "start_time": "2024-01-23T04:05:00.222775700Z"
    },
    "collapsed": false,
    "jupyter": {
     "outputs_hidden": false
    }
   },
   "outputs": [],
   "source": [
    "import torch\n",
    "import torch.nn as nn\n",
    "\n",
    "class LSTMBlock(nn.Module):\n",
    "    def __init__(self, input_size, hidden_size, num_layers=1):\n",
    "        super(LSTMBlock, self).__init__()\n",
    "        self.lstm = nn.LSTM(input_size=input_size, hidden_size=hidden_size, num_layers=num_layers, batch_first=True)\n",
    "    \n",
    "    def forward(self, x):\n",
    "        h0 = torch.zeros(self.lstm.num_layers, x.size(0), self.lstm.hidden_size).to(x.device)\n",
    "        c0 = torch.zeros(self.lstm.num_layers, x.size(0), self.lstm.hidden_size).to(x.device)\n",
    "        out, _ = self.lstm(x, (h0, c0))\n",
    "        return out\n",
    "\n",
    "class ResidualLSTM(nn.Module):\n",
    "    def __init__(self, input_size, hidden_size, num_layers=1):\n",
    "        super(ResidualLSTM, self).__init__()\n",
    "        self.lstm_block = LSTMBlock(input_size, hidden_size, num_layers)\n",
    "        self.linear = nn.Linear(input_size, hidden_size)\n",
    "    \n",
    "    def forward(self, x):\n",
    "        residual = self.linear(x)\n",
    "        out = self.lstm_block(x)\n",
    "        out = out+residual\n",
    "        return out"
   ]
  },
  {
   "cell_type": "code",
   "execution_count": 12,
   "id": "514f22dc275e9816",
   "metadata": {
    "ExecuteTime": {
     "end_time": "2024-01-23T04:05:00.355521300Z",
     "start_time": "2024-01-23T04:05:00.236942400Z"
    },
    "collapsed": false,
    "jupyter": {
     "outputs_hidden": false
    }
   },
   "outputs": [],
   "source": [
    "class LSTMResNet(nn.Module):\n",
    "    def __init__(self, num_features, hidden_size, num_residual_blocks, num_layers, output_size):\n",
    "        super(LSTMResNet, self).__init__()\n",
    "        self.num_residual_blocks = num_residual_blocks\n",
    "        self.num_layers=num_layers\n",
    "        self.hidden_size=hidden_size\n",
    "        # 初始的LSTM块\n",
    "        self.initial_lstm = nn.LSTM(input_size=num_features, hidden_size=hidden_size, num_layers=num_layers, batch_first=True)\n",
    "        \n",
    "        # 构建残差块序列\n",
    "        self.residual_blocks = nn.ModuleList([ResidualLSTM(hidden_size, hidden_size) for _ in range(num_residual_blocks)])\n",
    "        \n",
    "        # 输出层\n",
    "        self.fc = nn.Linear(hidden_size, output_size)\n",
    "\n",
    "    def forward(self, x):\n",
    "        # 初始LSTM处理\n",
    "        h0 = torch.zeros(self.num_layers, x.size(0), self.hidden_size).to(x.device)\n",
    "        c0 = torch.zeros(self.num_layers, x.size(0), self.hidden_size).to(x.device)\n",
    "        out, _ = self.initial_lstm(x, (h0, c0))\n",
    "\n",
    "        # 通过残差块序列\n",
    "        for block in self.residual_blocks:\n",
    "            out = block(out)\n",
    "        \n",
    "        # 取最后一个时间步的输出\n",
    "        out = out[:, -1, :]\n",
    "        \n",
    "        # 输出层\n",
    "        out = self.fc(out)\n",
    "        return out"
   ]
  },
  {
   "cell_type": "code",
   "execution_count": 16,
   "id": "bd5f79a76c891f52",
   "metadata": {
    "collapsed": false,
    "jupyter": {
     "outputs_hidden": false
    }
   },
   "outputs": [
    {
     "name": "stdout",
     "output_type": "stream",
     "text": [
      "Using cuda\n",
      "Training on cuda...\n",
      "Epoch [1/150], Training Loss: 11622.0928, Validation Loss: 490.6009\n",
      "Epoch [2/150], Training Loss: 2112.8742, Validation Loss: 1979.4888\n",
      "Epoch [3/150], Training Loss: 420.4352, Validation Loss: 196.5411\n",
      "Epoch [4/150], Training Loss: 322.1718, Validation Loss: 129.8082\n",
      "Epoch [5/150], Training Loss: 328.0457, Validation Loss: 306.9677\n",
      "Epoch [6/150], Training Loss: 791.1406, Validation Loss: 105.0242\n",
      "Epoch [7/150], Training Loss: 786.2029, Validation Loss: 232.7876\n",
      "Epoch [8/150], Training Loss: 315.1541, Validation Loss: 205.4222\n",
      "Epoch [9/150], Training Loss: 1474.1829, Validation Loss: 816.3496\n",
      "Epoch [10/150], Training Loss: 761.2681, Validation Loss: 454.8813\n",
      "Epoch [11/150], Training Loss: 144.8564, Validation Loss: 82.7382\n",
      "Epoch [12/150], Training Loss: 198.2772, Validation Loss: 540.5001\n",
      "Epoch [13/150], Training Loss: 254.8416, Validation Loss: 99.0069\n",
      "Epoch [14/150], Training Loss: 192.2230, Validation Loss: 84.2948\n",
      "Epoch [15/150], Training Loss: 723.0985, Validation Loss: 113.6219\n",
      "Epoch [16/150], Training Loss: 1031.2338, Validation Loss: 437.5510\n",
      "Epoch [17/150], Training Loss: 335.9252, Validation Loss: 158.6250\n",
      "Epoch    17: reducing learning rate of group 0 to 1.0000e-03.\n",
      "Epoch [18/150], Training Loss: 92.0489, Validation Loss: 60.8225\n",
      "Epoch [19/150], Training Loss: 89.6571, Validation Loss: 81.1151\n",
      "Epoch [20/150], Training Loss: 89.1563, Validation Loss: 71.7846\n",
      "Epoch [21/150], Training Loss: 88.8336, Validation Loss: 72.2850\n",
      "Epoch [22/150], Training Loss: 88.1818, Validation Loss: 63.2040\n",
      "Epoch [23/150], Training Loss: 87.5063, Validation Loss: 61.5042\n",
      "Epoch [24/150], Training Loss: 85.0855, Validation Loss: 117.0690\n",
      "Epoch    24: reducing learning rate of group 0 to 1.0000e-04.\n",
      "Epoch [25/150], Training Loss: 79.7987, Validation Loss: 87.3223\n",
      "Epoch [26/150], Training Loss: 79.3833, Validation Loss: 80.3324\n",
      "Epoch [27/150], Training Loss: 79.1244, Validation Loss: 78.9255\n",
      "Epoch [28/150], Training Loss: 79.2572, Validation Loss: 82.9284\n",
      "Early stopping triggered after 28 epochs!\n",
      "模型训练完成！\n",
      "Testing on cuda...\n"
     ]
    },
    {
     "data": {
      "image/png": "[encoded data removed]",
      "text/plain": [
       "<Figure size 864x432 with 1 Axes>"
      ]
     },
     "metadata": {
      "needs_background": "light"
     },
     "output_type": "display_data"
    },
    {
     "data": {
      "image/png": "[encoded data removed]",
      "text/plain": [
       "<Figure size 864x432 with 1 Axes>"
      ]
     },
     "metadata": {
      "needs_background": "light"
     },
     "output_type": "display_data"
    },
    {
     "name": "stdout",
     "output_type": "stream",
     "text": [
      "\n",
      "展示部分test_set上的拟合效果\n",
      "        y_test  y_test_pred\n",
      "0  1007.599976  1002.127991\n",
      "1   907.799988   900.916016\n",
      "2   808.000000   805.642517\n",
      "3   708.200012   703.091431\n",
      "4   658.400024   663.802795\n",
      "\n",
      "\n",
      "测试集平均损失: 578.3476\n",
      "\n"
     ]
    },
    {
     "data": {
      "text/html": [
       "<div>\n",
       "<style scoped>\n",
       "    .dataframe tbody tr th:only-of-type {\n",
       "        vertical-align: middle;\n",
       "    }\n",
       "\n",
       "    .dataframe tbody tr th {\n",
       "        vertical-align: top;\n",
       "    }\n",
       "\n",
       "    .dataframe thead th {\n",
       "        text-align: right;\n",
       "    }\n",
       "</style>\n",
       "<table border=\"1\" class=\"dataframe\">\n",
       "  <thead>\n",
       "    <tr style=\"text-align: right;\">\n",
       "      <th></th>\n",
       "      <th>y_test</th>\n",
       "      <th>y_test_pred</th>\n",
       "    </tr>\n",
       "  </thead>\n",
       "  <tbody>\n",
       "    <tr>\n",
       "      <th>0</th>\n",
       "      <td>1007.599976</td>\n",
       "      <td>1002.127991</td>\n",
       "    </tr>\n",
       "    <tr>\n",
       "      <th>1</th>\n",
       "      <td>907.799988</td>\n",
       "      <td>900.916016</td>\n",
       "    </tr>\n",
       "    <tr>\n",
       "      <th>2</th>\n",
       "      <td>808.000000</td>\n",
       "      <td>805.642517</td>\n",
       "    </tr>\n",
       "    <tr>\n",
       "      <th>3</th>\n",
       "      <td>708.200012</td>\n",
       "      <td>703.091431</td>\n",
       "    </tr>\n",
       "    <tr>\n",
       "      <th>4</th>\n",
       "      <td>658.400024</td>\n",
       "      <td>663.802795</td>\n",
       "    </tr>\n",
       "    <tr>\n",
       "      <th>...</th>\n",
       "      <td>...</td>\n",
       "      <td>...</td>\n",
       "    </tr>\n",
       "    <tr>\n",
       "      <th>5426</th>\n",
       "      <td>1.000000</td>\n",
       "      <td>54.690392</td>\n",
       "    </tr>\n",
       "    <tr>\n",
       "      <th>5427</th>\n",
       "      <td>0.800000</td>\n",
       "      <td>51.573284</td>\n",
       "    </tr>\n",
       "    <tr>\n",
       "      <th>5428</th>\n",
       "      <td>0.800000</td>\n",
       "      <td>48.535145</td>\n",
       "    </tr>\n",
       "    <tr>\n",
       "      <th>5429</th>\n",
       "      <td>0.600000</td>\n",
       "      <td>45.759113</td>\n",
       "    </tr>\n",
       "    <tr>\n",
       "      <th>5430</th>\n",
       "      <td>0.600000</td>\n",
       "      <td>43.394447</td>\n",
       "    </tr>\n",
       "  </tbody>\n",
       "</table>\n",
       "<p>5431 rows × 2 columns</p>\n",
       "</div>"
      ],
      "text/plain": [
       "           y_test  y_test_pred\n",
       "0     1007.599976  1002.127991\n",
       "1      907.799988   900.916016\n",
       "2      808.000000   805.642517\n",
       "3      708.200012   703.091431\n",
       "4      658.400024   663.802795\n",
       "...           ...          ...\n",
       "5426     1.000000    54.690392\n",
       "5427     0.800000    51.573284\n",
       "5428     0.800000    48.535145\n",
       "5429     0.600000    45.759113\n",
       "5430     0.600000    43.394447\n",
       "\n",
       "[5431 rows x 2 columns]"
      ]
     },
     "execution_count": 16,
     "metadata": {},
     "output_type": "execute_result"
    }
   ],
   "source": [
    "model = LSTMResNet(num_features=3, hidden_size=64, num_layers=2, output_size=1, num_residual_blocks=5)\n",
    "train_loader, va_loader, test_loader = LoadData(data_IO_C_all, sequence_length=10)\n",
    "args = Args()\n",
    "args.lr=0.001\n",
    "model = train(model, train_loader, va_loader, args)\n",
    "TEST(test_loader, args, model)"
   ]
  },
  {
   "cell_type": "code",
   "execution_count": null,
   "id": "a7db1bd3-9e1f-4937-a60a-e7efbccefc66",
   "metadata": {},
   "outputs": [],
   "source": []
  }
 ],
 "metadata": {
  "kernelspec": {
   "display_name": "Python 3 (ipykernel)",
   "language": "python",
   "name": "python3"
  },
  "language_info": {
   "codemirror_mode": {
    "name": "ipython",
    "version": 3
   },
   "file_extension": ".py",
   "mimetype": "text/x-python",
   "name": "python",
   "nbconvert_exporter": "python",
   "pygments_lexer": "ipython3",
   "version": "3.8.10"
  }
 },
 "nbformat": 4,
 "nbformat_minor": 5
}
