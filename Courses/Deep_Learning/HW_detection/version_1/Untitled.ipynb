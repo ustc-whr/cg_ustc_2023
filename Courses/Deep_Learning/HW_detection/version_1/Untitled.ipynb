{
 "cells": [
  {
   "cell_type": "code",
   "execution_count": 2,
   "id": "81927e2f-c047-466d-8e94-e86088b830cc",
   "metadata": {
    "tags": []
   },
   "outputs": [],
   "source": [
    "import zipfile\n",
    "# 原压缩文件在服务器的位置\n",
    "# 这里的第二个参数用r表示是读取zip文件，w或a是创建一个zip文件\n",
    "f = zipfile.ZipFile(\"./detection/PennFudanPed.zip\",'r') \n",
    "# f.namelist() 会返回压缩包内所有文件名的列表\n",
    "for file in f.namelist():\n",
    "  f.extract(file,\"./\") #解压到的位置，./表示当前目录(与此.ipynb文件同一个目录)\n",
    "f.close()"
   ]
  },
  {
   "cell_type": "code",
   "execution_count": null,
   "id": "9950889d-d285-4f09-8fa7-1b2b7d9848d4",
   "metadata": {},
   "outputs": [],
   "source": []
  }
 ],
 "metadata": {
  "kernelspec": {
   "display_name": "Python 3 (ipykernel)",
   "language": "python",
   "name": "python3"
  },
  "language_info": {
   "codemirror_mode": {
    "name": "ipython",
    "version": 3
   },
   "file_extension": ".py",
   "mimetype": "text/x-python",
   "name": "python",
   "nbconvert_exporter": "python",
   "pygments_lexer": "ipython3",
   "version": "3.8.10"
  }
 },
 "nbformat": 4,
 "nbformat_minor": 5
}
