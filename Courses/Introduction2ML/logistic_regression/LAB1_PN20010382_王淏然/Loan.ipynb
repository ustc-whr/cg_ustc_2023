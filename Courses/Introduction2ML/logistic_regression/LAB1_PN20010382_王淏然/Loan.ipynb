{
 "cells": [
  {
   "cell_type": "code",
   "execution_count": 2,
   "metadata": {
    "ExecuteTime": {
     "end_time": "2023-10-29T14:04:28.066411600Z",
     "start_time": "2023-10-29T14:04:28.025110200Z"
    }
   },
   "outputs": [],
   "source": [
    "# Run some setup code for this notebook.\n",
    "import importlib\n",
    "import Logistic\n",
    "from Logistic import LogisticRegression\n",
    "importlib.reload(Logistic)#类似于auto_reload\n",
    "\n",
    "\n",
    "import numpy as np\n",
    "import matplotlib.pyplot as plt\n",
    "%matplotlib inline"
   ]
  },
  {
   "cell_type": "markdown",
   "metadata": {},
   "source": [
    "## Load Dataset"
   ]
  },
  {
   "cell_type": "code",
   "execution_count": 3,
   "metadata": {
    "ExecuteTime": {
     "end_time": "2023-10-29T14:04:28.107107500Z",
     "start_time": "2023-10-29T14:04:28.036798800Z"
    }
   },
   "outputs": [
    {
     "data": {
      "text/plain": "    Loan_ID Gender Married Dependents     Education Self_Employed  \\\n0  LP001002   Male      No          0      Graduate            No   \n1  LP001003   Male     Yes          1      Graduate            No   \n2  LP001005   Male     Yes          0      Graduate           Yes   \n3  LP001006   Male     Yes          0  Not Graduate            No   \n4  LP001008   Male      No          0      Graduate            No   \n\n   ApplicantIncome  CoapplicantIncome  LoanAmount  Loan_Amount_Term  \\\n0             5849                0.0         NaN             360.0   \n1             4583             1508.0       128.0             360.0   \n2             3000                0.0        66.0             360.0   \n3             2583             2358.0       120.0             360.0   \n4             6000                0.0       141.0             360.0   \n\n   Credit_History Property_Area Loan_Status  \n0             1.0         Urban           Y  \n1             1.0         Rural           N  \n2             1.0         Urban           Y  \n3             1.0         Urban           Y  \n4             1.0         Urban           Y  ",
      "text/html": "<div>\n<style scoped>\n    .dataframe tbody tr th:only-of-type {\n        vertical-align: middle;\n    }\n\n    .dataframe tbody tr th {\n        vertical-align: top;\n    }\n\n    .dataframe thead th {\n        text-align: right;\n    }\n</style>\n<table border=\"1\" class=\"dataframe\">\n  <thead>\n    <tr style=\"text-align: right;\">\n      <th></th>\n      <th>Loan_ID</th>\n      <th>Gender</th>\n      <th>Married</th>\n      <th>Dependents</th>\n      <th>Education</th>\n      <th>Self_Employed</th>\n      <th>ApplicantIncome</th>\n      <th>CoapplicantIncome</th>\n      <th>LoanAmount</th>\n      <th>Loan_Amount_Term</th>\n      <th>Credit_History</th>\n      <th>Property_Area</th>\n      <th>Loan_Status</th>\n    </tr>\n  </thead>\n  <tbody>\n    <tr>\n      <th>0</th>\n      <td>LP001002</td>\n      <td>Male</td>\n      <td>No</td>\n      <td>0</td>\n      <td>Graduate</td>\n      <td>No</td>\n      <td>5849</td>\n      <td>0.0</td>\n      <td>NaN</td>\n      <td>360.0</td>\n      <td>1.0</td>\n      <td>Urban</td>\n      <td>Y</td>\n    </tr>\n    <tr>\n      <th>1</th>\n      <td>LP001003</td>\n      <td>Male</td>\n      <td>Yes</td>\n      <td>1</td>\n      <td>Graduate</td>\n      <td>No</td>\n      <td>4583</td>\n      <td>1508.0</td>\n      <td>128.0</td>\n      <td>360.0</td>\n      <td>1.0</td>\n      <td>Rural</td>\n      <td>N</td>\n    </tr>\n    <tr>\n      <th>2</th>\n      <td>LP001005</td>\n      <td>Male</td>\n      <td>Yes</td>\n      <td>0</td>\n      <td>Graduate</td>\n      <td>Yes</td>\n      <td>3000</td>\n      <td>0.0</td>\n      <td>66.0</td>\n      <td>360.0</td>\n      <td>1.0</td>\n      <td>Urban</td>\n      <td>Y</td>\n    </tr>\n    <tr>\n      <th>3</th>\n      <td>LP001006</td>\n      <td>Male</td>\n      <td>Yes</td>\n      <td>0</td>\n      <td>Not Graduate</td>\n      <td>No</td>\n      <td>2583</td>\n      <td>2358.0</td>\n      <td>120.0</td>\n      <td>360.0</td>\n      <td>1.0</td>\n      <td>Urban</td>\n      <td>Y</td>\n    </tr>\n    <tr>\n      <th>4</th>\n      <td>LP001008</td>\n      <td>Male</td>\n      <td>No</td>\n      <td>0</td>\n      <td>Graduate</td>\n      <td>No</td>\n      <td>6000</td>\n      <td>0.0</td>\n      <td>141.0</td>\n      <td>360.0</td>\n      <td>1.0</td>\n      <td>Urban</td>\n      <td>Y</td>\n    </tr>\n  </tbody>\n</table>\n</div>"
     },
     "execution_count": 3,
     "metadata": {},
     "output_type": "execute_result"
    }
   ],
   "source": [
    "import pandas as pd\n",
    "df = pd.read_csv('loan.csv')\n",
    "df.head()"
   ]
  },
  {
   "cell_type": "markdown",
   "metadata": {},
   "source": [
    "## Dataset Info"
   ]
  },
  {
   "cell_type": "code",
   "execution_count": 4,
   "metadata": {
    "ExecuteTime": {
     "end_time": "2023-10-29T14:04:28.141115Z",
     "start_time": "2023-10-29T14:04:28.061410Z"
    }
   },
   "outputs": [
    {
     "name": "stdout",
     "output_type": "stream",
     "text": [
      "<class 'pandas.core.frame.DataFrame'>\n",
      "RangeIndex: 614 entries, 0 to 613\n",
      "Data columns (total 13 columns):\n",
      " #   Column             Non-Null Count  Dtype  \n",
      "---  ------             --------------  -----  \n",
      " 0   Loan_ID            614 non-null    object \n",
      " 1   Gender             601 non-null    object \n",
      " 2   Married            611 non-null    object \n",
      " 3   Dependents         599 non-null    object \n",
      " 4   Education          614 non-null    object \n",
      " 5   Self_Employed      582 non-null    object \n",
      " 6   ApplicantIncome    614 non-null    int64  \n",
      " 7   CoapplicantIncome  614 non-null    float64\n",
      " 8   LoanAmount         592 non-null    float64\n",
      " 9   Loan_Amount_Term   600 non-null    float64\n",
      " 10  Credit_History     564 non-null    float64\n",
      " 11  Property_Area      614 non-null    object \n",
      " 12  Loan_Status        614 non-null    object \n",
      "dtypes: float64(4), int64(1), object(8)\n",
      "memory usage: 62.5+ KB\n"
     ]
    }
   ],
   "source": [
    "df.info()"
   ]
  },
  {
   "cell_type": "markdown",
   "metadata": {},
   "source": [
    "## Data Cleaning"
   ]
  },
  {
   "cell_type": "code",
   "execution_count": 5,
   "metadata": {
    "ExecuteTime": {
     "end_time": "2023-10-29T14:04:28.141115Z",
     "start_time": "2023-10-29T14:04:28.073814300Z"
    }
   },
   "outputs": [
    {
     "data": {
      "text/plain": "Gender               13\nMarried               3\nDependents           15\nEducation             0\nSelf_Employed        32\nApplicantIncome       0\nCoapplicantIncome     0\nLoanAmount           22\nLoan_Amount_Term     14\nCredit_History       50\nProperty_Area         0\nLoan_Status           0\ndtype: int64"
     },
     "execution_count": 5,
     "metadata": {},
     "output_type": "execute_result"
    }
   ],
   "source": [
    "df.drop(\"Loan_ID\", axis=1, inplace=True)\n",
    "# Checking the Missing Values\n",
    "df.isnull().sum()"
   ]
  },
  {
   "cell_type": "code",
   "execution_count": 6,
   "metadata": {
    "ExecuteTime": {
     "end_time": "2023-10-29T14:04:28.310200400Z",
     "start_time": "2023-10-29T14:04:28.086103500Z"
    }
   },
   "outputs": [],
   "source": [
    "################################################################################\n",
    "# TODO:                                                                        #\n",
    "# Task1 deal with NULL rows, you can either choose to drop them or replace them with mean or other value #\n",
    "################################################################################\n",
    "#按元素比例去除缺失值的通用函数：\n",
    "def get_obj_index(df, i):\n",
    "    index = np.where(\n",
    "        np.random.multinomial(1, df.iloc[:, i].value_counts().values / df.iloc[:, i].value_counts().values.sum(),\n",
    "                              size=1) == 1)[1][0]\n",
    "    return df.iloc[:, i].value_counts().index[index]\n",
    "\n",
    "\n",
    "#用均值或者按元素比例去除缺失值的通用函数：\n",
    "def whr_fillna_biclassify(df):\n",
    "    for i in range(len(df.columns)):\n",
    "        if df.iloc[:, i].dtypes == 'object':  #按元素比例去除缺失值,而不是按众数\n",
    "            for j in range(len(df.iloc[:, i])):\n",
    "                if pd.isnull(df.iloc[j, i]):\n",
    "                    df.iloc[j, i] = get_obj_index(df, i)\n",
    "        elif df.iloc[:, i].dtypes == 'float64':\n",
    "            df.iloc[:, i].fillna(df.iloc[:, i].mean(), inplace=True)\n",
    "    df.isnull().sum()\n",
    "    return df\n",
    "\n",
    "\n",
    "df = whr_fillna_biclassify(df)\n",
    "################################################################################\n",
    "#                                 END OF YOUR CODE                             #\n",
    "################################################################################"
   ]
  },
  {
   "cell_type": "markdown",
   "metadata": {},
   "source": [
    "## Encode "
   ]
  },
  {
   "cell_type": "code",
   "execution_count": 7,
   "metadata": {
    "ExecuteTime": {
     "end_time": "2023-10-29T14:04:28.314203200Z",
     "start_time": "2023-10-29T14:04:28.269287Z"
    }
   },
   "outputs": [
    {
     "data": {
      "text/plain": "     ApplicantIncome  CoapplicantIncome  LoanAmount  Loan_Amount_Term  \\\n0               5849                0.0  146.412162             360.0   \n1               4583             1508.0  128.000000             360.0   \n2               3000                0.0   66.000000             360.0   \n3               2583             2358.0  120.000000             360.0   \n4               6000                0.0  141.000000             360.0   \n..               ...                ...         ...               ...   \n609             2900                0.0   71.000000             360.0   \n610             4106                0.0   40.000000             180.0   \n611             8072              240.0  253.000000             360.0   \n612             7583                0.0  187.000000             360.0   \n613             4583                0.0  133.000000             360.0   \n\n     Credit_History  Gender_Female  Gender_Male  Married_No  Married_Yes  \\\n0               1.0            0.0          1.0         1.0          0.0   \n1               1.0            0.0          1.0         0.0          1.0   \n2               1.0            0.0          1.0         0.0          1.0   \n3               1.0            0.0          1.0         0.0          1.0   \n4               1.0            0.0          1.0         1.0          0.0   \n..              ...            ...          ...         ...          ...   \n609             1.0            1.0          0.0         1.0          0.0   \n610             1.0            0.0          1.0         0.0          1.0   \n611             1.0            0.0          1.0         0.0          1.0   \n612             1.0            0.0          1.0         0.0          1.0   \n613             0.0            1.0          0.0         1.0          0.0   \n\n     Dependents_0  ...  Dependents_2  Dependents_3+  Education_Graduate  \\\n0             1.0  ...           0.0            0.0                 1.0   \n1             0.0  ...           0.0            0.0                 1.0   \n2             1.0  ...           0.0            0.0                 1.0   \n3             1.0  ...           0.0            0.0                 0.0   \n4             1.0  ...           0.0            0.0                 1.0   \n..            ...  ...           ...            ...                 ...   \n609           1.0  ...           0.0            0.0                 1.0   \n610           0.0  ...           0.0            1.0                 1.0   \n611           0.0  ...           0.0            0.0                 1.0   \n612           0.0  ...           1.0            0.0                 1.0   \n613           1.0  ...           0.0            0.0                 1.0   \n\n     Education_Not Graduate  Self_Employed_No  Self_Employed_Yes  \\\n0                       0.0               1.0                0.0   \n1                       0.0               1.0                0.0   \n2                       0.0               0.0                1.0   \n3                       1.0               1.0                0.0   \n4                       0.0               1.0                0.0   \n..                      ...               ...                ...   \n609                     0.0               1.0                0.0   \n610                     0.0               1.0                0.0   \n611                     0.0               1.0                0.0   \n612                     0.0               1.0                0.0   \n613                     0.0               0.0                1.0   \n\n     Property_Area_Rural  Property_Area_Semiurban  Property_Area_Urban  \\\n0                    0.0                      0.0                  1.0   \n1                    1.0                      0.0                  0.0   \n2                    0.0                      0.0                  1.0   \n3                    0.0                      0.0                  1.0   \n4                    0.0                      0.0                  1.0   \n..                   ...                      ...                  ...   \n609                  1.0                      0.0                  0.0   \n610                  1.0                      0.0                  0.0   \n611                  0.0                      0.0                  1.0   \n612                  0.0                      0.0                  1.0   \n613                  0.0                      1.0                  0.0   \n\n     Loan_Status  \n0            1.0  \n1            0.0  \n2            1.0  \n3            1.0  \n4            1.0  \n..           ...  \n609          1.0  \n610          1.0  \n611          1.0  \n612          1.0  \n613          0.0  \n\n[614 rows x 21 columns]",
      "text/html": "<div>\n<style scoped>\n    .dataframe tbody tr th:only-of-type {\n        vertical-align: middle;\n    }\n\n    .dataframe tbody tr th {\n        vertical-align: top;\n    }\n\n    .dataframe thead th {\n        text-align: right;\n    }\n</style>\n<table border=\"1\" class=\"dataframe\">\n  <thead>\n    <tr style=\"text-align: right;\">\n      <th></th>\n      <th>ApplicantIncome</th>\n      <th>CoapplicantIncome</th>\n      <th>LoanAmount</th>\n      <th>Loan_Amount_Term</th>\n      <th>Credit_History</th>\n      <th>Gender_Female</th>\n      <th>Gender_Male</th>\n      <th>Married_No</th>\n      <th>Married_Yes</th>\n      <th>Dependents_0</th>\n      <th>...</th>\n      <th>Dependents_2</th>\n      <th>Dependents_3+</th>\n      <th>Education_Graduate</th>\n      <th>Education_Not Graduate</th>\n      <th>Self_Employed_No</th>\n      <th>Self_Employed_Yes</th>\n      <th>Property_Area_Rural</th>\n      <th>Property_Area_Semiurban</th>\n      <th>Property_Area_Urban</th>\n      <th>Loan_Status</th>\n    </tr>\n  </thead>\n  <tbody>\n    <tr>\n      <th>0</th>\n      <td>5849</td>\n      <td>0.0</td>\n      <td>146.412162</td>\n      <td>360.0</td>\n      <td>1.0</td>\n      <td>0.0</td>\n      <td>1.0</td>\n      <td>1.0</td>\n      <td>0.0</td>\n      <td>1.0</td>\n      <td>...</td>\n      <td>0.0</td>\n      <td>0.0</td>\n      <td>1.0</td>\n      <td>0.0</td>\n      <td>1.0</td>\n      <td>0.0</td>\n      <td>0.0</td>\n      <td>0.0</td>\n      <td>1.0</td>\n      <td>1.0</td>\n    </tr>\n    <tr>\n      <th>1</th>\n      <td>4583</td>\n      <td>1508.0</td>\n      <td>128.000000</td>\n      <td>360.0</td>\n      <td>1.0</td>\n      <td>0.0</td>\n      <td>1.0</td>\n      <td>0.0</td>\n      <td>1.0</td>\n      <td>0.0</td>\n      <td>...</td>\n      <td>0.0</td>\n      <td>0.0</td>\n      <td>1.0</td>\n      <td>0.0</td>\n      <td>1.0</td>\n      <td>0.0</td>\n      <td>1.0</td>\n      <td>0.0</td>\n      <td>0.0</td>\n      <td>0.0</td>\n    </tr>\n    <tr>\n      <th>2</th>\n      <td>3000</td>\n      <td>0.0</td>\n      <td>66.000000</td>\n      <td>360.0</td>\n      <td>1.0</td>\n      <td>0.0</td>\n      <td>1.0</td>\n      <td>0.0</td>\n      <td>1.0</td>\n      <td>1.0</td>\n      <td>...</td>\n      <td>0.0</td>\n      <td>0.0</td>\n      <td>1.0</td>\n      <td>0.0</td>\n      <td>0.0</td>\n      <td>1.0</td>\n      <td>0.0</td>\n      <td>0.0</td>\n      <td>1.0</td>\n      <td>1.0</td>\n    </tr>\n    <tr>\n      <th>3</th>\n      <td>2583</td>\n      <td>2358.0</td>\n      <td>120.000000</td>\n      <td>360.0</td>\n      <td>1.0</td>\n      <td>0.0</td>\n      <td>1.0</td>\n      <td>0.0</td>\n      <td>1.0</td>\n      <td>1.0</td>\n      <td>...</td>\n      <td>0.0</td>\n      <td>0.0</td>\n      <td>0.0</td>\n      <td>1.0</td>\n      <td>1.0</td>\n      <td>0.0</td>\n      <td>0.0</td>\n      <td>0.0</td>\n      <td>1.0</td>\n      <td>1.0</td>\n    </tr>\n    <tr>\n      <th>4</th>\n      <td>6000</td>\n      <td>0.0</td>\n      <td>141.000000</td>\n      <td>360.0</td>\n      <td>1.0</td>\n      <td>0.0</td>\n      <td>1.0</td>\n      <td>1.0</td>\n      <td>0.0</td>\n      <td>1.0</td>\n      <td>...</td>\n      <td>0.0</td>\n      <td>0.0</td>\n      <td>1.0</td>\n      <td>0.0</td>\n      <td>1.0</td>\n      <td>0.0</td>\n      <td>0.0</td>\n      <td>0.0</td>\n      <td>1.0</td>\n      <td>1.0</td>\n    </tr>\n    <tr>\n      <th>...</th>\n      <td>...</td>\n      <td>...</td>\n      <td>...</td>\n      <td>...</td>\n      <td>...</td>\n      <td>...</td>\n      <td>...</td>\n      <td>...</td>\n      <td>...</td>\n      <td>...</td>\n      <td>...</td>\n      <td>...</td>\n      <td>...</td>\n      <td>...</td>\n      <td>...</td>\n      <td>...</td>\n      <td>...</td>\n      <td>...</td>\n      <td>...</td>\n      <td>...</td>\n      <td>...</td>\n    </tr>\n    <tr>\n      <th>609</th>\n      <td>2900</td>\n      <td>0.0</td>\n      <td>71.000000</td>\n      <td>360.0</td>\n      <td>1.0</td>\n      <td>1.0</td>\n      <td>0.0</td>\n      <td>1.0</td>\n      <td>0.0</td>\n      <td>1.0</td>\n      <td>...</td>\n      <td>0.0</td>\n      <td>0.0</td>\n      <td>1.0</td>\n      <td>0.0</td>\n      <td>1.0</td>\n      <td>0.0</td>\n      <td>1.0</td>\n      <td>0.0</td>\n      <td>0.0</td>\n      <td>1.0</td>\n    </tr>\n    <tr>\n      <th>610</th>\n      <td>4106</td>\n      <td>0.0</td>\n      <td>40.000000</td>\n      <td>180.0</td>\n      <td>1.0</td>\n      <td>0.0</td>\n      <td>1.0</td>\n      <td>0.0</td>\n      <td>1.0</td>\n      <td>0.0</td>\n      <td>...</td>\n      <td>0.0</td>\n      <td>1.0</td>\n      <td>1.0</td>\n      <td>0.0</td>\n      <td>1.0</td>\n      <td>0.0</td>\n      <td>1.0</td>\n      <td>0.0</td>\n      <td>0.0</td>\n      <td>1.0</td>\n    </tr>\n    <tr>\n      <th>611</th>\n      <td>8072</td>\n      <td>240.0</td>\n      <td>253.000000</td>\n      <td>360.0</td>\n      <td>1.0</td>\n      <td>0.0</td>\n      <td>1.0</td>\n      <td>0.0</td>\n      <td>1.0</td>\n      <td>0.0</td>\n      <td>...</td>\n      <td>0.0</td>\n      <td>0.0</td>\n      <td>1.0</td>\n      <td>0.0</td>\n      <td>1.0</td>\n      <td>0.0</td>\n      <td>0.0</td>\n      <td>0.0</td>\n      <td>1.0</td>\n      <td>1.0</td>\n    </tr>\n    <tr>\n      <th>612</th>\n      <td>7583</td>\n      <td>0.0</td>\n      <td>187.000000</td>\n      <td>360.0</td>\n      <td>1.0</td>\n      <td>0.0</td>\n      <td>1.0</td>\n      <td>0.0</td>\n      <td>1.0</td>\n      <td>0.0</td>\n      <td>...</td>\n      <td>1.0</td>\n      <td>0.0</td>\n      <td>1.0</td>\n      <td>0.0</td>\n      <td>1.0</td>\n      <td>0.0</td>\n      <td>0.0</td>\n      <td>0.0</td>\n      <td>1.0</td>\n      <td>1.0</td>\n    </tr>\n    <tr>\n      <th>613</th>\n      <td>4583</td>\n      <td>0.0</td>\n      <td>133.000000</td>\n      <td>360.0</td>\n      <td>0.0</td>\n      <td>1.0</td>\n      <td>0.0</td>\n      <td>1.0</td>\n      <td>0.0</td>\n      <td>1.0</td>\n      <td>...</td>\n      <td>0.0</td>\n      <td>0.0</td>\n      <td>1.0</td>\n      <td>0.0</td>\n      <td>0.0</td>\n      <td>1.0</td>\n      <td>0.0</td>\n      <td>1.0</td>\n      <td>0.0</td>\n      <td>0.0</td>\n    </tr>\n  </tbody>\n</table>\n<p>614 rows × 21 columns</p>\n</div>"
     },
     "execution_count": 7,
     "metadata": {},
     "output_type": "execute_result"
    }
   ],
   "source": [
    "################################################################################\n",
    "# TODO:                                                                        #\n",
    "# Task2 deal with categorical features\n",
    "# Tip use pd.get_dummies. \n",
    "################################################################################\n",
    "labels=df['Loan_Status'].map({'Y':1.,'N':0.})\n",
    "df=df.drop('Loan_Status',axis=1)\n",
    "df_encoded=pd.get_dummies(df,dtype='float64')\n",
    "df_encoded['Loan_Status']=labels\n",
    "#convert labels to float64\n",
    "df_encoded\n",
    "################################################################################\n",
    "#                                 END OF YOUR CODE                             #\n",
    "################################################################################"
   ]
  },
  {
   "cell_type": "markdown",
   "metadata": {},
   "source": [
    "## Data process"
   ]
  },
  {
   "cell_type": "code",
   "execution_count": 8,
   "metadata": {
    "ExecuteTime": {
     "end_time": "2023-10-29T14:04:28.344292400Z",
     "start_time": "2023-10-29T14:04:28.314203200Z"
    }
   },
   "outputs": [],
   "source": [
    "\n",
    "################################################################################\n",
    "# TODO:                                                                        #\n",
    "# Task3 split the dataset into X_train, X_test, y_train, y_test\n",
    "# Optional: you can also use normalization\n",
    "################################################################################\n",
    "df_encoded.iloc[:,:5]=(df_encoded.iloc[:,:5]-df_encoded.iloc[:,:5].mean())/df_encoded.iloc[:,:5].std()\n",
    "# 按照labels的类别比例划分数据集\n",
    "split_idx1=0.8\n",
    "np.random.seed(0)\n",
    "df_encoded=df_encoded.sample(frac=1,axis=0)#frac=1表示全部打乱,axis=0表示按行打乱,frac=0.5表示打乱一半\n",
    "df_Y,df_N=df_encoded[df_encoded['Loan_Status']==1],df_encoded[df_encoded['Loan_Status']==0]\n",
    "df_train_Y,df_train_N=df_Y.iloc[:int(len(df_Y)*split_idx1),:],df_N.iloc[:int(len(df_N)*split_idx1),:]\n",
    "df_test_Y,df_test_N=df_Y.iloc[int(len(df_Y)*split_idx1):,:],df_N.iloc[int(len(df_N)*split_idx1):,:]\n",
    "df_train=pd.concat([df_train_Y,df_train_N],axis=0)\n",
    "df_test=pd.concat([df_test_Y,df_test_N],axis=0)\n",
    "X_train,Y_train=df_train.iloc[:,:-1],df_train.iloc[:,-1]\n",
    "X_test,Y_test=df_test.iloc[:,:-1],df_test.iloc[:,-1]\n",
    "################################################################################\n",
    "#                                 END OF YOUR CODE                             #\n",
    "################################################################################"
   ]
  },
  {
   "cell_type": "markdown",
   "metadata": {},
   "source": [
    "## Train"
   ]
  },
  {
   "cell_type": "code",
   "execution_count": 9,
   "metadata": {
    "ExecuteTime": {
     "end_time": "2023-10-29T14:04:28.665805600Z",
     "start_time": "2023-10-29T14:04:28.327288300Z"
    }
   },
   "outputs": [
    {
     "name": "stdout",
     "output_type": "stream",
     "text": [
      "    iteration:0,    loss:3.40e+02\n",
      "    iteration:1,    loss:2.97e+02\n",
      "    iteration:2,    loss:2.79e+02\n",
      "    iteration:3,    loss:2.69e+02\n",
      "    iteration:4,    loss:2.61e+02\n",
      "    iteration:5,    loss:2.56e+02\n",
      "    iteration:6,    loss:2.51e+02\n",
      "    iteration:7,    loss:2.48e+02\n",
      "    iteration:8,    loss:2.45e+02\n",
      "    iteration:9,    loss:2.42e+02\n",
      "    iteration:10,    loss:2.41e+02\n",
      "    iteration:11,    loss:2.39e+02\n",
      "    iteration:12,    loss:2.38e+02\n",
      "    iteration:13,    loss:2.36e+02\n",
      "    iteration:14,    loss:2.35e+02\n",
      "    iteration:15,    loss:2.35e+02\n",
      "    iteration:16,    loss:2.34e+02\n",
      "    iteration:17,    loss:2.33e+02\n",
      "    iteration:18,    loss:2.33e+02\n",
      "    iteration:19,    loss:2.32e+02\n",
      "    iteration:20,    loss:2.32e+02\n",
      "    iteration:21,    loss:2.31e+02\n",
      "    iteration:22,    loss:2.31e+02\n",
      "    iteration:23,    loss:2.30e+02\n",
      "    iteration:24,    loss:2.30e+02\n",
      "    iteration:25,    loss:2.30e+02\n",
      "    iteration:26,    loss:2.30e+02\n",
      "    iteration:27,    loss:2.29e+02\n",
      "    iteration:28,    loss:2.29e+02\n",
      "    iteration:29,    loss:2.29e+02\n",
      "    iteration:30,    loss:2.29e+02\n",
      "    iteration:31,    loss:2.28e+02\n",
      "    iteration:32,    loss:2.28e+02\n",
      "    iteration:33,    loss:2.28e+02\n",
      "    iteration:34,    loss:2.28e+02\n",
      "    iteration:35,    loss:2.28e+02\n",
      "    iteration:36,    loss:2.28e+02\n",
      "    iteration:37,    loss:2.28e+02\n",
      "    iteration:38,    loss:2.28e+02\n",
      "    iteration:39,    loss:2.27e+02\n",
      "    iteration:40,    loss:2.27e+02\n",
      "    iteration:41,    loss:2.27e+02\n",
      "    iteration:42,    loss:2.27e+02\n",
      "    iteration:43,    loss:2.27e+02\n",
      "    iteration:44,    loss:2.27e+02\n",
      "    iteration:45,    loss:2.27e+02\n",
      "    iteration:46,    loss:2.27e+02\n",
      "    iteration:47,    loss:2.27e+02\n",
      "    iteration:48,    loss:2.27e+02\n",
      "    iteration:49,    loss:2.27e+02\n",
      "    iteration:50,    loss:2.27e+02\n",
      "    iteration:51,    loss:2.27e+02\n",
      "    iteration:52,    loss:2.27e+02\n",
      "    iteration:53,    loss:2.27e+02\n",
      "    iteration:54,    loss:2.26e+02\n",
      "    iteration:55,    loss:2.26e+02\n",
      "    iteration:56,    loss:2.26e+02\n",
      "    iteration:57,    loss:2.26e+02\n",
      "    iteration:58,    loss:2.26e+02\n",
      "    iteration:59,    loss:2.26e+02\n",
      "    iteration:60,    loss:2.26e+02\n",
      "    iteration:61,    loss:2.26e+02\n",
      "    iteration:62,    loss:2.26e+02\n",
      "    iteration:63,    loss:2.26e+02\n",
      "    iteration:64,    loss:2.26e+02\n",
      "    iteration:65,    loss:2.26e+02\n",
      "    iteration:66,    loss:2.26e+02\n",
      "    iteration:67,    loss:2.26e+02\n",
      "    iteration:68,    loss:2.26e+02\n",
      "    iteration:69,    loss:2.26e+02\n",
      "    iteration:70,    loss:2.26e+02\n",
      "    iteration:71,    loss:2.26e+02\n",
      "    iteration:72,    loss:2.26e+02\n",
      "    iteration:73,    loss:2.26e+02\n",
      "    iteration:74,    loss:2.26e+02\n",
      "    iteration:75,    loss:2.26e+02\n",
      "    iteration:76,    loss:2.26e+02\n",
      "    iteration:77,    loss:2.26e+02\n",
      "    iteration:78,    loss:2.26e+02\n",
      "    iteration:79,    loss:2.26e+02\n",
      "    iteration:80,    loss:2.26e+02\n",
      "    iteration:81,    loss:2.26e+02\n",
      "    iteration:82,    loss:2.26e+02\n",
      "    iteration:83,    loss:2.26e+02\n",
      "    iteration:84,    loss:2.26e+02\n",
      "    iteration:85,    loss:2.26e+02\n",
      "    iteration:86,    loss:2.26e+02\n",
      "    iteration:87,    loss:2.26e+02\n",
      "    iteration:88,    loss:2.26e+02\n",
      "    iteration:89,    loss:2.26e+02\n",
      "    iteration:90,    loss:2.26e+02\n",
      "    iteration:91,    loss:2.26e+02\n",
      "    iteration:92,    loss:2.26e+02\n",
      "    iteration:93,    loss:2.26e+02\n",
      "    iteration:94,    loss:2.26e+02\n",
      "    iteration:95,    loss:2.26e+02\n",
      "    iteration:96,    loss:2.26e+02\n",
      "    iteration:97,    loss:2.26e+02\n",
      "    iteration:98,    loss:2.26e+02\n",
      "    iteration:99,    loss:2.26e+02\n",
      "    iteration:100,    loss:2.26e+02\n",
      "    iteration:101,    loss:2.26e+02\n",
      "    iteration:102,    loss:2.26e+02\n",
      "    iteration:103,    loss:2.26e+02\n",
      "    iteration:104,    loss:2.26e+02\n",
      "    iteration:105,    loss:2.26e+02\n",
      "    iteration:106,    loss:2.26e+02\n",
      "    iteration:107,    loss:2.26e+02\n",
      "    iteration:108,    loss:2.26e+02\n",
      "    iteration:109,    loss:2.26e+02\n",
      "    iteration:110,    loss:2.26e+02\n",
      "    iteration:111,    loss:2.26e+02\n",
      "    iteration:112,    loss:2.26e+02\n",
      "    iteration:113,    loss:2.26e+02\n",
      "    iteration:114,    loss:2.26e+02\n",
      "    iteration:115,    loss:2.26e+02\n",
      "    iteration:116,    loss:2.26e+02\n",
      "    iteration:117,    loss:2.26e+02\n",
      "    iteration:118,    loss:2.26e+02\n",
      "    iteration:119,    loss:2.26e+02\n",
      "    iteration:120,    loss:2.26e+02\n",
      "    iteration:121,    loss:2.26e+02\n",
      "    iteration:122,    loss:2.25e+02\n",
      "    iteration:123,    loss:2.25e+02\n",
      "    iteration:124,    loss:2.25e+02\n",
      "    iteration:125,    loss:2.25e+02\n",
      "    iteration:126,    loss:2.25e+02\n",
      "    iteration:127,    loss:2.25e+02\n",
      "    iteration:128,    loss:2.25e+02\n",
      "    iteration:129,    loss:2.25e+02\n",
      "    iteration:130,    loss:2.25e+02\n",
      "    iteration:131,    loss:2.25e+02\n",
      "    iteration:132,    loss:2.25e+02\n",
      "    iteration:133,    loss:2.25e+02\n",
      "    iteration:134,    loss:2.25e+02\n",
      "    iteration:135,    loss:2.25e+02\n",
      "    iteration:136,    loss:2.25e+02\n",
      "    iteration:137,    loss:2.25e+02\n",
      "    iteration:138,    loss:2.25e+02\n",
      "    iteration:139,    loss:2.25e+02\n",
      "    iteration:140,    loss:2.25e+02\n",
      "    iteration:141,    loss:2.25e+02\n",
      "    iteration:142,    loss:2.25e+02\n",
      "    iteration:143,    loss:2.25e+02\n",
      "    iteration:144,    loss:2.25e+02\n",
      "    iteration:145,    loss:2.25e+02\n",
      "    iteration:146,    loss:2.25e+02\n",
      "    iteration:147,    loss:2.25e+02\n",
      "    iteration:148,    loss:2.25e+02\n",
      "    iteration:149,    loss:2.25e+02\n",
      "    iteration:150,    loss:2.25e+02\n",
      "    iteration:151,    loss:2.25e+02\n",
      "    iteration:152,    loss:2.25e+02\n",
      "    iteration:153,    loss:2.25e+02\n",
      "    iteration:154,    loss:2.25e+02\n",
      "    iteration:155,    loss:2.25e+02\n",
      "    iteration:156,    loss:2.25e+02\n",
      "    iteration:157,    loss:2.25e+02\n",
      "    iteration:158,    loss:2.25e+02\n",
      "    iteration:159,    loss:2.25e+02\n",
      "    iteration:160,    loss:2.25e+02\n",
      "    iteration:161,    loss:2.25e+02\n",
      "    iteration:162,    loss:2.25e+02\n",
      "    iteration:163,    loss:2.25e+02\n",
      "    iteration:164,    loss:2.25e+02\n",
      "    iteration:165,    loss:2.25e+02\n",
      "    iteration:166,    loss:2.25e+02\n",
      "    iteration:167,    loss:2.25e+02\n",
      "    iteration:168,    loss:2.25e+02\n",
      "    iteration:169,    loss:2.25e+02\n",
      "    iteration:170,    loss:2.25e+02\n",
      "    iteration:171,    loss:2.25e+02\n",
      "    iteration:172,    loss:2.25e+02\n",
      "    iteration:173,    loss:2.25e+02\n",
      "    iteration:174,    loss:2.25e+02\n",
      "    iteration:175,    loss:2.25e+02\n",
      "    iteration:176,    loss:2.25e+02\n",
      "    iteration:177,    loss:2.25e+02\n",
      "    iteration:178,    loss:2.25e+02\n",
      "    iteration:179,    loss:2.25e+02\n",
      "    iteration:180,    loss:2.25e+02\n",
      "    iteration:181,    loss:2.25e+02\n",
      "    iteration:182,    loss:2.25e+02\n",
      "    iteration:183,    loss:2.25e+02\n",
      "    iteration:184,    loss:2.25e+02\n",
      "    iteration:185,    loss:2.25e+02\n",
      "    iteration:186,    loss:2.25e+02\n",
      "    iteration:187,    loss:2.25e+02\n",
      "    iteration:188,    loss:2.25e+02\n",
      "    iteration:189,    loss:2.25e+02\n",
      "    iteration:190,    loss:2.25e+02\n",
      "    iteration:191,    loss:2.25e+02\n",
      "    iteration:192,    loss:2.25e+02\n",
      "    iteration:193,    loss:2.25e+02\n",
      "    iteration:194,    loss:2.25e+02\n",
      "    iteration:195,    loss:2.25e+02\n",
      "    iteration:196,    loss:2.25e+02\n",
      "    iteration:197,    loss:2.25e+02\n",
      "    iteration:198,    loss:2.25e+02\n",
      "    iteration:199,    loss:2.25e+02\n",
      "    iteration:200,    loss:2.25e+02\n",
      "    iteration:201,    loss:2.25e+02\n",
      "    iteration:202,    loss:2.25e+02\n",
      "    iteration:203,    loss:2.25e+02\n",
      "    iteration:204,    loss:2.25e+02\n",
      "    iteration:205,    loss:2.25e+02\n",
      "    iteration:206,    loss:2.25e+02\n",
      "    iteration:207,    loss:2.25e+02\n",
      "    iteration:208,    loss:2.25e+02\n",
      "    iteration:209,    loss:2.25e+02\n",
      "    iteration:210,    loss:2.25e+02\n",
      "    iteration:211,    loss:2.25e+02\n",
      "    iteration:212,    loss:2.25e+02\n",
      "    iteration:213,    loss:2.25e+02\n",
      "    iteration:214,    loss:2.25e+02\n",
      "    iteration:215,    loss:2.25e+02\n",
      "    iteration:216,    loss:2.25e+02\n",
      "    iteration:217,    loss:2.25e+02\n",
      "    iteration:218,    loss:2.25e+02\n",
      "    iteration:219,    loss:2.25e+02\n",
      "    iteration:220,    loss:2.25e+02\n",
      "    iteration:221,    loss:2.25e+02\n",
      "    iteration:222,    loss:2.25e+02\n",
      "    iteration:223,    loss:2.25e+02\n",
      "    iteration:224,    loss:2.25e+02\n",
      "    iteration:225,    loss:2.25e+02\n",
      "    iteration:226,    loss:2.25e+02\n",
      "    iteration:227,    loss:2.25e+02\n",
      "    iteration:228,    loss:2.25e+02\n",
      "    iteration:229,    loss:2.25e+02\n",
      "    iteration:230,    loss:2.25e+02\n",
      "    iteration:231,    loss:2.25e+02\n",
      "    iteration:232,    loss:2.25e+02\n",
      "    iteration:233,    loss:2.25e+02\n",
      "    iteration:234,    loss:2.25e+02\n",
      "    iteration:235,    loss:2.25e+02\n",
      "    iteration:236,    loss:2.25e+02\n",
      "    iteration:237,    loss:2.25e+02\n",
      "    iteration:238,    loss:2.25e+02\n",
      "    iteration:239,    loss:2.25e+02\n",
      "    iteration:240,    loss:2.25e+02\n",
      "    iteration:241,    loss:2.25e+02\n",
      "    iteration:242,    loss:2.25e+02\n",
      "    iteration:243,    loss:2.25e+02\n",
      "    iteration:244,    loss:2.25e+02\n",
      "    iteration:245,    loss:2.25e+02\n",
      "    iteration:246,    loss:2.25e+02\n",
      "    iteration:247,    loss:2.25e+02\n",
      "    iteration:248,    loss:2.25e+02\n",
      "    iteration:249,    loss:2.25e+02\n",
      "    iteration:250,    loss:2.25e+02\n",
      "    iteration:251,    loss:2.25e+02\n",
      "    iteration:252,    loss:2.25e+02\n",
      "    iteration:253,    loss:2.25e+02\n",
      "    iteration:254,    loss:2.25e+02\n",
      "    iteration:255,    loss:2.25e+02\n",
      "    iteration:256,    loss:2.25e+02\n",
      "    iteration:257,    loss:2.25e+02\n",
      "    iteration:258,    loss:2.25e+02\n",
      "    iteration:259,    loss:2.25e+02\n",
      "    iteration:260,    loss:2.25e+02\n",
      "    iteration:261,    loss:2.25e+02\n",
      "    iteration:262,    loss:2.25e+02\n",
      "    iteration:263,    loss:2.25e+02\n",
      "    iteration:264,    loss:2.25e+02\n",
      "    iteration:265,    loss:2.25e+02\n",
      "    iteration:266,    loss:2.25e+02\n",
      "    iteration:267,    loss:2.25e+02\n",
      "    iteration:268,    loss:2.25e+02\n",
      "    iteration:269,    loss:2.25e+02\n",
      "    iteration:270,    loss:2.25e+02\n",
      "    iteration:271,    loss:2.25e+02\n",
      "    iteration:272,    loss:2.25e+02\n",
      "    iteration:273,    loss:2.25e+02\n",
      "    iteration:274,    loss:2.25e+02\n",
      "    iteration:275,    loss:2.25e+02\n",
      "    iteration:276,    loss:2.25e+02\n",
      "    iteration:277,    loss:2.25e+02\n",
      "    iteration:278,    loss:2.25e+02\n",
      "    iteration:279,    loss:2.25e+02\n",
      "    iteration:280,    loss:2.25e+02\n",
      "    iteration:281,    loss:2.25e+02\n",
      "    iteration:282,    loss:2.25e+02\n",
      "    iteration:283,    loss:2.25e+02\n",
      "    iteration:284,    loss:2.25e+02\n",
      "    iteration:285,    loss:2.25e+02\n",
      "    iteration:286,    loss:2.25e+02\n",
      "    iteration:287,    loss:2.25e+02\n",
      "    iteration:288,    loss:2.25e+02\n",
      "    iteration:289,    loss:2.25e+02\n",
      "    iteration:290,    loss:2.25e+02\n",
      "    iteration:291,    loss:2.25e+02\n",
      "    iteration:292,    loss:2.25e+02\n",
      "    iteration:293,    loss:2.25e+02\n",
      "    iteration:294,    loss:2.25e+02\n",
      "    iteration:295,    loss:2.25e+02\n",
      "    iteration:296,    loss:2.25e+02\n",
      "    iteration:297,    loss:2.25e+02\n",
      "    iteration:298,    loss:2.25e+02\n",
      "    iteration:299,    loss:2.25e+02\n"
     ]
    },
    {
     "data": {
      "text/plain": "<Figure size 640x480 with 1 Axes>",
      "image/png": "[encoded data removed]"
     },
     "metadata": {},
     "output_type": "display_data"
    }
   ],
   "source": [
    "from Logistic import LogisticRegression\n",
    "import matplotlib.pyplot as plt\n",
    "\n",
    "################################################################################\n",
    "# TODO:                                                                        #\n",
    "# Task4 train your model and plot the loss curve of training\n",
    "# You need to complete the Logistic.py file\n",
    "# model = LogisticRegression()\n",
    "################################################################################\n",
    "Model = LogisticRegression()\n",
    "Model.penalty = 'l2'\n",
    "Model.gamma = 10\n",
    "Losses = Model.fit(X_train, Y_train, lr=0.001, tol=1e-7, max_iter=300, decay=0.1)\n",
    "y_pred_train = Model.predict(X_train)\n",
    "plt.plot(Losses)\n",
    "plt.grid()\n",
    "plt.legend(['Loss'])\n",
    "#显示横纵\n",
    "plt.xlabel('Iteration')\n",
    "plt.ylabel('Loss')\n",
    "plt.title('Loss Curve')\n",
    "plt.show()\n",
    "################################################################################\n",
    "#                                 END OF YOUR CODE                             #\n",
    "################################################################################"
   ]
  },
  {
   "cell_type": "markdown",
   "metadata": {},
   "source": [
    "## Test"
   ]
  },
  {
   "cell_type": "code",
   "execution_count": 10,
   "metadata": {
    "ExecuteTime": {
     "end_time": "2023-10-29T14:04:28.665805600Z",
     "start_time": "2023-10-29T14:04:28.656605900Z"
    }
   },
   "outputs": [
    {
     "name": "stdout",
     "output_type": "stream",
     "text": [
      "test_acc:accuracy:82.2581%\n"
     ]
    }
   ],
   "source": [
    "################################################################################\n",
    "# TODO:                                                                        #\n",
    "# Task5 compare the accuracy(or other metrics you want) of test data with different parameters you train with\n",
    "################################################################################\n",
    "y_pred_test = Model.predict(X_test)\n",
    "print(f'test_acc:{Model.cal_accuracy(y_pred_test, Y_test)}')\n",
    "################################################################################\n",
    "#                                 END OF YOUR CODE                             #\n",
    "################################################################################"
   ]
  }
 ],
 "metadata": {
  "kernelspec": {
   "display_name": "Python 3.9.12 ('base')",
   "language": "python",
   "name": "python3"
  },
  "language_info": {
   "codemirror_mode": {
    "name": "ipython",
    "version": 3
   },
   "file_extension": ".py",
   "mimetype": "text/x-python",
   "name": "python",
   "nbconvert_exporter": "python",
   "pygments_lexer": "ipython3",
   "version": "3.8.11"
  },
  "orig_nbformat": 4,
  "vscode": {
   "interpreter": {
    "hash": "429c4da532d5a49305ad374da5bd9411413fc9c5f93bdb5e51c34bc796003ebd"
   }
  }
 },
 "nbformat": 4,
 "nbformat_minor": 2
}
