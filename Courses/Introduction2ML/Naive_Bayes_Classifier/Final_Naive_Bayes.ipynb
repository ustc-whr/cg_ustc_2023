{
 "cells": [
  {
   "cell_type": "code",
   "execution_count": 133,
   "outputs": [],
   "source": [
    "from sklearn.feature_extraction.text import CountVectorizer\n",
    "from sklearn.naive_bayes import MultinomialNB\n",
    "from sklearn.metrics import accuracy_score, f1_score\n",
    "import os\n",
    "import re\n",
    "import pandas as pd\n",
    "import numpy as np\n",
    "from collections import Counter"
   ],
   "metadata": {
    "collapsed": false,
    "ExecuteTime": {
     "end_time": "2023-12-07T16:00:31.457800900Z",
     "start_time": "2023-12-07T16:00:31.063727700Z"
    }
   },
   "id": "392974654ed72162"
  },
  {
   "cell_type": "markdown",
   "source": [
    "# 读取邮件"
   ],
   "metadata": {
    "collapsed": false
   },
   "id": "17fff581b4b4971c"
  },
  {
   "cell_type": "code",
   "execution_count": 134,
   "outputs": [],
   "source": [
    "# 假设的文件路径\n",
    "train_dir = \"train-mails\"\n",
    "test_dir = \"test-mails\"\n",
    "\n",
    "def load_data(directory):\n",
    "    \"\"\" 从指定目录加载邮件数据，返回邮件内容列表和标签列表 \"\"\"\n",
    "    files = os.listdir(directory)\n",
    "    emails = []\n",
    "    labels = []\n",
    "\n",
    "    for file in files:\n",
    "        with open(os.path.join(directory, file), 'r', encoding='utf-8') as f:\n",
    "            email_content = f.read()\n",
    "            # 保留字母并转换为小写\n",
    "            email_content = re.sub('[^a-zA-Z]', ' ', email_content).lower()\n",
    "            emails.append(email_content)\n",
    "            # 根据文件名判断是否为垃圾邮件\n",
    "            labels.append(1 if 'spm' in file else 0)\n",
    "    \n",
    "    return emails, labels"
   ],
   "metadata": {
    "collapsed": false,
    "ExecuteTime": {
     "end_time": "2023-12-07T16:00:31.671625800Z",
     "start_time": "2023-12-07T16:00:31.124653Z"
    }
   },
   "id": "dc3279456d70e02a"
  },
  {
   "cell_type": "markdown",
   "source": [
    "# 加载训练和测试数据"
   ],
   "metadata": {
    "collapsed": false
   },
   "id": "512a3a1c40c4a30f"
  },
  {
   "cell_type": "code",
   "execution_count": 135,
   "outputs": [],
   "source": [
    "train_emails, train_labels = load_data(train_dir)\n",
    "test_emails, test_labels = load_data(test_dir)\n",
    "#train_emails[0],train_labels.count(1), train_labels.count(0)"
   ],
   "metadata": {
    "collapsed": false,
    "ExecuteTime": {
     "end_time": "2023-12-07T16:00:32.271151600Z",
     "start_time": "2023-12-07T16:00:31.154798400Z"
    }
   },
   "id": "e6a51df1ccee1b24"
  },
  {
   "cell_type": "markdown",
   "source": [
    "# 数据处理\n",
    "去除除了字母之外的东西\n",
    "转化为小写\n",
    "制作字典（训练集的字典）和映射"
   ],
   "metadata": {
    "collapsed": false
   },
   "id": "5d1b39bd9927f440"
  },
  {
   "cell_type": "code",
   "execution_count": 136,
   "outputs": [
    {
     "data": {
      "text/plain": "((867, 26137), (291, 26137))"
     },
     "execution_count": 136,
     "metadata": {},
     "output_type": "execute_result"
    }
   ],
   "source": [
    "def text_encoder(emails,word_index_map=None):\n",
    "    num_sample=len(emails)\n",
    "    emails_cleaned=[]\n",
    "    all_words=[]\n",
    "    for email in emails:\n",
    "        cleaned_word=re.sub('[^a-zA-z]', ' ', email).lower()\n",
    "        emails_cleaned.append(cleaned_word)\n",
    "        all_words+=cleaned_word.split()\n",
    "    vocabulary=Counter(all_words)\n",
    "    if word_index_map is None:\n",
    "        word_index_map={word:index for index,word in enumerate(vocabulary.keys())}\n",
    "    \n",
    "    vectors=np.zeros((num_sample,len(word_index_map)))\n",
    "    for i in range(num_sample):\n",
    "        words=emails_cleaned[i].split()\n",
    "        for word in words:\n",
    "            if word in word_index_map:\n",
    "                vectors[i,word_index_map[word]]+=1\n",
    "    return vectors,word_index_map\n",
    "train_features,word_index_map=text_encoder(train_emails)\n",
    "test_features,_=text_encoder(test_emails,word_index_map)#word_index_map传入训练集的字典\n",
    "train_features.shape, test_features.shape"
   ],
   "metadata": {
    "collapsed": false,
    "ExecuteTime": {
     "end_time": "2023-12-07T16:00:33.762392700Z",
     "start_time": "2023-12-07T16:00:32.269150200Z"
    }
   },
   "id": "7e15b323c3c62fcc"
  },
  {
   "cell_type": "code",
   "execution_count": 137,
   "outputs": [
    {
     "data": {
      "text/plain": "((26137,), (26137,))"
     },
     "execution_count": 137,
     "metadata": {},
     "output_type": "execute_result"
    }
   ],
   "source": [
    "#验证数据的大小是否正确\n",
    "train_features[0].shape,train_features[1].shape"
   ],
   "metadata": {
    "collapsed": false,
    "ExecuteTime": {
     "end_time": "2023-12-07T16:00:33.859558900Z",
     "start_time": "2023-12-07T16:00:33.767393900Z"
    }
   },
   "id": "acc4230a0f46c74e"
  },
  {
   "cell_type": "markdown",
   "source": [
    "# 手写朴素贝叶斯\n",
    "#### 先验概率"
   ],
   "metadata": {
    "collapsed": false
   },
   "id": "24d4d4fcc1590f1f"
  },
  {
   "cell_type": "code",
   "execution_count": 138,
   "outputs": [
    {
     "data": {
      "text/plain": "array([0.83391003, 0.16608997])"
     },
     "execution_count": 138,
     "metadata": {},
     "output_type": "execute_result"
    }
   ],
   "source": [
    "prior=np.zeros(2)\n",
    "prior[1]=np.mean(train_labels)\n",
    "prior[0]=1-prior[1]\n",
    "prior#先验概率"
   ],
   "metadata": {
    "collapsed": false,
    "ExecuteTime": {
     "end_time": "2023-12-07T16:00:33.875563800Z",
     "start_time": "2023-12-07T16:00:33.784722800Z"
    }
   },
   "id": "fb6da17d8e94b957"
  },
  {
   "cell_type": "markdown",
   "source": [
    "#### 条件概率"
   ],
   "metadata": {
    "collapsed": false
   },
   "id": "e586fb7db2537542"
  },
  {
   "cell_type": "code",
   "execution_count": 139,
   "outputs": [],
   "source": [
    "train_labels=np.array(train_labels)\n",
    "test_labels=np.array(test_labels)\n",
    "cond_prob=np.zeros((train_features.shape[1],2))#train_features.shape[1]是词汇表的长度"
   ],
   "metadata": {
    "collapsed": false,
    "ExecuteTime": {
     "end_time": "2023-12-07T16:00:33.876565200Z",
     "start_time": "2023-12-07T16:00:33.834224200Z"
    }
   },
   "id": "b8f3d1909944fc19"
  },
  {
   "cell_type": "code",
   "execution_count": 140,
   "outputs": [
    {
     "data": {
      "text/plain": "array([1., 1.])"
     },
     "execution_count": 140,
     "metadata": {},
     "output_type": "execute_result"
    }
   ],
   "source": [
    "for i in range(train_features.shape[1]):\n",
    "    cond_prob[i,1]=np.sum(train_features[:,i]*train_labels)+1\n",
    "    cond_prob[i,0]=np.sum(train_features[:,i]*(1-train_labels))+1\n",
    "\n",
    "#归一化cond_prob\n",
    "cond_prob_std=cond_prob/np.sum(cond_prob,axis=0)\n",
    "cond_prob_std.sum(axis=0)"
   ],
   "metadata": {
    "collapsed": false,
    "ExecuteTime": {
     "end_time": "2023-12-07T16:00:35.250337100Z",
     "start_time": "2023-12-07T16:00:33.849557900Z"
    }
   },
   "id": "d8d259b35d425d89"
  },
  {
   "cell_type": "markdown",
   "source": [
    "#### prediction on Test Set(用取对数之后的后验概率)"
   ],
   "metadata": {
    "collapsed": false
   },
   "id": "e71ba55d0d6cf7e"
  },
  {
   "cell_type": "code",
   "execution_count": 141,
   "outputs": [],
   "source": [
    "predictions=np.zeros(test_features.shape[0])#test_features.shape[0]是测试集的样本数\n",
    "for i in range(test_features.shape[0]):\n",
    "    p1=np.sum(np.log(cond_prob_std[:,1])*test_features[i,:])+np.log(prior[1])\n",
    "    p0=np.sum(np.log(cond_prob_std[:,0])*test_features[i,:])+np.log(prior[0])\n",
    "    if p1>p0:\n",
    "        predictions[i]=1\n",
    "    else:\n",
    "        predictions[i]=0"
   ],
   "metadata": {
    "collapsed": false,
    "ExecuteTime": {
     "end_time": "2023-12-07T16:00:35.526410700Z",
     "start_time": "2023-12-07T16:00:35.251338500Z"
    }
   },
   "id": "744a17c935e5f1f5"
  },
  {
   "cell_type": "markdown",
   "source": [
    "# 求测试集上的正确率"
   ],
   "metadata": {
    "collapsed": false
   },
   "id": "9f99bc3f5f300053"
  },
  {
   "cell_type": "code",
   "execution_count": 142,
   "outputs": [
    {
     "data": {
      "text/plain": "0.993127147766323"
     },
     "execution_count": 142,
     "metadata": {},
     "output_type": "execute_result"
    }
   ],
   "source": [
    "accuracy=np.sum(predictions==test_labels)/test_labels.shape[0]\n",
    "accuracy"
   ],
   "metadata": {
    "collapsed": false,
    "ExecuteTime": {
     "end_time": "2023-12-07T16:00:35.554843300Z",
     "start_time": "2023-12-07T16:00:35.529428800Z"
    }
   },
   "id": "20d9c509d3389c21"
  },
  {
   "cell_type": "markdown",
   "source": [
    "# 求测试集上的F1 index"
   ],
   "metadata": {
    "collapsed": false
   },
   "id": "62098c9cafe0266d"
  },
  {
   "cell_type": "code",
   "execution_count": 143,
   "outputs": [
    {
     "data": {
      "text/plain": "0.9791666666666666"
     },
     "execution_count": 143,
     "metadata": {},
     "output_type": "execute_result"
    }
   ],
   "source": [
    "#F_1score\n",
    "TP=np.sum((predictions==1)&(test_labels==1))\n",
    "FP=np.sum((predictions==1)&(test_labels==0))\n",
    "FN=np.sum((predictions==0)&(test_labels==1))\n",
    "precision=TP/(TP+FP)\n",
    "recall=TP/(TP+FN)\n",
    "f1=2*precision*recall/(precision+recall)\n",
    "f1"
   ],
   "metadata": {
    "collapsed": false,
    "ExecuteTime": {
     "end_time": "2023-12-07T16:00:35.644877500Z",
     "start_time": "2023-12-07T16:00:35.551474100Z"
    }
   },
   "id": "38504c3d8d72468f"
  },
  {
   "cell_type": "markdown",
   "source": [
    "# 打印测试集的部分label看看和我的预测是不是一样"
   ],
   "metadata": {
    "collapsed": false
   },
   "id": "5b556f5dd8025e7e"
  },
  {
   "cell_type": "code",
   "execution_count": 144,
   "outputs": [
    {
     "data": {
      "text/plain": "     label  prediction\n281      1         1.0\n282      1         1.0\n283      1         1.0\n284      1         1.0\n285      1         1.0\n286      1         1.0\n287      1         1.0\n288      1         1.0\n289      1         1.0\n290      1         1.0",
      "text/html": "<div>\n<style scoped>\n    .dataframe tbody tr th:only-of-type {\n        vertical-align: middle;\n    }\n\n    .dataframe tbody tr th {\n        vertical-align: top;\n    }\n\n    .dataframe thead th {\n        text-align: right;\n    }\n</style>\n<table border=\"1\" class=\"dataframe\">\n  <thead>\n    <tr style=\"text-align: right;\">\n      <th></th>\n      <th>label</th>\n      <th>prediction</th>\n    </tr>\n  </thead>\n  <tbody>\n    <tr>\n      <th>281</th>\n      <td>1</td>\n      <td>1.0</td>\n    </tr>\n    <tr>\n      <th>282</th>\n      <td>1</td>\n      <td>1.0</td>\n    </tr>\n    <tr>\n      <th>283</th>\n      <td>1</td>\n      <td>1.0</td>\n    </tr>\n    <tr>\n      <th>284</th>\n      <td>1</td>\n      <td>1.0</td>\n    </tr>\n    <tr>\n      <th>285</th>\n      <td>1</td>\n      <td>1.0</td>\n    </tr>\n    <tr>\n      <th>286</th>\n      <td>1</td>\n      <td>1.0</td>\n    </tr>\n    <tr>\n      <th>287</th>\n      <td>1</td>\n      <td>1.0</td>\n    </tr>\n    <tr>\n      <th>288</th>\n      <td>1</td>\n      <td>1.0</td>\n    </tr>\n    <tr>\n      <th>289</th>\n      <td>1</td>\n      <td>1.0</td>\n    </tr>\n    <tr>\n      <th>290</th>\n      <td>1</td>\n      <td>1.0</td>\n    </tr>\n  </tbody>\n</table>\n</div>"
     },
     "execution_count": 144,
     "metadata": {},
     "output_type": "execute_result"
    }
   ],
   "source": [
    "df_pred=pd.DataFrame({'label':test_labels, 'prediction':predictions})\n",
    "df_pred.iloc[-10:,:]"
   ],
   "metadata": {
    "collapsed": false,
    "ExecuteTime": {
     "end_time": "2023-12-07T16:00:35.647877300Z",
     "start_time": "2023-12-07T16:00:35.590590Z"
    }
   },
   "id": "ee04d1a30cdbb60d"
  },
  {
   "cell_type": "markdown",
   "source": [
    "# 用sklearn库看看他能达到怎样的效果，和我的比比"
   ],
   "metadata": {
    "collapsed": false
   },
   "id": "f5614e177a908e51"
  },
  {
   "cell_type": "code",
   "execution_count": 145,
   "outputs": [
    {
     "data": {
      "text/plain": "MultinomialNB()",
      "text/html": "<style>#sk-container-id-7 {color: black;}#sk-container-id-7 pre{padding: 0;}#sk-container-id-7 div.sk-toggleable {background-color: white;}#sk-container-id-7 label.sk-toggleable__label {cursor: pointer;display: block;width: 100%;margin-bottom: 0;padding: 0.3em;box-sizing: border-box;text-align: center;}#sk-container-id-7 label.sk-toggleable__label-arrow:before {content: \"▸\";float: left;margin-right: 0.25em;color: #696969;}#sk-container-id-7 label.sk-toggleable__label-arrow:hover:before {color: black;}#sk-container-id-7 div.sk-estimator:hover label.sk-toggleable__label-arrow:before {color: black;}#sk-container-id-7 div.sk-toggleable__content {max-height: 0;max-width: 0;overflow: hidden;text-align: left;background-color: #f0f8ff;}#sk-container-id-7 div.sk-toggleable__content pre {margin: 0.2em;color: black;border-radius: 0.25em;background-color: #f0f8ff;}#sk-container-id-7 input.sk-toggleable__control:checked~div.sk-toggleable__content {max-height: 200px;max-width: 100%;overflow: auto;}#sk-container-id-7 input.sk-toggleable__control:checked~label.sk-toggleable__label-arrow:before {content: \"▾\";}#sk-container-id-7 div.sk-estimator input.sk-toggleable__control:checked~label.sk-toggleable__label {background-color: #d4ebff;}#sk-container-id-7 div.sk-label input.sk-toggleable__control:checked~label.sk-toggleable__label {background-color: #d4ebff;}#sk-container-id-7 input.sk-hidden--visually {border: 0;clip: rect(1px 1px 1px 1px);clip: rect(1px, 1px, 1px, 1px);height: 1px;margin: -1px;overflow: hidden;padding: 0;position: absolute;width: 1px;}#sk-container-id-7 div.sk-estimator {font-family: monospace;background-color: #f0f8ff;border: 1px dotted black;border-radius: 0.25em;box-sizing: border-box;margin-bottom: 0.5em;}#sk-container-id-7 div.sk-estimator:hover {background-color: #d4ebff;}#sk-container-id-7 div.sk-parallel-item::after {content: \"\";width: 100%;border-bottom: 1px solid gray;flex-grow: 1;}#sk-container-id-7 div.sk-label:hover label.sk-toggleable__label {background-color: #d4ebff;}#sk-container-id-7 div.sk-serial::before {content: \"\";position: absolute;border-left: 1px solid gray;box-sizing: border-box;top: 0;bottom: 0;left: 50%;z-index: 0;}#sk-container-id-7 div.sk-serial {display: flex;flex-direction: column;align-items: center;background-color: white;padding-right: 0.2em;padding-left: 0.2em;position: relative;}#sk-container-id-7 div.sk-item {position: relative;z-index: 1;}#sk-container-id-7 div.sk-parallel {display: flex;align-items: stretch;justify-content: center;background-color: white;position: relative;}#sk-container-id-7 div.sk-item::before, #sk-container-id-7 div.sk-parallel-item::before {content: \"\";position: absolute;border-left: 1px solid gray;box-sizing: border-box;top: 0;bottom: 0;left: 50%;z-index: -1;}#sk-container-id-7 div.sk-parallel-item {display: flex;flex-direction: column;z-index: 1;position: relative;background-color: white;}#sk-container-id-7 div.sk-parallel-item:first-child::after {align-self: flex-end;width: 50%;}#sk-container-id-7 div.sk-parallel-item:last-child::after {align-self: flex-start;width: 50%;}#sk-container-id-7 div.sk-parallel-item:only-child::after {width: 0;}#sk-container-id-7 div.sk-dashed-wrapped {border: 1px dashed gray;margin: 0 0.4em 0.5em 0.4em;box-sizing: border-box;padding-bottom: 0.4em;background-color: white;}#sk-container-id-7 div.sk-label label {font-family: monospace;font-weight: bold;display: inline-block;line-height: 1.2em;}#sk-container-id-7 div.sk-label-container {text-align: center;}#sk-container-id-7 div.sk-container {/* jupyter's `normalize.less` sets `[hidden] { display: none; }` but bootstrap.min.css set `[hidden] { display: none !important; }` so we also need the `!important` here to be able to override the default hidden behavior on the sphinx rendered scikit-learn.org. See: https://github.com/scikit-learn/scikit-learn/issues/21755 */display: inline-block !important;position: relative;}#sk-container-id-7 div.sk-text-repr-fallback {display: none;}</style><div id=\"sk-container-id-7\" class=\"sk-top-container\"><div class=\"sk-text-repr-fallback\"><pre>MultinomialNB()</pre><b>In a Jupyter environment, please rerun this cell to show the HTML representation or trust the notebook. <br />On GitHub, the HTML representation is unable to render, please try loading this page with nbviewer.org.</b></div><div class=\"sk-container\" hidden><div class=\"sk-item\"><div class=\"sk-estimator sk-toggleable\"><input class=\"sk-toggleable__control sk-hidden--visually\" id=\"sk-estimator-id-7\" type=\"checkbox\" checked><label for=\"sk-estimator-id-7\" class=\"sk-toggleable__label sk-toggleable__label-arrow\">MultinomialNB</label><div class=\"sk-toggleable__content\"><pre>MultinomialNB()</pre></div></div></div></div></div>"
     },
     "execution_count": 145,
     "metadata": {},
     "output_type": "execute_result"
    }
   ],
   "source": [
    "# 训练朴素贝叶斯分类器\n",
    "classifier = MultinomialNB()\n",
    "classifier.fit(train_features, train_labels)"
   ],
   "metadata": {
    "collapsed": false,
    "ExecuteTime": {
     "end_time": "2023-12-07T16:00:35.767868700Z",
     "start_time": "2023-12-07T16:00:35.614874200Z"
    }
   },
   "id": "b559968ac22a22b3"
  },
  {
   "cell_type": "code",
   "execution_count": 146,
   "outputs": [
    {
     "data": {
      "text/plain": "(0.993127147766323, 0.9791666666666666)"
     },
     "execution_count": 146,
     "metadata": {},
     "output_type": "execute_result"
    }
   ],
   "source": [
    "# 预测测试数据\n",
    "predictions = classifier.predict(test_features)\n",
    "\n",
    "# 计算准确率和 F1 分数\n",
    "accuracy = accuracy_score(test_labels, predictions)\n",
    "f1 = f1_score(test_labels, predictions)\n",
    "\n",
    "accuracy, f1"
   ],
   "metadata": {
    "collapsed": false,
    "ExecuteTime": {
     "end_time": "2023-12-07T16:00:35.891108400Z",
     "start_time": "2023-12-07T16:00:35.709182900Z"
    }
   },
   "id": "8f37723624bee872"
  },
  {
   "cell_type": "code",
   "execution_count": 147,
   "outputs": [
    {
     "data": {
      "text/plain": "     label  prediction\n271      1           1\n272      1           1\n273      1           0\n274      1           1\n275      1           1\n276      1           1\n277      1           1\n278      1           1\n279      1           1\n280      1           1\n281      1           1\n282      1           1\n283      1           1\n284      1           1\n285      1           1\n286      1           1\n287      1           1\n288      1           1\n289      1           1\n290      1           1",
      "text/html": "<div>\n<style scoped>\n    .dataframe tbody tr th:only-of-type {\n        vertical-align: middle;\n    }\n\n    .dataframe tbody tr th {\n        vertical-align: top;\n    }\n\n    .dataframe thead th {\n        text-align: right;\n    }\n</style>\n<table border=\"1\" class=\"dataframe\">\n  <thead>\n    <tr style=\"text-align: right;\">\n      <th></th>\n      <th>label</th>\n      <th>prediction</th>\n    </tr>\n  </thead>\n  <tbody>\n    <tr>\n      <th>271</th>\n      <td>1</td>\n      <td>1</td>\n    </tr>\n    <tr>\n      <th>272</th>\n      <td>1</td>\n      <td>1</td>\n    </tr>\n    <tr>\n      <th>273</th>\n      <td>1</td>\n      <td>0</td>\n    </tr>\n    <tr>\n      <th>274</th>\n      <td>1</td>\n      <td>1</td>\n    </tr>\n    <tr>\n      <th>275</th>\n      <td>1</td>\n      <td>1</td>\n    </tr>\n    <tr>\n      <th>276</th>\n      <td>1</td>\n      <td>1</td>\n    </tr>\n    <tr>\n      <th>277</th>\n      <td>1</td>\n      <td>1</td>\n    </tr>\n    <tr>\n      <th>278</th>\n      <td>1</td>\n      <td>1</td>\n    </tr>\n    <tr>\n      <th>279</th>\n      <td>1</td>\n      <td>1</td>\n    </tr>\n    <tr>\n      <th>280</th>\n      <td>1</td>\n      <td>1</td>\n    </tr>\n    <tr>\n      <th>281</th>\n      <td>1</td>\n      <td>1</td>\n    </tr>\n    <tr>\n      <th>282</th>\n      <td>1</td>\n      <td>1</td>\n    </tr>\n    <tr>\n      <th>283</th>\n      <td>1</td>\n      <td>1</td>\n    </tr>\n    <tr>\n      <th>284</th>\n      <td>1</td>\n      <td>1</td>\n    </tr>\n    <tr>\n      <th>285</th>\n      <td>1</td>\n      <td>1</td>\n    </tr>\n    <tr>\n      <th>286</th>\n      <td>1</td>\n      <td>1</td>\n    </tr>\n    <tr>\n      <th>287</th>\n      <td>1</td>\n      <td>1</td>\n    </tr>\n    <tr>\n      <th>288</th>\n      <td>1</td>\n      <td>1</td>\n    </tr>\n    <tr>\n      <th>289</th>\n      <td>1</td>\n      <td>1</td>\n    </tr>\n    <tr>\n      <th>290</th>\n      <td>1</td>\n      <td>1</td>\n    </tr>\n  </tbody>\n</table>\n</div>"
     },
     "execution_count": 147,
     "metadata": {},
     "output_type": "execute_result"
    }
   ],
   "source": [
    "#把测试数据的label和预测结果放在一起\n",
    "import pandas as pd\n",
    "test_result = pd.DataFrame({'label':test_labels, 'prediction':predictions})\n",
    "test_result.iloc[-20:,:]"
   ],
   "metadata": {
    "collapsed": false,
    "ExecuteTime": {
     "end_time": "2023-12-07T16:00:35.926862500Z",
     "start_time": "2023-12-07T16:00:35.755867Z"
    }
   },
   "id": "a10a2817b470c780"
  },
  {
   "cell_type": "code",
   "execution_count": 148,
   "outputs": [
    {
     "data": {
      "text/plain": "    label  prediction\n0       0           0\n1       0           0\n2       0           0\n3       0           0\n4       0           0\n5       0           0\n6       0           0\n7       0           0\n8       0           0\n9       0           0\n10      0           0\n11      0           0\n12      0           0\n13      0           0\n14      0           0\n15      0           0\n16      0           0\n17      0           0\n18      0           0\n19      0           0",
      "text/html": "<div>\n<style scoped>\n    .dataframe tbody tr th:only-of-type {\n        vertical-align: middle;\n    }\n\n    .dataframe tbody tr th {\n        vertical-align: top;\n    }\n\n    .dataframe thead th {\n        text-align: right;\n    }\n</style>\n<table border=\"1\" class=\"dataframe\">\n  <thead>\n    <tr style=\"text-align: right;\">\n      <th></th>\n      <th>label</th>\n      <th>prediction</th>\n    </tr>\n  </thead>\n  <tbody>\n    <tr>\n      <th>0</th>\n      <td>0</td>\n      <td>0</td>\n    </tr>\n    <tr>\n      <th>1</th>\n      <td>0</td>\n      <td>0</td>\n    </tr>\n    <tr>\n      <th>2</th>\n      <td>0</td>\n      <td>0</td>\n    </tr>\n    <tr>\n      <th>3</th>\n      <td>0</td>\n      <td>0</td>\n    </tr>\n    <tr>\n      <th>4</th>\n      <td>0</td>\n      <td>0</td>\n    </tr>\n    <tr>\n      <th>5</th>\n      <td>0</td>\n      <td>0</td>\n    </tr>\n    <tr>\n      <th>6</th>\n      <td>0</td>\n      <td>0</td>\n    </tr>\n    <tr>\n      <th>7</th>\n      <td>0</td>\n      <td>0</td>\n    </tr>\n    <tr>\n      <th>8</th>\n      <td>0</td>\n      <td>0</td>\n    </tr>\n    <tr>\n      <th>9</th>\n      <td>0</td>\n      <td>0</td>\n    </tr>\n    <tr>\n      <th>10</th>\n      <td>0</td>\n      <td>0</td>\n    </tr>\n    <tr>\n      <th>11</th>\n      <td>0</td>\n      <td>0</td>\n    </tr>\n    <tr>\n      <th>12</th>\n      <td>0</td>\n      <td>0</td>\n    </tr>\n    <tr>\n      <th>13</th>\n      <td>0</td>\n      <td>0</td>\n    </tr>\n    <tr>\n      <th>14</th>\n      <td>0</td>\n      <td>0</td>\n    </tr>\n    <tr>\n      <th>15</th>\n      <td>0</td>\n      <td>0</td>\n    </tr>\n    <tr>\n      <th>16</th>\n      <td>0</td>\n      <td>0</td>\n    </tr>\n    <tr>\n      <th>17</th>\n      <td>0</td>\n      <td>0</td>\n    </tr>\n    <tr>\n      <th>18</th>\n      <td>0</td>\n      <td>0</td>\n    </tr>\n    <tr>\n      <th>19</th>\n      <td>0</td>\n      <td>0</td>\n    </tr>\n  </tbody>\n</table>\n</div>"
     },
     "execution_count": 148,
     "metadata": {},
     "output_type": "execute_result"
    }
   ],
   "source": [
    "test_result.iloc[:20,:]"
   ],
   "metadata": {
    "collapsed": false,
    "ExecuteTime": {
     "end_time": "2023-12-07T16:00:36.043992500Z",
     "start_time": "2023-12-07T16:00:35.777743400Z"
    }
   },
   "id": "6c65ad823500b5c6"
  }
 ],
 "metadata": {
  "kernelspec": {
   "display_name": "Python 3",
   "language": "python",
   "name": "python3"
  },
  "language_info": {
   "codemirror_mode": {
    "name": "ipython",
    "version": 2
   },
   "file_extension": ".py",
   "mimetype": "text/x-python",
   "name": "python",
   "nbconvert_exporter": "python",
   "pygments_lexer": "ipython2",
   "version": "2.7.6"
  }
 },
 "nbformat": 4,
 "nbformat_minor": 5
}
