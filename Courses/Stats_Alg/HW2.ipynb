{
 "cells": [
  {
   "cell_type": "markdown",
   "source": [
    "# Question 1\n",
    "![](./img/2_1.png)"
   ],
   "metadata": {
    "collapsed": false
   },
   "id": "f52c88ee9a6ab512"
  },
  {
   "cell_type": "markdown",
   "source": [
    "记$X$~ $T(\\mu,\\Sigma;p)$,我们有 $Z=diag(\\Sigma)^{-1/2}(X-\\mu)$~$T(0,M;p)$,其中 $M=diag(\\Sigma)^{-1/2}\\Sigma diag(\\Sigma)^{-1/2}$\n",
    "\n",
    " 由Lemma1可知X与Z的Copula一致，进而X的Copula完全由矩阵$M=diag(\\Sigma)^{-1/2}\\Sigma diag(\\Sigma)^{-1/2}$确定"
   ],
   "metadata": {
    "collapsed": false
   },
   "id": "bcdae472eb50ebd1"
  },
  {
   "cell_type": "markdown",
   "source": [
    "# Question 2\n",
    "![](./img/2_2.png)"
   ],
   "metadata": {
    "collapsed": false
   },
   "id": "307182ee13e0e910"
  },
  {
   "cell_type": "markdown",
   "source": [
    "由$$\\tilde F(z):=P(T(X)\\leq z)=P(X\\leq T^{-1}(z))=F\\circ T^{-1}(z)$$同理有$$\\tilde F(z_1,...,z_p)=F(T_1^{-1}(z_1),...,T_p^{-1}(z_p))$$$$\\tilde F_i=F_1\\circ T_i^{-1}$$\n",
    "\n",
    "进而由Lemma1可知：$(T_1(X_1),...,T_p(X_p))$的Copula为$$\\tilde C(u_1,...,u_p)=\\tilde F(\\tilde F_1^{-1}(u_1),...,\\tilde F_p^{-1}(u_p))$$$$=F(T_1^{-1}(T_1\\circ F_1^{-1}(u_1)),...,T_p^{-1} (T_p\\circ F_p^{-1}(u_p)))=F(F_1^{-1}(u_1),...,F_p^{-1}(u_p))$$$$=C(u_1,...,u_p)$$\n",
    "\n",
    "进而二者Copula相同"
   ],
   "metadata": {
    "collapsed": false
   },
   "id": "26e6f9bdb9d607d8"
  },
  {
   "cell_type": "code",
   "execution_count": 2,
   "outputs": [],
   "source": [
    "import numpy as np\n",
    "import matplotlib.pyplot as plt"
   ],
   "metadata": {
    "collapsed": false,
    "ExecuteTime": {
     "end_time": "2023-11-01T12:45:28.187062300Z",
     "start_time": "2023-11-01T12:45:28.137748500Z"
    }
   },
   "id": "26af4827f6950493"
  },
  {
   "cell_type": "markdown",
   "source": [
    "# Question 3\n",
    "![](./img/2_3.png)"
   ],
   "metadata": {
    "collapsed": false
   },
   "id": "6b915137dbf25dc6"
  },
  {
   "cell_type": "markdown",
   "source": [
    "### (1)\n",
    "使得$\\Sigma_{i}^{m} I_{\\{X_i>4.5\\}}\\ge1$的最小的m即为所求，我们知道$\\hat\\theta=\\Sigma_{i}^{m} I_{\\{X_i>4.5\\}}/m$,\n",
    "\n",
    "在大样本情形下，认为$\\theta=\\hat\\theta$,进而$m\\theta\\ge1$当且仅当$m\\ge\\frac{1}{\\theta}\\approx294291$"
   ],
   "metadata": {
    "collapsed": false
   },
   "id": "323972daa0a66ef0"
  },
  {
   "cell_type": "code",
   "execution_count": 3,
   "outputs": [
    {
     "name": "stdout",
     "output_type": "stream",
     "text": [
      "对于theta的估计为3.398e-06,标准差为4.473e-06\n",
      "绝对误差为-2.615e-11,相对误差为-7.697e-06\n"
     ]
    }
   ],
   "source": [
    "#(2)\n",
    "N=1000\n",
    "np.random.seed(1)\n",
    "V=np.random.exponential(1,N)\n",
    "W=V+4.5\n",
    "def g(x):\n",
    "    return np.exp(-x**2/2+x-4.5)/np.sqrt(2*np.pi)\n",
    "print(f'对于theta的估计为{g(W).mean():.3e},标准差为{g(W).std():.3e}')\n",
    "print(f'绝对误差为{g(W).mean()-3.398e-6:.3e},相对误差为{g(W).mean()/3.398e-6-1:.3e}')"
   ],
   "metadata": {
    "collapsed": false,
    "ExecuteTime": {
     "end_time": "2023-11-01T12:45:28.290639300Z",
     "start_time": "2023-11-01T12:45:28.161764100Z"
    }
   },
   "id": "f41e28c671818cb6"
  },
  {
   "cell_type": "markdown",
   "source": [
    "# Question 4\n",
    "![](./img/2_4.png)"
   ],
   "metadata": {
    "collapsed": false
   },
   "id": "d43081996b478072"
  },
  {
   "cell_type": "code",
   "execution_count": 4,
   "outputs": [
    {
     "name": "stdout",
     "output_type": "stream",
     "text": [
      "简单Monte-Carlo求积分：4.9148e+00\n",
      "样本标准差：6.03\n",
      "对偶变量法求积分：4.9203e+00\n",
      "样本标准差：3.42\n",
      "方差缩减百分比67.90%\n"
     ]
    }
   ],
   "source": [
    "def f(x,y):\n",
    "    return np.exp((x+y)**2)\n",
    "N=100000\n",
    "np.random.seed(1)\n",
    "X=np.random.uniform(0,1,N)\n",
    "np.random.seed(np.random.randint(1))\n",
    "Y=np.random.uniform(0,1,N)\n",
    "simple_sample=f(X,Y)\n",
    "print(f'简单Monte-Carlo求积分：{simple_sample.mean():.4e}')\n",
    "print(f'样本标准差：{simple_sample.std():.2f}')\n",
    "#对偶变量法\n",
    "dual_sample=(f(1-X,1-Y)+f(X,Y))/2\n",
    "print(f'对偶变量法求积分：{dual_sample.mean():.4e}')\n",
    "print(f'样本标准差：{dual_sample.std():.2f}')\n",
    "print(f'方差缩减百分比{(simple_sample.var()-dual_sample.var())/simple_sample.var()*100:.2f}%')"
   ],
   "metadata": {
    "collapsed": false,
    "ExecuteTime": {
     "end_time": "2023-11-01T12:45:28.326644200Z",
     "start_time": "2023-11-01T12:45:28.183061400Z"
    }
   },
   "id": "9fc5df465c9a4c7b"
  },
  {
   "cell_type": "code",
   "execution_count": 5,
   "outputs": [
    {
     "name": "stdout",
     "output_type": "stream",
     "text": [
      "用库函数直接求积分检验之前求的的答案，库函数积分结果：4.899e+00\n"
     ]
    }
   ],
   "source": [
    "#计算积分exp((x+y)^2)在[0,1]^2上的积分\n",
    "import numpy as np\n",
    "import matplotlib.pyplot as plt\n",
    "from scipy import integrate\n",
    "def f(x,y):\n",
    "    return np.exp((x+y)**2)\n",
    "print(f'用库函数直接求积分检验之前求的的答案，库函数积分结果：{integrate.dblquad(f,0,1,lambda x:0,lambda x:1)[0]:.3e}')"
   ],
   "metadata": {
    "collapsed": false,
    "ExecuteTime": {
     "end_time": "2023-11-01T12:45:29.380400900Z",
     "start_time": "2023-11-01T12:45:28.226616400Z"
    }
   },
   "id": "c18f35c940cfd963"
  },
  {
   "cell_type": "markdown",
   "source": [
    "# Question 5\n",
    "![](./img/2_5.png)"
   ],
   "metadata": {
    "collapsed": false
   },
   "id": "f00ef90eb4dc63e9"
  },
  {
   "cell_type": "code",
   "execution_count": 6,
   "outputs": [
    {
     "name": "stdout",
     "output_type": "stream",
     "text": [
      "对theta的估计为1.7181\n",
      "样本标准差：0.49\n",
      "对偶变量法求积分：1.7182\n",
      "样本标准差：0.06\n",
      "方差缩减百分比98.38%\n"
     ]
    }
   ],
   "source": [
    "#\n",
    "N=1000000\n",
    "np.random.seed(1)\n",
    "U=np.random.uniform(0,1,N)\n",
    "theta_hat=np.exp(U).mean()\n",
    "print(f'对theta的估计为{theta_hat:.4f}')\n",
    "print(f'样本标准差：{np.exp(U).std():.2f}')\n",
    "#对偶变量法\n",
    "U_tilde=(np.exp(1-U)+np.exp(U))/2\n",
    "print(f'对偶变量法求积分：{U_tilde.mean():.4f}')\n",
    "print(f'样本标准差：{U_tilde.std():.2f}')\n",
    "print(f'方差缩减百分比{(np.exp(U).var()-U_tilde.var())/np.exp(U).var()*100:.2f}%')"
   ],
   "metadata": {
    "collapsed": false,
    "ExecuteTime": {
     "end_time": "2023-11-01T12:45:29.561778200Z",
     "start_time": "2023-11-01T12:45:29.366606900Z"
    }
   },
   "id": "b2a6412e92253adf"
  },
  {
   "cell_type": "code",
   "execution_count": 7,
   "outputs": [
    {
     "name": "stdout",
     "output_type": "stream",
     "text": [
      "下面求出题目要求的两个值：\n",
      "cov(exp(U),exp(1-U))=-0.2340\n",
      "Var(exp(U)+exp(1-U))=0.0156\n"
     ]
    }
   ],
   "source": [
    "#下求cov(exp(U),exp(1-))；Var(exp(U)+exp(1-U))\n",
    "print(f'下面求出题目要求的两个值：\\ncov(exp(U),exp(1-U))={np.cov(np.exp(U),np.exp(1-U))[0,1]:.4f}')\n",
    "print(f'Var(exp(U)+exp(1-U))={np.var(np.exp(U)+np.exp(1-U)):.4f}')"
   ],
   "metadata": {
    "collapsed": false,
    "ExecuteTime": {
     "end_time": "2023-11-01T12:45:29.741312500Z",
     "start_time": "2023-11-01T12:45:29.546382300Z"
    }
   },
   "id": "398600a108f1512d"
  },
  {
   "cell_type": "markdown",
   "source": [
    "# Question 6\n",
    "![](./img/2_6.png)"
   ],
   "metadata": {
    "collapsed": false
   },
   "id": "76b7addcb7e404ff"
  },
  {
   "cell_type": "code",
   "execution_count": 8,
   "outputs": [
    {
     "name": "stdout",
     "output_type": "stream",
     "text": [
      "用重要抽样法积分为：4.0068e-01\n"
     ]
    }
   ],
   "source": [
    "def f(x):\n",
    "    return x**2*(x>1)\n",
    "N=1000000\n",
    "np.random.seed(1)\n",
    "X=np.random.randn(N)\n",
    "print(f'用重要抽样法积分为：{f(X).mean():.4e}')"
   ],
   "metadata": {
    "collapsed": false,
    "ExecuteTime": {
     "end_time": "2023-11-01T12:45:29.857293300Z",
     "start_time": "2023-11-01T12:45:29.737055600Z"
    }
   },
   "id": "80ee497b351141bb"
  },
  {
   "cell_type": "code",
   "execution_count": 9,
   "outputs": [
    {
     "name": "stdout",
     "output_type": "stream",
     "text": [
      "用库函数直接求积分检验之前求的的答案，库函数积分结果：4.0063e-01\n"
     ]
    }
   ],
   "source": [
    "#用库函数直接积分x^2*exp(-x^2/2)/sqrt(2*pi)在区间[1,inf)上的积分\n",
    "from scipy import integrate\n",
    "print(f'用库函数直接求积分检验之前求的的答案，库函数积分结果：'\n",
    "      f'{integrate.quad(lambda x:x**2*np.exp(-x**2/2)/np.sqrt(2*np.pi),1,np.inf)[0]:.4e}')"
   ],
   "metadata": {
    "collapsed": false,
    "ExecuteTime": {
     "end_time": "2023-11-01T12:45:29.857293300Z",
     "start_time": "2023-11-01T12:45:29.845129600Z"
    }
   },
   "id": "919c1dfc846b141e"
  }
 ],
 "metadata": {
  "kernelspec": {
   "display_name": "Python 3",
   "language": "python",
   "name": "python3"
  },
  "language_info": {
   "codemirror_mode": {
    "name": "ipython",
    "version": 2
   },
   "file_extension": ".py",
   "mimetype": "text/x-python",
   "name": "python",
   "nbconvert_exporter": "python",
   "pygments_lexer": "ipython2",
   "version": "2.7.6"
  }
 },
 "nbformat": 4,
 "nbformat_minor": 5
}
